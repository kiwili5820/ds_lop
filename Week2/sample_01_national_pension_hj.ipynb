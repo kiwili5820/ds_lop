{
  "nbformat": 4,
  "nbformat_minor": 0,
  "metadata": {
    "kernelspec": {
      "display_name": "Environment (conda_tensorflow_p36)",
      "language": "python",
      "name": "conda_tensorflow_p36"
    },
    "language_info": {
      "codemirror_mode": {
        "name": "ipython",
        "version": 3
      },
      "file_extension": ".py",
      "mimetype": "text/x-python",
      "name": "python",
      "nbconvert_exporter": "python",
      "pygments_lexer": "ipython3",
      "version": "3.6.5"
    },
    "colab": {
      "name": "sample-01-national-pension-hj",
      "provenance": [],
      "collapsed_sections": [
        "AfYRotuG8U-R",
        "EfGRSs8F8U-e",
        "ItF2lB8X8U-8",
        "_x9yH7lv8U-9",
        "RdJUJAwt8U_B",
        "5NSqLEDA8U_F",
        "TAK67SCJ8U_J",
        "CjVf-1Hs8U_Z",
        "9RnnHjbi8U_b",
        "L9DsUzHD8U_r",
        "IG9zpmLo8VAf",
        "WXyt6Pcv8VAp",
        "nTVUS2sV8VBO"
      ]
    }
  },
  "cells": [
    {
      "cell_type": "markdown",
      "metadata": {
        "id": "GXZs45-A8U9i",
        "colab_type": "text"
      },
      "source": [
        "## 포스트 코로나 시대의 경제 상황을 국민연금 가입자 오픈데이터를 통해 알아보자?!!"
      ]
    },
    {
      "cell_type": "code",
      "metadata": {
        "id": "lDW1cDnFt5jc",
        "colab_type": "code",
        "colab": {
          "base_uri": "https://localhost:8080/",
          "height": 316
        },
        "outputId": "738aca43-37f5-4837-a725-45596f90a816"
      },
      "source": [
        "!sudo apt-get install -y fonts-nanum\n",
        "!sudo fc-cache -fv\n",
        "!rm ~/.cache/matplotlib -rf\n"
      ],
      "execution_count": 1,
      "outputs": [
        {
          "output_type": "stream",
          "text": [
            "Reading package lists... Done\n",
            "Building dependency tree       \n",
            "Reading state information... Done\n",
            "fonts-nanum is already the newest version (20170925-1).\n",
            "0 upgraded, 0 newly installed, 0 to remove and 11 not upgraded.\n",
            "/usr/share/fonts: caching, new cache contents: 0 fonts, 1 dirs\n",
            "/usr/share/fonts/truetype: caching, new cache contents: 0 fonts, 3 dirs\n",
            "/usr/share/fonts/truetype/humor-sans: caching, new cache contents: 1 fonts, 0 dirs\n",
            "/usr/share/fonts/truetype/liberation: caching, new cache contents: 16 fonts, 0 dirs\n",
            "/usr/share/fonts/truetype/nanum: caching, new cache contents: 10 fonts, 0 dirs\n",
            "/usr/local/share/fonts: caching, new cache contents: 0 fonts, 0 dirs\n",
            "/root/.local/share/fonts: skipping, no such directory\n",
            "/root/.fonts: skipping, no such directory\n",
            "/var/cache/fontconfig: cleaning cache directory\n",
            "/root/.cache/fontconfig: not cleaning non-existent cache directory\n",
            "/root/.fontconfig: not cleaning non-existent cache directory\n",
            "fc-cache: succeeded\n"
          ],
          "name": "stdout"
        }
      ]
    },
    {
      "cell_type": "markdown",
      "metadata": {
        "id": "TqClaxea8U9k",
        "colab_type": "text"
      },
      "source": [
        "- 데이터셋: 공공 데이터 포털\n",
        "- 형태: 파일데이터 (csv)\n",
        "- 다운로드: https://www.data.go.kr/data/3046071/fileData.do"
      ]
    },
    {
      "cell_type": "code",
      "metadata": {
        "id": "MfR0d8ZO8U9k",
        "colab_type": "code",
        "colab": {}
      },
      "source": [
        "import pandas as pd\n",
        "import numpy as np\n",
        "import matplotlib.pyplot as plt\n",
        "import seaborn as sns\n",
        "import warnings\n",
        "\n",
        "\n",
        "warnings.filterwarnings('ignore')\n",
        "plt.rc('font', family='NanumBarunGothic') \n",
        "plt.rcParams['figure.figsize'] = (10, 7)\n",
        "\n",
        "pd.set_option('display.float_format', lambda x: '%.2f' % x)\n",
        "\n",
        "%matplotlib inline"
      ],
      "execution_count": 9,
      "outputs": []
    },
    {
      "cell_type": "code",
      "metadata": {
        "id": "TPt06-lM8U9q",
        "colab_type": "code",
        "colab": {}
      },
      "source": [
        "df = pd.read_csv('national_pension_20200824.csv', encoding='cp949')"
      ],
      "execution_count": 10,
      "outputs": []
    },
    {
      "cell_type": "code",
      "metadata": {
        "id": "jmv2Hqrn8U9u",
        "colab_type": "code",
        "colab": {
          "base_uri": "https://localhost:8080/",
          "height": 1000
        },
        "outputId": "f373094d-9d33-4ad8-c92b-4309f42e9364"
      },
      "source": [
        "df.head()"
      ],
      "execution_count": 64,
      "outputs": [
        {
          "output_type": "execute_result",
          "data": {
            "text/html": [
              "<div>\n",
              "<style scoped>\n",
              "    .dataframe tbody tr th:only-of-type {\n",
              "        vertical-align: middle;\n",
              "    }\n",
              "\n",
              "    .dataframe tbody tr th {\n",
              "        vertical-align: top;\n",
              "    }\n",
              "\n",
              "    .dataframe thead th {\n",
              "        text-align: right;\n",
              "    }\n",
              "</style>\n",
              "<table border=\"1\" class=\"dataframe\">\n",
              "  <thead>\n",
              "    <tr style=\"text-align: right;\">\n",
              "      <th></th>\n",
              "      <th>자료생성년월</th>\n",
              "      <th>사업장명</th>\n",
              "      <th>사업자번호</th>\n",
              "      <th>가입상태</th>\n",
              "      <th>우편번호</th>\n",
              "      <th>지번주소</th>\n",
              "      <th>도로명주소</th>\n",
              "      <th>법정주소코드</th>\n",
              "      <th>행정주소코드</th>\n",
              "      <th>광역시코드</th>\n",
              "      <th>시군구코드</th>\n",
              "      <th>읍면동코드</th>\n",
              "      <th>사업장형태</th>\n",
              "      <th>업종코드</th>\n",
              "      <th>업종코드명</th>\n",
              "      <th>적용일</th>\n",
              "      <th>재등록일</th>\n",
              "      <th>탈퇴일</th>\n",
              "      <th>가입자수</th>\n",
              "      <th>고지금액</th>\n",
              "      <th>신규</th>\n",
              "      <th>상실</th>\n",
              "      <th>인당고지금액</th>\n",
              "      <th>평균월급</th>\n",
              "      <th>평균연봉</th>\n",
              "    </tr>\n",
              "  </thead>\n",
              "  <tbody>\n",
              "    <tr>\n",
              "      <th>0</th>\n",
              "      <td>202007</td>\n",
              "      <td>우성기전</td>\n",
              "      <td>126811</td>\n",
              "      <td>1</td>\n",
              "      <td>12816</td>\n",
              "      <td>경기도 광주시 도척면</td>\n",
              "      <td>경기도 광주시 도척면 도척윗로</td>\n",
              "      <td>4161033025</td>\n",
              "      <td>4161033025</td>\n",
              "      <td>41</td>\n",
              "      <td>610</td>\n",
              "      <td>330</td>\n",
              "      <td>1</td>\n",
              "      <td>292201</td>\n",
              "      <td>동력식 수지 공구 제조업</td>\n",
              "      <td>19880101</td>\n",
              "      <td>10101</td>\n",
              "      <td>10101</td>\n",
              "      <td>5</td>\n",
              "      <td>792720</td>\n",
              "      <td>0.00</td>\n",
              "      <td>0.00</td>\n",
              "      <td>158544.00</td>\n",
              "      <td>1761600.00</td>\n",
              "      <td>21139200.00</td>\n",
              "    </tr>\n",
              "    <tr>\n",
              "      <th>1</th>\n",
              "      <td>202007</td>\n",
              "      <td>서능공원묘지운영회</td>\n",
              "      <td>102820</td>\n",
              "      <td>1</td>\n",
              "      <td>11191</td>\n",
              "      <td>경기도 포천시 내촌면</td>\n",
              "      <td></td>\n",
              "      <td>4165032022</td>\n",
              "      <td>4165032022</td>\n",
              "      <td>41</td>\n",
              "      <td>650</td>\n",
              "      <td>320</td>\n",
              "      <td>1</td>\n",
              "      <td>701700</td>\n",
              "      <td>화장터 운영  묘지 분양 및 관리업</td>\n",
              "      <td>19880101</td>\n",
              "      <td>10101</td>\n",
              "      <td>10101</td>\n",
              "      <td>13</td>\n",
              "      <td>3278460</td>\n",
              "      <td>0.00</td>\n",
              "      <td>0.00</td>\n",
              "      <td>252189.23</td>\n",
              "      <td>2802102.56</td>\n",
              "      <td>33625230.77</td>\n",
              "    </tr>\n",
              "    <tr>\n",
              "      <th>2</th>\n",
              "      <td>202007</td>\n",
              "      <td>노들새마을금고</td>\n",
              "      <td>108820</td>\n",
              "      <td>1</td>\n",
              "      <td>6923</td>\n",
              "      <td>서울특별시 동작구 노량진동</td>\n",
              "      <td>서울특별시 동작구 만양로</td>\n",
              "      <td>1159010100</td>\n",
              "      <td>1159051000</td>\n",
              "      <td>11</td>\n",
              "      <td>590</td>\n",
              "      <td>101</td>\n",
              "      <td>1</td>\n",
              "      <td>659202</td>\n",
              "      <td>신용조합</td>\n",
              "      <td>19880101</td>\n",
              "      <td>10101</td>\n",
              "      <td>10101</td>\n",
              "      <td>14</td>\n",
              "      <td>4839540</td>\n",
              "      <td>0.00</td>\n",
              "      <td>1.00</td>\n",
              "      <td>345681.43</td>\n",
              "      <td>3840904.76</td>\n",
              "      <td>46090857.14</td>\n",
              "    </tr>\n",
              "    <tr>\n",
              "      <th>3</th>\n",
              "      <td>202007</td>\n",
              "      <td>유창성업</td>\n",
              "      <td>122812</td>\n",
              "      <td>1</td>\n",
              "      <td>22849</td>\n",
              "      <td>인천광역시 서구 오류동</td>\n",
              "      <td>인천광역시 서구 갑문2로</td>\n",
              "      <td>2826011900</td>\n",
              "      <td>2826072000</td>\n",
              "      <td>28</td>\n",
              "      <td>260</td>\n",
              "      <td>119</td>\n",
              "      <td>1</td>\n",
              "      <td>749604</td>\n",
              "      <td>그 외 기타 분류 안된 사업 지원 서비스업(기타임가공</td>\n",
              "      <td>19880101</td>\n",
              "      <td>10101</td>\n",
              "      <td>10101</td>\n",
              "      <td>28</td>\n",
              "      <td>5575460</td>\n",
              "      <td>0.00</td>\n",
              "      <td>0.00</td>\n",
              "      <td>199123.57</td>\n",
              "      <td>2212484.13</td>\n",
              "      <td>26549809.52</td>\n",
              "    </tr>\n",
              "    <tr>\n",
              "      <th>4</th>\n",
              "      <td>202007</td>\n",
              "      <td>희성전자</td>\n",
              "      <td>106810</td>\n",
              "      <td>1</td>\n",
              "      <td>4410</td>\n",
              "      <td>서울특별시 용산구 한남동</td>\n",
              "      <td>서울특별시 용산구 독서당로14길</td>\n",
              "      <td>1117013100</td>\n",
              "      <td>1117067000</td>\n",
              "      <td>11</td>\n",
              "      <td>170</td>\n",
              "      <td>131</td>\n",
              "      <td>1</td>\n",
              "      <td>701201</td>\n",
              "      <td>비주거용 건물 임대업(점포  자기땅)</td>\n",
              "      <td>19880101</td>\n",
              "      <td>10101</td>\n",
              "      <td>10101</td>\n",
              "      <td>496</td>\n",
              "      <td>208935540</td>\n",
              "      <td>0.00</td>\n",
              "      <td>2.00</td>\n",
              "      <td>421241.01</td>\n",
              "      <td>4680455.65</td>\n",
              "      <td>56165467.74</td>\n",
              "    </tr>\n",
              "  </tbody>\n",
              "</table>\n",
              "</div>"
            ],
            "text/plain": [
              "   자료생성년월       사업장명   사업자번호  가입상태  ...   상실    인당고지금액       평균월급        평균연봉\n",
              "0  202007       우성기전  126811     1  ... 0.00 158544.00 1761600.00 21139200.00\n",
              "1  202007  서능공원묘지운영회  102820     1  ... 0.00 252189.23 2802102.56 33625230.77\n",
              "2  202007    노들새마을금고  108820     1  ... 1.00 345681.43 3840904.76 46090857.14\n",
              "3  202007       유창성업  122812     1  ... 0.00 199123.57 2212484.13 26549809.52\n",
              "4  202007       희성전자  106810     1  ... 2.00 421241.01 4680455.65 56165467.74\n",
              "\n",
              "[5 rows x 25 columns]"
            ]
          },
          "metadata": {
            "tags": []
          },
          "execution_count": 64
        }
      ]
    },
    {
      "cell_type": "markdown",
      "metadata": {
        "id": "sVdsF_pG8U9y",
        "colab_type": "text"
      },
      "source": [
        "## Column 정리 (Clean)"
      ]
    },
    {
      "cell_type": "code",
      "metadata": {
        "id": "kq0pZokv8U9z",
        "colab_type": "code",
        "colab": {
          "base_uri": "https://localhost:8080/",
          "height": 87
        },
        "outputId": "75876abd-f296-4512-ca8a-970463ccf8fb"
      },
      "source": [
        "df.columns"
      ],
      "execution_count": 66,
      "outputs": [
        {
          "output_type": "execute_result",
          "data": {
            "text/plain": [
              "Index(['자료생성년월', '사업장명', '사업자번호', '가입상태', '우편번호', '지번주소', '도로명주소', '법정주소코드',\n",
              "       '행정주소코드', '광역시코드', '시군구코드', '읍면동코드', '사업장형태', '업종코드', '업종코드명', '적용일',\n",
              "       '재등록일', '탈퇴일', '가입자수', '고지금액', '신규', '상실', '인당고지금액', '평균월급', '평균연봉'],\n",
              "      dtype='object')"
            ]
          },
          "metadata": {
            "tags": []
          },
          "execution_count": 66
        }
      ]
    },
    {
      "cell_type": "code",
      "metadata": {
        "id": "A3NBSDsg8U93",
        "colab_type": "code",
        "colab": {}
      },
      "source": [
        "'''\n",
        "columns = ['자료생성년월', '사업장명', '사업자번호', '가입상태', '우편번호', '지번주소', '도로명주소', '법정주소코드', \n",
        "           '행정주소코드', '광역시코드', '시군구코드', '읍면동코드', '사업장형태', '업종코드', '업종코드명', '적용일',\n",
        "           '재등록일', '탈퇴일', '가입자수', '고지금액', '신규', '상실', '인당고지금액', '평균월급', '평균연봉']\n",
        "         ]\n",
        "'''"
      ],
      "execution_count": 58,
      "outputs": []
    },
    {
      "cell_type": "code",
      "metadata": {
        "id": "_n7oA48z8U97",
        "colab_type": "code",
        "colab": {
          "base_uri": "https://localhost:8080/",
          "height": 34
        },
        "outputId": "43f973e1-7eeb-4d44-c9f2-591ee220ae40"
      },
      "source": [
        "len(df.columns)"
      ],
      "execution_count": 65,
      "outputs": [
        {
          "output_type": "execute_result",
          "data": {
            "text/plain": [
              "25"
            ]
          },
          "metadata": {
            "tags": []
          },
          "execution_count": 65
        }
      ]
    },
    {
      "cell_type": "code",
      "metadata": {
        "id": "zbPM-_4S8U9_",
        "colab_type": "code",
        "colab": {
          "base_uri": "https://localhost:8080/",
          "height": 34
        },
        "outputId": "39f6256b-4f21-4db5-c67e-7b0b51ad2098"
      },
      "source": [
        "#len(columns)"
      ],
      "execution_count": 63,
      "outputs": [
        {
          "output_type": "execute_result",
          "data": {
            "text/plain": [
              "22"
            ]
          },
          "metadata": {
            "tags": []
          },
          "execution_count": 63
        }
      ]
    },
    {
      "cell_type": "code",
      "metadata": {
        "id": "DEDK2y3b8U-C",
        "colab_type": "code",
        "colab": {}
      },
      "source": [
        "#df.columns = columns"
      ],
      "execution_count": null,
      "outputs": []
    },
    {
      "cell_type": "code",
      "metadata": {
        "id": "vELkMxQw8U-F",
        "colab_type": "code",
        "colab": {}
      },
      "source": [
        "#df.head()"
      ],
      "execution_count": null,
      "outputs": []
    },
    {
      "cell_type": "markdown",
      "metadata": {
        "id": "YI61_nMy8U-K",
        "colab_type": "text"
      },
      "source": [
        "## 핵심 데이터 column 추출"
      ]
    },
    {
      "cell_type": "code",
      "metadata": {
        "id": "8NaaYFv78U-L",
        "colab_type": "code",
        "colab": {}
      },
      "source": [
        "df_main = df[['사업장명', '가입자수', '신규', '상실', '고지금액','인당고지금액', '평균월급', '평균연봉']]"
      ],
      "execution_count": 69,
      "outputs": []
    },
    {
      "cell_type": "code",
      "metadata": {
        "id": "nm7BdbGZ8U-N",
        "colab_type": "code",
        "colab": {
          "base_uri": "https://localhost:8080/",
          "height": 639
        },
        "outputId": "e6298b44-d5ce-4af0-dedb-32b939ef880f"
      },
      "source": [
        "df_main.head(20)"
      ],
      "execution_count": 75,
      "outputs": [
        {
          "output_type": "execute_result",
          "data": {
            "text/html": [
              "<div>\n",
              "<style scoped>\n",
              "    .dataframe tbody tr th:only-of-type {\n",
              "        vertical-align: middle;\n",
              "    }\n",
              "\n",
              "    .dataframe tbody tr th {\n",
              "        vertical-align: top;\n",
              "    }\n",
              "\n",
              "    .dataframe thead th {\n",
              "        text-align: right;\n",
              "    }\n",
              "</style>\n",
              "<table border=\"1\" class=\"dataframe\">\n",
              "  <thead>\n",
              "    <tr style=\"text-align: right;\">\n",
              "      <th></th>\n",
              "      <th>사업장명</th>\n",
              "      <th>가입자수</th>\n",
              "      <th>신규</th>\n",
              "      <th>상실</th>\n",
              "      <th>고지금액</th>\n",
              "      <th>인당고지금액</th>\n",
              "      <th>평균월급</th>\n",
              "      <th>평균연봉</th>\n",
              "    </tr>\n",
              "  </thead>\n",
              "  <tbody>\n",
              "    <tr>\n",
              "      <th>0</th>\n",
              "      <td>우성기전</td>\n",
              "      <td>5</td>\n",
              "      <td>0.00</td>\n",
              "      <td>0.00</td>\n",
              "      <td>792720</td>\n",
              "      <td>158544.00</td>\n",
              "      <td>1761600.00</td>\n",
              "      <td>21139200.00</td>\n",
              "    </tr>\n",
              "    <tr>\n",
              "      <th>1</th>\n",
              "      <td>서능공원묘지운영회</td>\n",
              "      <td>13</td>\n",
              "      <td>0.00</td>\n",
              "      <td>0.00</td>\n",
              "      <td>3278460</td>\n",
              "      <td>252189.23</td>\n",
              "      <td>2802102.56</td>\n",
              "      <td>33625230.77</td>\n",
              "    </tr>\n",
              "    <tr>\n",
              "      <th>2</th>\n",
              "      <td>노들새마을금고</td>\n",
              "      <td>14</td>\n",
              "      <td>0.00</td>\n",
              "      <td>1.00</td>\n",
              "      <td>4839540</td>\n",
              "      <td>345681.43</td>\n",
              "      <td>3840904.76</td>\n",
              "      <td>46090857.14</td>\n",
              "    </tr>\n",
              "    <tr>\n",
              "      <th>3</th>\n",
              "      <td>유창성업</td>\n",
              "      <td>28</td>\n",
              "      <td>0.00</td>\n",
              "      <td>0.00</td>\n",
              "      <td>5575460</td>\n",
              "      <td>199123.57</td>\n",
              "      <td>2212484.13</td>\n",
              "      <td>26549809.52</td>\n",
              "    </tr>\n",
              "    <tr>\n",
              "      <th>4</th>\n",
              "      <td>희성전자</td>\n",
              "      <td>496</td>\n",
              "      <td>0.00</td>\n",
              "      <td>2.00</td>\n",
              "      <td>208935540</td>\n",
              "      <td>421241.01</td>\n",
              "      <td>4680455.65</td>\n",
              "      <td>56165467.74</td>\n",
              "    </tr>\n",
              "    <tr>\n",
              "      <th>5</th>\n",
              "      <td>동성교역</td>\n",
              "      <td>5</td>\n",
              "      <td>0.00</td>\n",
              "      <td>0.00</td>\n",
              "      <td>1337460</td>\n",
              "      <td>267492.00</td>\n",
              "      <td>2972133.33</td>\n",
              "      <td>35665600.00</td>\n",
              "    </tr>\n",
              "    <tr>\n",
              "      <th>6</th>\n",
              "      <td>태평양그랜드</td>\n",
              "      <td>27</td>\n",
              "      <td>3.00</td>\n",
              "      <td>1.00</td>\n",
              "      <td>6672940</td>\n",
              "      <td>247145.93</td>\n",
              "      <td>2746065.84</td>\n",
              "      <td>32952790.12</td>\n",
              "    </tr>\n",
              "    <tr>\n",
              "      <th>7</th>\n",
              "      <td>SK건설</td>\n",
              "      <td>4465</td>\n",
              "      <td>36.00</td>\n",
              "      <td>27.00</td>\n",
              "      <td>1907884800</td>\n",
              "      <td>427297.83</td>\n",
              "      <td>4747753.64</td>\n",
              "      <td>56973043.67</td>\n",
              "    </tr>\n",
              "    <tr>\n",
              "      <th>8</th>\n",
              "      <td>태영건설</td>\n",
              "      <td>1409</td>\n",
              "      <td>39.00</td>\n",
              "      <td>23.00</td>\n",
              "      <td>593108500</td>\n",
              "      <td>420942.87</td>\n",
              "      <td>4677142.97</td>\n",
              "      <td>56125715.64</td>\n",
              "    </tr>\n",
              "    <tr>\n",
              "      <th>9</th>\n",
              "      <td>정하건설</td>\n",
              "      <td>11</td>\n",
              "      <td>0.00</td>\n",
              "      <td>0.00</td>\n",
              "      <td>1843440</td>\n",
              "      <td>167585.45</td>\n",
              "      <td>1862060.61</td>\n",
              "      <td>22344727.27</td>\n",
              "    </tr>\n",
              "    <tr>\n",
              "      <th>10</th>\n",
              "      <td>신원종합개발</td>\n",
              "      <td>97</td>\n",
              "      <td>0.00</td>\n",
              "      <td>0.00</td>\n",
              "      <td>37905200</td>\n",
              "      <td>390775.26</td>\n",
              "      <td>4341947.31</td>\n",
              "      <td>52103367.70</td>\n",
              "    </tr>\n",
              "    <tr>\n",
              "      <th>11</th>\n",
              "      <td>천일해운</td>\n",
              "      <td>8</td>\n",
              "      <td>0.00</td>\n",
              "      <td>0.00</td>\n",
              "      <td>2288480</td>\n",
              "      <td>286060.00</td>\n",
              "      <td>3178444.44</td>\n",
              "      <td>38141333.33</td>\n",
              "    </tr>\n",
              "    <tr>\n",
              "      <th>12</th>\n",
              "      <td>협운해운</td>\n",
              "      <td>23</td>\n",
              "      <td>0.00</td>\n",
              "      <td>2.00</td>\n",
              "      <td>5332800</td>\n",
              "      <td>231860.87</td>\n",
              "      <td>2576231.88</td>\n",
              "      <td>30914782.61</td>\n",
              "    </tr>\n",
              "    <tr>\n",
              "      <th>13</th>\n",
              "      <td>서울석유</td>\n",
              "      <td>33</td>\n",
              "      <td>5.00</td>\n",
              "      <td>6.00</td>\n",
              "      <td>11624200</td>\n",
              "      <td>352248.48</td>\n",
              "      <td>3913872.05</td>\n",
              "      <td>46966464.65</td>\n",
              "    </tr>\n",
              "    <tr>\n",
              "      <th>14</th>\n",
              "      <td>우지기업</td>\n",
              "      <td>408</td>\n",
              "      <td>13.00</td>\n",
              "      <td>44.00</td>\n",
              "      <td>69490240</td>\n",
              "      <td>170319.22</td>\n",
              "      <td>1892435.73</td>\n",
              "      <td>22709228.76</td>\n",
              "    </tr>\n",
              "    <tr>\n",
              "      <th>15</th>\n",
              "      <td>디아이</td>\n",
              "      <td>78</td>\n",
              "      <td>4.00</td>\n",
              "      <td>0.00</td>\n",
              "      <td>25699340</td>\n",
              "      <td>329478.72</td>\n",
              "      <td>3660874.64</td>\n",
              "      <td>43930495.73</td>\n",
              "    </tr>\n",
              "    <tr>\n",
              "      <th>16</th>\n",
              "      <td>메트로호텔</td>\n",
              "      <td>22</td>\n",
              "      <td>0.00</td>\n",
              "      <td>0.00</td>\n",
              "      <td>4643600</td>\n",
              "      <td>211072.73</td>\n",
              "      <td>2345252.53</td>\n",
              "      <td>28143030.30</td>\n",
              "    </tr>\n",
              "    <tr>\n",
              "      <th>17</th>\n",
              "      <td>비와이씨</td>\n",
              "      <td>512</td>\n",
              "      <td>2.00</td>\n",
              "      <td>18.00</td>\n",
              "      <td>122606880</td>\n",
              "      <td>239466.56</td>\n",
              "      <td>2660739.58</td>\n",
              "      <td>31928875.00</td>\n",
              "    </tr>\n",
              "    <tr>\n",
              "      <th>18</th>\n",
              "      <td>유성물산교역</td>\n",
              "      <td>48</td>\n",
              "      <td>1.00</td>\n",
              "      <td>0.00</td>\n",
              "      <td>15917440</td>\n",
              "      <td>331613.33</td>\n",
              "      <td>3684592.59</td>\n",
              "      <td>44215111.11</td>\n",
              "    </tr>\n",
              "    <tr>\n",
              "      <th>19</th>\n",
              "      <td>아이에스동서</td>\n",
              "      <td>58</td>\n",
              "      <td>0.00</td>\n",
              "      <td>0.00</td>\n",
              "      <td>23347760</td>\n",
              "      <td>402547.59</td>\n",
              "      <td>4472750.96</td>\n",
              "      <td>53673011.49</td>\n",
              "    </tr>\n",
              "  </tbody>\n",
              "</table>\n",
              "</div>"
            ],
            "text/plain": [
              "         사업장명  가입자수    신규    상실        고지금액    인당고지금액       평균월급        평균연봉\n",
              "0        우성기전     5  0.00  0.00      792720 158544.00 1761600.00 21139200.00\n",
              "1   서능공원묘지운영회    13  0.00  0.00     3278460 252189.23 2802102.56 33625230.77\n",
              "2     노들새마을금고    14  0.00  1.00     4839540 345681.43 3840904.76 46090857.14\n",
              "3        유창성업    28  0.00  0.00     5575460 199123.57 2212484.13 26549809.52\n",
              "4        희성전자   496  0.00  2.00   208935540 421241.01 4680455.65 56165467.74\n",
              "5        동성교역     5  0.00  0.00     1337460 267492.00 2972133.33 35665600.00\n",
              "6      태평양그랜드    27  3.00  1.00     6672940 247145.93 2746065.84 32952790.12\n",
              "7        SK건설  4465 36.00 27.00  1907884800 427297.83 4747753.64 56973043.67\n",
              "8        태영건설  1409 39.00 23.00   593108500 420942.87 4677142.97 56125715.64\n",
              "9        정하건설    11  0.00  0.00     1843440 167585.45 1862060.61 22344727.27\n",
              "10     신원종합개발    97  0.00  0.00    37905200 390775.26 4341947.31 52103367.70\n",
              "11       천일해운     8  0.00  0.00     2288480 286060.00 3178444.44 38141333.33\n",
              "12       협운해운    23  0.00  2.00     5332800 231860.87 2576231.88 30914782.61\n",
              "13       서울석유    33  5.00  6.00    11624200 352248.48 3913872.05 46966464.65\n",
              "14       우지기업   408 13.00 44.00    69490240 170319.22 1892435.73 22709228.76\n",
              "15        디아이    78  4.00  0.00    25699340 329478.72 3660874.64 43930495.73\n",
              "16      메트로호텔    22  0.00  0.00     4643600 211072.73 2345252.53 28143030.30\n",
              "17       비와이씨   512  2.00 18.00   122606880 239466.56 2660739.58 31928875.00\n",
              "18     유성물산교역    48  1.00  0.00    15917440 331613.33 3684592.59 44215111.11\n",
              "19     아이에스동서    58  0.00  0.00    23347760 402547.59 4472750.96 53673011.49"
            ]
          },
          "metadata": {
            "tags": []
          },
          "execution_count": 75
        }
      ]
    },
    {
      "cell_type": "markdown",
      "metadata": {
        "id": "AfYRotuG8U-R",
        "colab_type": "text"
      },
      "source": [
        "## 데이터 통계"
      ]
    },
    {
      "cell_type": "code",
      "metadata": {
        "id": "z3mJ9pV18U-S",
        "colab_type": "code",
        "colab": {
          "base_uri": "https://localhost:8080/",
          "height": 34
        },
        "outputId": "c19c7b7c-cbab-449e-a3ee-6ed806d56712"
      },
      "source": [
        "df_main['신규'].mean()"
      ],
      "execution_count": 20,
      "outputs": [
        {
          "output_type": "execute_result",
          "data": {
            "text/plain": [
              "0.7042091441554418"
            ]
          },
          "metadata": {
            "tags": []
          },
          "execution_count": 20
        }
      ]
    },
    {
      "cell_type": "code",
      "metadata": {
        "id": "IDIwSpgR8U-V",
        "colab_type": "code",
        "colab": {
          "base_uri": "https://localhost:8080/",
          "height": 34
        },
        "outputId": "4d05ad13-bf19-43bf-aa9d-35065bc9822e"
      },
      "source": [
        "df_main['상실'].mean()"
      ],
      "execution_count": 21,
      "outputs": [
        {
          "output_type": "execute_result",
          "data": {
            "text/plain": [
              "0.6895560702851832"
            ]
          },
          "metadata": {
            "tags": []
          },
          "execution_count": 21
        }
      ]
    },
    {
      "cell_type": "code",
      "metadata": {
        "id": "kKugbRQ_8U-Y",
        "colab_type": "code",
        "colab": {
          "base_uri": "https://localhost:8080/",
          "height": 34
        },
        "outputId": "25365ed1-5dbf-4894-f0f8-cae50c5f9da1"
      },
      "source": [
        "df_main['가입자수'].mean()"
      ],
      "execution_count": 22,
      "outputs": [
        {
          "output_type": "execute_result",
          "data": {
            "text/plain": [
              "24.838813712356817"
            ]
          },
          "metadata": {
            "tags": []
          },
          "execution_count": 22
        }
      ]
    },
    {
      "cell_type": "code",
      "metadata": {
        "id": "_HosktoS8U-b",
        "colab_type": "code",
        "colab": {
          "base_uri": "https://localhost:8080/",
          "height": 34
        },
        "outputId": "3fddb4fe-d102-4fcc-bbd0-6e0b05d67817"
      },
      "source": [
        "df_main['고지금액'].mean()"
      ],
      "execution_count": 23,
      "outputs": [
        {
          "output_type": "execute_result",
          "data": {
            "text/plain": [
              "7363608.070630204"
            ]
          },
          "metadata": {
            "tags": []
          },
          "execution_count": 23
        }
      ]
    },
    {
      "cell_type": "markdown",
      "metadata": {
        "id": "EfGRSs8F8U-e",
        "colab_type": "text"
      },
      "source": [
        "## 월급, 연봉 추정"
      ]
    },
    {
      "cell_type": "code",
      "metadata": {
        "id": "ValHWMlF8U-f",
        "colab_type": "code",
        "colab": {
          "base_uri": "https://localhost:8080/",
          "height": 0
        },
        "outputId": "ed6c9a9d-2e63-4394-da24-adeeb4a3844e"
      },
      "source": [
        "(df_main['고지금액'] / df_main['가입자수']).head()"
      ],
      "execution_count": 24,
      "outputs": [
        {
          "output_type": "execute_result",
          "data": {
            "text/plain": [
              "0   158544.00\n",
              "1   252189.23\n",
              "2   345681.43\n",
              "3   199123.57\n",
              "4   421241.01\n",
              "dtype: float64"
            ]
          },
          "metadata": {
            "tags": []
          },
          "execution_count": 24
        }
      ]
    },
    {
      "cell_type": "code",
      "metadata": {
        "id": "NF0cO2xF8U-i",
        "colab_type": "code",
        "colab": {}
      },
      "source": [
        "df_main['인당고지금액'] = df_main['고지금액'] / df_main['가입자수']\n",
        "df['인당고지금액'] = df['고지금액'] / df['가입자수']"
      ],
      "execution_count": 25,
      "outputs": []
    },
    {
      "cell_type": "code",
      "metadata": {
        "id": "hMezvXSl8U-m",
        "colab_type": "code",
        "colab": {
          "base_uri": "https://localhost:8080/",
          "height": 0
        },
        "outputId": "a9d6f07b-4fd3-4852-dcac-201b6f52988e"
      },
      "source": [
        "df_main['인당고지금액'].head()"
      ],
      "execution_count": 26,
      "outputs": [
        {
          "output_type": "execute_result",
          "data": {
            "text/plain": [
              "0   158544.00\n",
              "1   252189.23\n",
              "2   345681.43\n",
              "3   199123.57\n",
              "4   421241.01\n",
              "Name: 인당고지금액, dtype: float64"
            ]
          },
          "metadata": {
            "tags": []
          },
          "execution_count": 26
        }
      ]
    },
    {
      "cell_type": "markdown",
      "metadata": {
        "id": "pmQ3hqgU8U-p",
        "colab_type": "text"
      },
      "source": [
        "**국민연금 정보로 어떻게 연봉정보를 계산하나요?**\n",
        "\n",
        "\n",
        "국민연금 보험률은 9%입니다. 쉽게 이야기 하면 급여(신고소득월액)의 9%를 국민연금으로 내는 것입니다. \n",
        "\n",
        "하지만 이를 절반으로 나누어 **4.5%는 회사가, 나머지 절반은 개인이 부담하는 구조**입니다. 회사는 급여 외에 추가로 금액을 부담합니다.\n",
        "\n",
        "국민연금 보험료는 **소득 상한선과 하한선이 설정되어 있어 소득 전체가 아닌 일부 소득에만 부과**됩니다.\n",
        "\n",
        "이를 역산하면 신고소득월액의 계산이 가능합니다. 하지만 **상한선과 하한선이 설정되어 있어 실제보다 과소계산**될 수 있습니다"
      ]
    },
    {
      "cell_type": "markdown",
      "metadata": {
        "id": "V9l-zRlT8U-p",
        "colab_type": "text"
      },
      "source": [
        "[수식]\n",
        "\n",
        "- 임직원 평균 월급 = 인당고지금액 / 9% * 100%\n",
        "- 임직원 평균 연봉 = 임직원 평균 월급 * 12개월"
      ]
    },
    {
      "cell_type": "code",
      "metadata": {
        "id": "ckoXOvFK8U-t",
        "colab_type": "code",
        "colab": {}
      },
      "source": [
        "df_main['평균월급'] = df_main['인당고지금액'] / 9 * 100\n",
        "df['평균월급'] = df['인당고지금액'] / 9 * 100"
      ],
      "execution_count": 27,
      "outputs": []
    },
    {
      "cell_type": "code",
      "metadata": {
        "id": "c1OyIwff8U-x",
        "colab_type": "code",
        "colab": {}
      },
      "source": [
        "df_main['평균연봉'] = df_main['평균월급'] * 12\n",
        "df['평균연봉'] = df['평균월급'] * 12"
      ],
      "execution_count": 28,
      "outputs": []
    },
    {
      "cell_type": "code",
      "metadata": {
        "id": "IjC03x2m8U-z",
        "colab_type": "code",
        "colab": {
          "base_uri": "https://localhost:8080/",
          "height": 0
        },
        "outputId": "f0597f91-0491-4461-b022-d334146c0f6b"
      },
      "source": [
        "df_main['평균월급'].notnull().sum()"
      ],
      "execution_count": 29,
      "outputs": [
        {
          "output_type": "execute_result",
          "data": {
            "text/plain": [
              "336152"
            ]
          },
          "metadata": {
            "tags": []
          },
          "execution_count": 29
        }
      ]
    },
    {
      "cell_type": "code",
      "metadata": {
        "id": "Ooj6Fknh8U-2",
        "colab_type": "code",
        "colab": {
          "base_uri": "https://localhost:8080/",
          "height": 0
        },
        "outputId": "6f2523c8-bd93-4ecb-893c-968b26d50a79"
      },
      "source": [
        "plt.figure(figsize=(10, 7))\n",
        "sns.distplot(df_main.loc[df_main['평균연봉'].notnull(), '평균연봉'])\n",
        "plt.title('평균연봉', fontsize=18)\n",
        "plt.show()"
      ],
      "execution_count": 30,
      "outputs": [
        {
          "output_type": "display_data",
          "data": {
            "image/png": "[encoded data removed]",
            "text/plain": [
              "<Figure size 720x504 with 1 Axes>"
            ]
          },
          "metadata": {
            "tags": [],
            "needs_background": "light"
          }
        }
      ]
    },
    {
      "cell_type": "code",
      "metadata": {
        "id": "jJnaJ0IK8U-5",
        "colab_type": "code",
        "colab": {
          "base_uri": "https://localhost:8080/",
          "height": 0
        },
        "outputId": "ded36053-ab99-4194-8e2e-49ab13c333fc"
      },
      "source": [
        "plt.figure(figsize=(10, 7))\n",
        "sns.distplot(df_main.loc[df_main['평균월급'].notnull(), '평균월급'])\n",
        "plt.title('평균월급', fontsize=18)\n",
        "plt.show()"
      ],
      "execution_count": 31,
      "outputs": [
        {
          "output_type": "display_data",
          "data": {
            "image/png": "[encoded data removed]",
            "text/plain": [
              "<Figure size 720x504 with 1 Axes>"
            ]
          },
          "metadata": {
            "tags": [],
            "needs_background": "light"
          }
        }
      ]
    },
    {
      "cell_type": "markdown",
      "metadata": {
        "id": "ItF2lB8X8U-8",
        "colab_type": "text"
      },
      "source": [
        "## 정렬(Order)"
      ]
    },
    {
      "cell_type": "markdown",
      "metadata": {
        "id": "_x9yH7lv8U-9",
        "colab_type": "text"
      },
      "source": [
        "### 연봉 King!"
      ]
    },
    {
      "cell_type": "code",
      "metadata": {
        "id": "-w0vYitr8U-_",
        "colab_type": "code",
        "colab": {
          "base_uri": "https://localhost:8080/",
          "height": 639
        },
        "outputId": "a20d381f-e4d1-4974-a1b6-48ec126c7bc7"
      },
      "source": [
        "df_main.sort_values(by='평균연봉', ascending=False).head(20)"
      ],
      "execution_count": 77,
      "outputs": [
        {
          "output_type": "execute_result",
          "data": {
            "text/html": [
              "<div>\n",
              "<style scoped>\n",
              "    .dataframe tbody tr th:only-of-type {\n",
              "        vertical-align: middle;\n",
              "    }\n",
              "\n",
              "    .dataframe tbody tr th {\n",
              "        vertical-align: top;\n",
              "    }\n",
              "\n",
              "    .dataframe thead th {\n",
              "        text-align: right;\n",
              "    }\n",
              "</style>\n",
              "<table border=\"1\" class=\"dataframe\">\n",
              "  <thead>\n",
              "    <tr style=\"text-align: right;\">\n",
              "      <th></th>\n",
              "      <th>사업장명</th>\n",
              "      <th>가입자수</th>\n",
              "      <th>신규</th>\n",
              "      <th>상실</th>\n",
              "      <th>고지금액</th>\n",
              "      <th>인당고지금액</th>\n",
              "      <th>평균월급</th>\n",
              "      <th>평균연봉</th>\n",
              "    </tr>\n",
              "  </thead>\n",
              "  <tbody>\n",
              "    <tr>\n",
              "      <th>306148</th>\n",
              "      <td>제이켐</td>\n",
              "      <td>3</td>\n",
              "      <td>0.00</td>\n",
              "      <td>0.00</td>\n",
              "      <td>1358100</td>\n",
              "      <td>452700.00</td>\n",
              "      <td>5030000.00</td>\n",
              "      <td>60360000.00</td>\n",
              "    </tr>\n",
              "    <tr>\n",
              "      <th>56028</th>\n",
              "      <td>갤럭시티디씨</td>\n",
              "      <td>4</td>\n",
              "      <td>0.00</td>\n",
              "      <td>0.00</td>\n",
              "      <td>1810800</td>\n",
              "      <td>452700.00</td>\n",
              "      <td>5030000.00</td>\n",
              "      <td>60360000.00</td>\n",
              "    </tr>\n",
              "    <tr>\n",
              "      <th>13002</th>\n",
              "      <td>심텍홀딩스서울지점</td>\n",
              "      <td>3</td>\n",
              "      <td>0.00</td>\n",
              "      <td>0.00</td>\n",
              "      <td>1358100</td>\n",
              "      <td>452700.00</td>\n",
              "      <td>5030000.00</td>\n",
              "      <td>60360000.00</td>\n",
              "    </tr>\n",
              "    <tr>\n",
              "      <th>206506</th>\n",
              "      <td>한국인삼공사-대전</td>\n",
              "      <td>25</td>\n",
              "      <td>0.00</td>\n",
              "      <td>0.00</td>\n",
              "      <td>11317500</td>\n",
              "      <td>452700.00</td>\n",
              "      <td>5030000.00</td>\n",
              "      <td>60360000.00</td>\n",
              "    </tr>\n",
              "    <tr>\n",
              "      <th>189772</th>\n",
              "      <td>에이스컴</td>\n",
              "      <td>3</td>\n",
              "      <td>0.00</td>\n",
              "      <td>1.00</td>\n",
              "      <td>1358100</td>\n",
              "      <td>452700.00</td>\n",
              "      <td>5030000.00</td>\n",
              "      <td>60360000.00</td>\n",
              "    </tr>\n",
              "    <tr>\n",
              "      <th>228142</th>\n",
              "      <td>인천광역시소방본부-구급상황관리센터</td>\n",
              "      <td>4</td>\n",
              "      <td>0.00</td>\n",
              "      <td>0.00</td>\n",
              "      <td>1810800</td>\n",
              "      <td>452700.00</td>\n",
              "      <td>5030000.00</td>\n",
              "      <td>60360000.00</td>\n",
              "    </tr>\n",
              "    <tr>\n",
              "      <th>137251</th>\n",
              "      <td>이엠씨솔루션</td>\n",
              "      <td>5</td>\n",
              "      <td>0.00</td>\n",
              "      <td>0.00</td>\n",
              "      <td>2263500</td>\n",
              "      <td>452700.00</td>\n",
              "      <td>5030000.00</td>\n",
              "      <td>60360000.00</td>\n",
              "    </tr>\n",
              "    <tr>\n",
              "      <th>218715</th>\n",
              "      <td>대조제1구역주택재개발정비사업조합</td>\n",
              "      <td>4</td>\n",
              "      <td>0.00</td>\n",
              "      <td>0.00</td>\n",
              "      <td>1810800</td>\n",
              "      <td>452700.00</td>\n",
              "      <td>5030000.00</td>\n",
              "      <td>60360000.00</td>\n",
              "    </tr>\n",
              "    <tr>\n",
              "      <th>54385</th>\n",
              "      <td>제이앰코퍼레이션</td>\n",
              "      <td>3</td>\n",
              "      <td>0.00</td>\n",
              "      <td>0.00</td>\n",
              "      <td>1358100</td>\n",
              "      <td>452700.00</td>\n",
              "      <td>5030000.00</td>\n",
              "      <td>60360000.00</td>\n",
              "    </tr>\n",
              "    <tr>\n",
              "      <th>73688</th>\n",
              "      <td>한올테크</td>\n",
              "      <td>6</td>\n",
              "      <td>0.00</td>\n",
              "      <td>0.00</td>\n",
              "      <td>2716200</td>\n",
              "      <td>452700.00</td>\n",
              "      <td>5030000.00</td>\n",
              "      <td>60360000.00</td>\n",
              "    </tr>\n",
              "    <tr>\n",
              "      <th>258422</th>\n",
              "      <td>에어로브릿지</td>\n",
              "      <td>3</td>\n",
              "      <td>0.00</td>\n",
              "      <td>0.00</td>\n",
              "      <td>1358100</td>\n",
              "      <td>452700.00</td>\n",
              "      <td>5030000.00</td>\n",
              "      <td>60360000.00</td>\n",
              "    </tr>\n",
              "    <tr>\n",
              "      <th>75596</th>\n",
              "      <td>무록프린텍</td>\n",
              "      <td>3</td>\n",
              "      <td>0.00</td>\n",
              "      <td>0.00</td>\n",
              "      <td>1358100</td>\n",
              "      <td>452700.00</td>\n",
              "      <td>5030000.00</td>\n",
              "      <td>60360000.00</td>\n",
              "    </tr>\n",
              "    <tr>\n",
              "      <th>315122</th>\n",
              "      <td>핑거프린트카드코리아유한회사</td>\n",
              "      <td>5</td>\n",
              "      <td>0.00</td>\n",
              "      <td>0.00</td>\n",
              "      <td>2263500</td>\n",
              "      <td>452700.00</td>\n",
              "      <td>5030000.00</td>\n",
              "      <td>60360000.00</td>\n",
              "    </tr>\n",
              "    <tr>\n",
              "      <th>297171</th>\n",
              "      <td>엠앤씨</td>\n",
              "      <td>3</td>\n",
              "      <td>0.00</td>\n",
              "      <td>0.00</td>\n",
              "      <td>1358100</td>\n",
              "      <td>452700.00</td>\n",
              "      <td>5030000.00</td>\n",
              "      <td>60360000.00</td>\n",
              "    </tr>\n",
              "    <tr>\n",
              "      <th>231382</th>\n",
              "      <td>제이투씨아이티</td>\n",
              "      <td>3</td>\n",
              "      <td>0.00</td>\n",
              "      <td>0.00</td>\n",
              "      <td>1358100</td>\n",
              "      <td>452700.00</td>\n",
              "      <td>5030000.00</td>\n",
              "      <td>60360000.00</td>\n",
              "    </tr>\n",
              "    <tr>\n",
              "      <th>204172</th>\n",
              "      <td>엠에스알홀딩스</td>\n",
              "      <td>3</td>\n",
              "      <td>0.00</td>\n",
              "      <td>0.00</td>\n",
              "      <td>1358100</td>\n",
              "      <td>452700.00</td>\n",
              "      <td>5030000.00</td>\n",
              "      <td>60360000.00</td>\n",
              "    </tr>\n",
              "    <tr>\n",
              "      <th>64656</th>\n",
              "      <td>디딤코퍼레이션</td>\n",
              "      <td>3</td>\n",
              "      <td>0.00</td>\n",
              "      <td>0.00</td>\n",
              "      <td>1358100</td>\n",
              "      <td>452700.00</td>\n",
              "      <td>5030000.00</td>\n",
              "      <td>60360000.00</td>\n",
              "    </tr>\n",
              "    <tr>\n",
              "      <th>179227</th>\n",
              "      <td>명성무역</td>\n",
              "      <td>4</td>\n",
              "      <td>0.00</td>\n",
              "      <td>0.00</td>\n",
              "      <td>1810800</td>\n",
              "      <td>452700.00</td>\n",
              "      <td>5030000.00</td>\n",
              "      <td>60360000.00</td>\n",
              "    </tr>\n",
              "    <tr>\n",
              "      <th>153983</th>\n",
              "      <td>지맥스코파트너스</td>\n",
              "      <td>3</td>\n",
              "      <td>0.00</td>\n",
              "      <td>0.00</td>\n",
              "      <td>1358100</td>\n",
              "      <td>452700.00</td>\n",
              "      <td>5030000.00</td>\n",
              "      <td>60360000.00</td>\n",
              "    </tr>\n",
              "    <tr>\n",
              "      <th>59370</th>\n",
              "      <td>에이엠엘코리아리미티드(유）</td>\n",
              "      <td>3</td>\n",
              "      <td>0.00</td>\n",
              "      <td>0.00</td>\n",
              "      <td>1358100</td>\n",
              "      <td>452700.00</td>\n",
              "      <td>5030000.00</td>\n",
              "      <td>60360000.00</td>\n",
              "    </tr>\n",
              "  </tbody>\n",
              "</table>\n",
              "</div>"
            ],
            "text/plain": [
              "                      사업장명  가입자수   신규  ...    인당고지금액       평균월급        평균연봉\n",
              "306148                 제이켐     3 0.00  ... 452700.00 5030000.00 60360000.00\n",
              "56028               갤럭시티디씨     4 0.00  ... 452700.00 5030000.00 60360000.00\n",
              "13002            심텍홀딩스서울지점     3 0.00  ... 452700.00 5030000.00 60360000.00\n",
              "206506           한국인삼공사-대전    25 0.00  ... 452700.00 5030000.00 60360000.00\n",
              "189772                에이스컴     3 0.00  ... 452700.00 5030000.00 60360000.00\n",
              "228142  인천광역시소방본부-구급상황관리센터     4 0.00  ... 452700.00 5030000.00 60360000.00\n",
              "137251              이엠씨솔루션     5 0.00  ... 452700.00 5030000.00 60360000.00\n",
              "218715   대조제1구역주택재개발정비사업조합     4 0.00  ... 452700.00 5030000.00 60360000.00\n",
              "54385             제이앰코퍼레이션     3 0.00  ... 452700.00 5030000.00 60360000.00\n",
              "73688                 한올테크     6 0.00  ... 452700.00 5030000.00 60360000.00\n",
              "258422              에어로브릿지     3 0.00  ... 452700.00 5030000.00 60360000.00\n",
              "75596                무록프린텍     3 0.00  ... 452700.00 5030000.00 60360000.00\n",
              "315122      핑거프린트카드코리아유한회사     5 0.00  ... 452700.00 5030000.00 60360000.00\n",
              "297171                 엠앤씨     3 0.00  ... 452700.00 5030000.00 60360000.00\n",
              "231382             제이투씨아이티     3 0.00  ... 452700.00 5030000.00 60360000.00\n",
              "204172             엠에스알홀딩스     3 0.00  ... 452700.00 5030000.00 60360000.00\n",
              "64656              디딤코퍼레이션     3 0.00  ... 452700.00 5030000.00 60360000.00\n",
              "179227                명성무역     4 0.00  ... 452700.00 5030000.00 60360000.00\n",
              "153983            지맥스코파트너스     3 0.00  ... 452700.00 5030000.00 60360000.00\n",
              "59370       에이엠엘코리아리미티드(유）     3 0.00  ... 452700.00 5030000.00 60360000.00\n",
              "\n",
              "[20 rows x 8 columns]"
            ]
          },
          "metadata": {
            "tags": []
          },
          "execution_count": 77
        }
      ]
    },
    {
      "cell_type": "markdown",
      "metadata": {
        "id": "RdJUJAwt8U_B",
        "colab_type": "text"
      },
      "source": [
        "### 신규 채용 King!"
      ]
    },
    {
      "cell_type": "code",
      "metadata": {
        "id": "c0bcQa0a8U_C",
        "colab_type": "code",
        "colab": {
          "base_uri": "https://localhost:8080/",
          "height": 639
        },
        "outputId": "a474da08-f951-4394-9500-047ea5196747"
      },
      "source": [
        "df_main.sort_values(by='신규', ascending=False).head(20)"
      ],
      "execution_count": 78,
      "outputs": [
        {
          "output_type": "execute_result",
          "data": {
            "text/html": [
              "<div>\n",
              "<style scoped>\n",
              "    .dataframe tbody tr th:only-of-type {\n",
              "        vertical-align: middle;\n",
              "    }\n",
              "\n",
              "    .dataframe tbody tr th {\n",
              "        vertical-align: top;\n",
              "    }\n",
              "\n",
              "    .dataframe thead th {\n",
              "        text-align: right;\n",
              "    }\n",
              "</style>\n",
              "<table border=\"1\" class=\"dataframe\">\n",
              "  <thead>\n",
              "    <tr style=\"text-align: right;\">\n",
              "      <th></th>\n",
              "      <th>사업장명</th>\n",
              "      <th>가입자수</th>\n",
              "      <th>신규</th>\n",
              "      <th>상실</th>\n",
              "      <th>고지금액</th>\n",
              "      <th>인당고지금액</th>\n",
              "      <th>평균월급</th>\n",
              "      <th>평균연봉</th>\n",
              "    </tr>\n",
              "  </thead>\n",
              "  <tbody>\n",
              "    <tr>\n",
              "      <th>253925</th>\n",
              "      <td>쿠팡</td>\n",
              "      <td>13835</td>\n",
              "      <td>1678.00</td>\n",
              "      <td>915.00</td>\n",
              "      <td>3925868620</td>\n",
              "      <td>283763.54</td>\n",
              "      <td>3152928.26</td>\n",
              "      <td>37835139.09</td>\n",
              "    </tr>\n",
              "    <tr>\n",
              "      <th>5288</th>\n",
              "      <td>스타벅스커피코리아</td>\n",
              "      <td>17087</td>\n",
              "      <td>1279.00</td>\n",
              "      <td>518.00</td>\n",
              "      <td>3063022300</td>\n",
              "      <td>179260.39</td>\n",
              "      <td>1991782.12</td>\n",
              "      <td>23901385.46</td>\n",
              "    </tr>\n",
              "    <tr>\n",
              "      <th>62951</th>\n",
              "      <td>인터파크</td>\n",
              "      <td>1222</td>\n",
              "      <td>1186.00</td>\n",
              "      <td>36.00</td>\n",
              "      <td>364521140</td>\n",
              "      <td>298298.81</td>\n",
              "      <td>3314431.17</td>\n",
              "      <td>39773174.03</td>\n",
              "    </tr>\n",
              "    <tr>\n",
              "      <th>47417</th>\n",
              "      <td>한국맥도날드유한회사</td>\n",
              "      <td>8288</td>\n",
              "      <td>1066.00</td>\n",
              "      <td>886.00</td>\n",
              "      <td>830463700</td>\n",
              "      <td>100200.74</td>\n",
              "      <td>1113341.51</td>\n",
              "      <td>13360098.13</td>\n",
              "    </tr>\n",
              "    <tr>\n",
              "      <th>139505</th>\n",
              "      <td>씨에스원 파트너</td>\n",
              "      <td>1730</td>\n",
              "      <td>1061.00</td>\n",
              "      <td>73.00</td>\n",
              "      <td>428084540</td>\n",
              "      <td>247447.71</td>\n",
              "      <td>2749419.01</td>\n",
              "      <td>32993028.13</td>\n",
              "    </tr>\n",
              "    <tr>\n",
              "      <th>157341</th>\n",
              "      <td>대원고속</td>\n",
              "      <td>2270</td>\n",
              "      <td>911.00</td>\n",
              "      <td>17.00</td>\n",
              "      <td>811480180</td>\n",
              "      <td>357480.26</td>\n",
              "      <td>3972002.84</td>\n",
              "      <td>47664034.07</td>\n",
              "    </tr>\n",
              "    <tr>\n",
              "      <th>157398</th>\n",
              "      <td>경기고속</td>\n",
              "      <td>2308</td>\n",
              "      <td>869.00</td>\n",
              "      <td>26.00</td>\n",
              "      <td>836458800</td>\n",
              "      <td>362417.16</td>\n",
              "      <td>4026857.31</td>\n",
              "      <td>48322287.69</td>\n",
              "    </tr>\n",
              "    <tr>\n",
              "      <th>5602</th>\n",
              "      <td>유베이스</td>\n",
              "      <td>10074</td>\n",
              "      <td>805.00</td>\n",
              "      <td>703.00</td>\n",
              "      <td>1834227240</td>\n",
              "      <td>182075.37</td>\n",
              "      <td>2023059.63</td>\n",
              "      <td>24276715.51</td>\n",
              "    </tr>\n",
              "    <tr>\n",
              "      <th>2872</th>\n",
              "      <td>대림건설</td>\n",
              "      <td>1581</td>\n",
              "      <td>722.00</td>\n",
              "      <td>36.00</td>\n",
              "      <td>612514240</td>\n",
              "      <td>387422.04</td>\n",
              "      <td>4304689.30</td>\n",
              "      <td>51656271.56</td>\n",
              "    </tr>\n",
              "    <tr>\n",
              "      <th>231977</th>\n",
              "      <td>제니엘시스템</td>\n",
              "      <td>741</td>\n",
              "      <td>719.00</td>\n",
              "      <td>388.00</td>\n",
              "      <td>106531920</td>\n",
              "      <td>143767.77</td>\n",
              "      <td>1597419.70</td>\n",
              "      <td>19169036.44</td>\n",
              "    </tr>\n",
              "    <tr>\n",
              "      <th>12257</th>\n",
              "      <td>트랜스코스모스코리아</td>\n",
              "      <td>7614</td>\n",
              "      <td>698.00</td>\n",
              "      <td>465.00</td>\n",
              "      <td>1393826140</td>\n",
              "      <td>183060.96</td>\n",
              "      <td>2034010.65</td>\n",
              "      <td>24408127.83</td>\n",
              "    </tr>\n",
              "    <tr>\n",
              "      <th>3586</th>\n",
              "      <td>현대자동차</td>\n",
              "      <td>68010</td>\n",
              "      <td>593.00</td>\n",
              "      <td>301.00</td>\n",
              "      <td>30036022820</td>\n",
              "      <td>441641.27</td>\n",
              "      <td>4907125.23</td>\n",
              "      <td>58885502.76</td>\n",
              "    </tr>\n",
              "    <tr>\n",
              "      <th>107107</th>\n",
              "      <td>대원운수</td>\n",
              "      <td>816</td>\n",
              "      <td>552.00</td>\n",
              "      <td>12.00</td>\n",
              "      <td>267504400</td>\n",
              "      <td>327824.02</td>\n",
              "      <td>3642489.11</td>\n",
              "      <td>43709869.28</td>\n",
              "    </tr>\n",
              "    <tr>\n",
              "      <th>3237</th>\n",
              "      <td>국민은행</td>\n",
              "      <td>16976</td>\n",
              "      <td>550.00</td>\n",
              "      <td>102.00</td>\n",
              "      <td>7227931480</td>\n",
              "      <td>425773.53</td>\n",
              "      <td>4730817.02</td>\n",
              "      <td>56769804.27</td>\n",
              "    </tr>\n",
              "    <tr>\n",
              "      <th>7289</th>\n",
              "      <td>메타넷엠플랫폼</td>\n",
              "      <td>6825</td>\n",
              "      <td>525.00</td>\n",
              "      <td>358.00</td>\n",
              "      <td>1203745080</td>\n",
              "      <td>176372.91</td>\n",
              "      <td>1959698.95</td>\n",
              "      <td>23516387.40</td>\n",
              "    </tr>\n",
              "    <tr>\n",
              "      <th>169740</th>\n",
              "      <td>고양시청</td>\n",
              "      <td>1548</td>\n",
              "      <td>521.00</td>\n",
              "      <td>208.00</td>\n",
              "      <td>237658460</td>\n",
              "      <td>153526.14</td>\n",
              "      <td>1705845.97</td>\n",
              "      <td>20470151.59</td>\n",
              "    </tr>\n",
              "    <tr>\n",
              "      <th>235976</th>\n",
              "      <td>비케이알</td>\n",
              "      <td>3827</td>\n",
              "      <td>511.00</td>\n",
              "      <td>510.00</td>\n",
              "      <td>387012360</td>\n",
              "      <td>101126.83</td>\n",
              "      <td>1123631.39</td>\n",
              "      <td>13483576.69</td>\n",
              "    </tr>\n",
              "    <tr>\n",
              "      <th>4634</th>\n",
              "      <td>삼성전자</td>\n",
              "      <td>103139</td>\n",
              "      <td>485.00</td>\n",
              "      <td>538.00</td>\n",
              "      <td>45835633380</td>\n",
              "      <td>444406.42</td>\n",
              "      <td>4937849.07</td>\n",
              "      <td>59254188.85</td>\n",
              "    </tr>\n",
              "    <tr>\n",
              "      <th>299460</th>\n",
              "      <td>우아한청년들</td>\n",
              "      <td>1325</td>\n",
              "      <td>482.00</td>\n",
              "      <td>202.00</td>\n",
              "      <td>234346980</td>\n",
              "      <td>176865.65</td>\n",
              "      <td>1965173.84</td>\n",
              "      <td>23582086.04</td>\n",
              "    </tr>\n",
              "    <tr>\n",
              "      <th>293088</th>\n",
              "      <td>맨파워그룹코리아</td>\n",
              "      <td>2976</td>\n",
              "      <td>481.00</td>\n",
              "      <td>312.00</td>\n",
              "      <td>613575020</td>\n",
              "      <td>206174.40</td>\n",
              "      <td>2290826.69</td>\n",
              "      <td>27489920.25</td>\n",
              "    </tr>\n",
              "  </tbody>\n",
              "</table>\n",
              "</div>"
            ],
            "text/plain": [
              "              사업장명    가입자수      신규  ...    인당고지금액       평균월급        평균연봉\n",
              "253925         쿠팡    13835 1678.00  ... 283763.54 3152928.26 37835139.09\n",
              "5288     스타벅스커피코리아   17087 1279.00  ... 179260.39 1991782.12 23901385.46\n",
              "62951         인터파크    1222 1186.00  ... 298298.81 3314431.17 39773174.03\n",
              "47417   한국맥도날드유한회사    8288 1066.00  ... 100200.74 1113341.51 13360098.13\n",
              "139505    씨에스원 파트너    1730 1061.00  ... 247447.71 2749419.01 32993028.13\n",
              "157341        대원고속    2270  911.00  ... 357480.26 3972002.84 47664034.07\n",
              "157398        경기고속    2308  869.00  ... 362417.16 4026857.31 48322287.69\n",
              "5602          유베이스   10074  805.00  ... 182075.37 2023059.63 24276715.51\n",
              "2872         대림건설     1581  722.00  ... 387422.04 4304689.30 51656271.56\n",
              "231977      제니엘시스템     741  719.00  ... 143767.77 1597419.70 19169036.44\n",
              "12257   트랜스코스모스코리아    7614  698.00  ... 183060.96 2034010.65 24408127.83\n",
              "3586         현대자동차   68010  593.00  ... 441641.27 4907125.23 58885502.76\n",
              "107107        대원운수     816  552.00  ... 327824.02 3642489.11 43709869.28\n",
              "3237          국민은행   16976  550.00  ... 425773.53 4730817.02 56769804.27\n",
              "7289       메타넷엠플랫폼    6825  525.00  ... 176372.91 1959698.95 23516387.40\n",
              "169740        고양시청    1548  521.00  ... 153526.14 1705845.97 20470151.59\n",
              "235976        비케이알    3827  511.00  ... 101126.83 1123631.39 13483576.69\n",
              "4634          삼성전자  103139  485.00  ... 444406.42 4937849.07 59254188.85\n",
              "299460      우아한청년들    1325  482.00  ... 176865.65 1965173.84 23582086.04\n",
              "293088    맨파워그룹코리아    2976  481.00  ... 206174.40 2290826.69 27489920.25\n",
              "\n",
              "[20 rows x 8 columns]"
            ]
          },
          "metadata": {
            "tags": []
          },
          "execution_count": 78
        }
      ]
    },
    {
      "cell_type": "markdown",
      "metadata": {
        "id": "5NSqLEDA8U_F",
        "colab_type": "text"
      },
      "source": [
        "### 상실 King!"
      ]
    },
    {
      "cell_type": "code",
      "metadata": {
        "id": "25jMGeQx8U_G",
        "colab_type": "code",
        "colab": {
          "base_uri": "https://localhost:8080/",
          "height": 639
        },
        "outputId": "7dcb1159-622b-4285-eb4a-2dcfc4d2e99c"
      },
      "source": [
        "df_main.sort_values(by='상실', ascending=False).head(20)"
      ],
      "execution_count": 79,
      "outputs": [
        {
          "output_type": "execute_result",
          "data": {
            "text/html": [
              "<div>\n",
              "<style scoped>\n",
              "    .dataframe tbody tr th:only-of-type {\n",
              "        vertical-align: middle;\n",
              "    }\n",
              "\n",
              "    .dataframe tbody tr th {\n",
              "        vertical-align: top;\n",
              "    }\n",
              "\n",
              "    .dataframe thead th {\n",
              "        text-align: right;\n",
              "    }\n",
              "</style>\n",
              "<table border=\"1\" class=\"dataframe\">\n",
              "  <thead>\n",
              "    <tr style=\"text-align: right;\">\n",
              "      <th></th>\n",
              "      <th>사업장명</th>\n",
              "      <th>가입자수</th>\n",
              "      <th>신규</th>\n",
              "      <th>상실</th>\n",
              "      <th>고지금액</th>\n",
              "      <th>인당고지금액</th>\n",
              "      <th>평균월급</th>\n",
              "      <th>평균연봉</th>\n",
              "    </tr>\n",
              "  </thead>\n",
              "  <tbody>\n",
              "    <tr>\n",
              "      <th>253925</th>\n",
              "      <td>쿠팡</td>\n",
              "      <td>13835</td>\n",
              "      <td>1678.00</td>\n",
              "      <td>915.00</td>\n",
              "      <td>3925868620</td>\n",
              "      <td>283763.54</td>\n",
              "      <td>3152928.26</td>\n",
              "      <td>37835139.09</td>\n",
              "    </tr>\n",
              "    <tr>\n",
              "      <th>47417</th>\n",
              "      <td>한국맥도날드유한회사</td>\n",
              "      <td>8288</td>\n",
              "      <td>1066.00</td>\n",
              "      <td>886.00</td>\n",
              "      <td>830463700</td>\n",
              "      <td>100200.74</td>\n",
              "      <td>1113341.51</td>\n",
              "      <td>13360098.13</td>\n",
              "    </tr>\n",
              "    <tr>\n",
              "      <th>4519</th>\n",
              "      <td>모두투어네트워크</td>\n",
              "      <td>867</td>\n",
              "      <td>240.00</td>\n",
              "      <td>760.00</td>\n",
              "      <td>195684780</td>\n",
              "      <td>225703.32</td>\n",
              "      <td>2507814.69</td>\n",
              "      <td>30093776.24</td>\n",
              "    </tr>\n",
              "    <tr>\n",
              "      <th>5602</th>\n",
              "      <td>유베이스</td>\n",
              "      <td>10074</td>\n",
              "      <td>805.00</td>\n",
              "      <td>703.00</td>\n",
              "      <td>1834227240</td>\n",
              "      <td>182075.37</td>\n",
              "      <td>2023059.63</td>\n",
              "      <td>24276715.51</td>\n",
              "    </tr>\n",
              "    <tr>\n",
              "      <th>166824</th>\n",
              "      <td>진주시청</td>\n",
              "      <td>1080</td>\n",
              "      <td>69.00</td>\n",
              "      <td>583.00</td>\n",
              "      <td>177969640</td>\n",
              "      <td>164786.70</td>\n",
              "      <td>1830963.37</td>\n",
              "      <td>21971560.49</td>\n",
              "    </tr>\n",
              "    <tr>\n",
              "      <th>6730</th>\n",
              "      <td>푸르지오서비스</td>\n",
              "      <td>555</td>\n",
              "      <td>10.00</td>\n",
              "      <td>555.00</td>\n",
              "      <td>161555240</td>\n",
              "      <td>291090.52</td>\n",
              "      <td>3234339.14</td>\n",
              "      <td>38812069.67</td>\n",
              "    </tr>\n",
              "    <tr>\n",
              "      <th>4634</th>\n",
              "      <td>삼성전자</td>\n",
              "      <td>103139</td>\n",
              "      <td>485.00</td>\n",
              "      <td>538.00</td>\n",
              "      <td>45835633380</td>\n",
              "      <td>444406.42</td>\n",
              "      <td>4937849.07</td>\n",
              "      <td>59254188.85</td>\n",
              "    </tr>\n",
              "    <tr>\n",
              "      <th>86874</th>\n",
              "      <td>제니엘</td>\n",
              "      <td>5772</td>\n",
              "      <td>313.00</td>\n",
              "      <td>519.00</td>\n",
              "      <td>1038855780</td>\n",
              "      <td>179981.94</td>\n",
              "      <td>1999799.38</td>\n",
              "      <td>23997592.52</td>\n",
              "    </tr>\n",
              "    <tr>\n",
              "      <th>5288</th>\n",
              "      <td>스타벅스커피코리아</td>\n",
              "      <td>17087</td>\n",
              "      <td>1279.00</td>\n",
              "      <td>518.00</td>\n",
              "      <td>3063022300</td>\n",
              "      <td>179260.39</td>\n",
              "      <td>1991782.12</td>\n",
              "      <td>23901385.46</td>\n",
              "    </tr>\n",
              "    <tr>\n",
              "      <th>235976</th>\n",
              "      <td>비케이알</td>\n",
              "      <td>3827</td>\n",
              "      <td>511.00</td>\n",
              "      <td>510.00</td>\n",
              "      <td>387012360</td>\n",
              "      <td>101126.83</td>\n",
              "      <td>1123631.39</td>\n",
              "      <td>13483576.69</td>\n",
              "    </tr>\n",
              "    <tr>\n",
              "      <th>53987</th>\n",
              "      <td>에프알엘코리아</td>\n",
              "      <td>3340</td>\n",
              "      <td>46.00</td>\n",
              "      <td>482.00</td>\n",
              "      <td>664550620</td>\n",
              "      <td>198967.25</td>\n",
              "      <td>2210747.24</td>\n",
              "      <td>26528966.87</td>\n",
              "    </tr>\n",
              "    <tr>\n",
              "      <th>62557</th>\n",
              "      <td>아성다이소</td>\n",
              "      <td>10642</td>\n",
              "      <td>394.00</td>\n",
              "      <td>478.00</td>\n",
              "      <td>1993299260</td>\n",
              "      <td>187304.95</td>\n",
              "      <td>2081166.09</td>\n",
              "      <td>24973993.11</td>\n",
              "    </tr>\n",
              "    <tr>\n",
              "      <th>12257</th>\n",
              "      <td>트랜스코스모스코리아</td>\n",
              "      <td>7614</td>\n",
              "      <td>698.00</td>\n",
              "      <td>465.00</td>\n",
              "      <td>1393826140</td>\n",
              "      <td>183060.96</td>\n",
              "      <td>2034010.65</td>\n",
              "      <td>24408127.83</td>\n",
              "    </tr>\n",
              "    <tr>\n",
              "      <th>56481</th>\n",
              "      <td>한석맨파워</td>\n",
              "      <td>1601</td>\n",
              "      <td>379.00</td>\n",
              "      <td>445.00</td>\n",
              "      <td>195602080</td>\n",
              "      <td>122174.94</td>\n",
              "      <td>1357499.34</td>\n",
              "      <td>16289992.09</td>\n",
              "    </tr>\n",
              "    <tr>\n",
              "      <th>62360</th>\n",
              "      <td>효성ITX</td>\n",
              "      <td>7219</td>\n",
              "      <td>423.00</td>\n",
              "      <td>441.00</td>\n",
              "      <td>1406181880</td>\n",
              "      <td>194789.01</td>\n",
              "      <td>2164322.36</td>\n",
              "      <td>25971868.31</td>\n",
              "    </tr>\n",
              "    <tr>\n",
              "      <th>14872</th>\n",
              "      <td>엘지전자</td>\n",
              "      <td>40239</td>\n",
              "      <td>395.00</td>\n",
              "      <td>419.00</td>\n",
              "      <td>17465807440</td>\n",
              "      <td>434051.73</td>\n",
              "      <td>4822796.97</td>\n",
              "      <td>57873563.59</td>\n",
              "    </tr>\n",
              "    <tr>\n",
              "      <th>231977</th>\n",
              "      <td>제니엘시스템</td>\n",
              "      <td>741</td>\n",
              "      <td>719.00</td>\n",
              "      <td>388.00</td>\n",
              "      <td>106531920</td>\n",
              "      <td>143767.77</td>\n",
              "      <td>1597419.70</td>\n",
              "      <td>19169036.44</td>\n",
              "    </tr>\n",
              "    <tr>\n",
              "      <th>7289</th>\n",
              "      <td>메타넷엠플랫폼</td>\n",
              "      <td>6825</td>\n",
              "      <td>525.00</td>\n",
              "      <td>358.00</td>\n",
              "      <td>1203745080</td>\n",
              "      <td>176372.91</td>\n",
              "      <td>1959698.95</td>\n",
              "      <td>23516387.40</td>\n",
              "    </tr>\n",
              "    <tr>\n",
              "      <th>35351</th>\n",
              "      <td>대구광역시수성구청 일자리정책사업단</td>\n",
              "      <td>354</td>\n",
              "      <td>44.00</td>\n",
              "      <td>350.00</td>\n",
              "      <td>35759700</td>\n",
              "      <td>101016.10</td>\n",
              "      <td>1122401.13</td>\n",
              "      <td>13468813.56</td>\n",
              "    </tr>\n",
              "    <tr>\n",
              "      <th>5615</th>\n",
              "      <td>에스텍시스템</td>\n",
              "      <td>8429</td>\n",
              "      <td>289.00</td>\n",
              "      <td>349.00</td>\n",
              "      <td>2051122020</td>\n",
              "      <td>243341.09</td>\n",
              "      <td>2703789.85</td>\n",
              "      <td>32445478.23</td>\n",
              "    </tr>\n",
              "  </tbody>\n",
              "</table>\n",
              "</div>"
            ],
            "text/plain": [
              "                      사업장명    가입자수      신규  ...    인당고지금액       평균월급        평균연봉\n",
              "253925                 쿠팡    13835 1678.00  ... 283763.54 3152928.26 37835139.09\n",
              "47417           한국맥도날드유한회사    8288 1066.00  ... 100200.74 1113341.51 13360098.13\n",
              "4519              모두투어네트워크     867  240.00  ... 225703.32 2507814.69 30093776.24\n",
              "5602                  유베이스   10074  805.00  ... 182075.37 2023059.63 24276715.51\n",
              "166824                진주시청    1080   69.00  ... 164786.70 1830963.37 21971560.49\n",
              "6730               푸르지오서비스     555   10.00  ... 291090.52 3234339.14 38812069.67\n",
              "4634                  삼성전자  103139  485.00  ... 444406.42 4937849.07 59254188.85\n",
              "86874                  제니엘    5772  313.00  ... 179981.94 1999799.38 23997592.52\n",
              "5288             스타벅스커피코리아   17087 1279.00  ... 179260.39 1991782.12 23901385.46\n",
              "235976                비케이알    3827  511.00  ... 101126.83 1123631.39 13483576.69\n",
              "53987              에프알엘코리아    3340   46.00  ... 198967.25 2210747.24 26528966.87\n",
              "62557                아성다이소   10642  394.00  ... 187304.95 2081166.09 24973993.11\n",
              "12257           트랜스코스모스코리아    7614  698.00  ... 183060.96 2034010.65 24408127.83\n",
              "56481               한석맨파워     1601  379.00  ... 122174.94 1357499.34 16289992.09\n",
              "62360               효성ITX     7219  423.00  ... 194789.01 2164322.36 25971868.31\n",
              "14872                 엘지전자   40239  395.00  ... 434051.73 4822796.97 57873563.59\n",
              "231977              제니엘시스템     741  719.00  ... 143767.77 1597419.70 19169036.44\n",
              "7289               메타넷엠플랫폼    6825  525.00  ... 176372.91 1959698.95 23516387.40\n",
              "35351   대구광역시수성구청 일자리정책사업단     354   44.00  ... 101016.10 1122401.13 13468813.56\n",
              "5615                에스텍시스템    8429  289.00  ... 243341.09 2703789.85 32445478.23\n",
              "\n",
              "[20 rows x 8 columns]"
            ]
          },
          "metadata": {
            "tags": []
          },
          "execution_count": 79
        }
      ]
    },
    {
      "cell_type": "markdown",
      "metadata": {
        "id": "TAK67SCJ8U_J",
        "colab_type": "text"
      },
      "source": [
        "## 300인 이하 기업"
      ]
    },
    {
      "cell_type": "code",
      "metadata": {
        "id": "D33HXjjs8U_J",
        "colab_type": "code",
        "colab": {}
      },
      "source": [
        "people_limit = 300"
      ],
      "execution_count": 80,
      "outputs": []
    },
    {
      "cell_type": "code",
      "metadata": {
        "id": "0OLlsQdo8U_M",
        "colab_type": "code",
        "colab": {}
      },
      "source": [
        "small = df_main.loc[(df_main['가입자수'].notnull()) & (df_main['가입자수'] < people_limit)]"
      ],
      "execution_count": 81,
      "outputs": []
    },
    {
      "cell_type": "code",
      "metadata": {
        "id": "FZO13QYf8U_Q",
        "colab_type": "code",
        "colab": {
          "base_uri": "https://localhost:8080/",
          "height": 34
        },
        "outputId": "680dfde1-e6bd-4297-dd18-94682d6f61d4"
      },
      "source": [
        "small['가입자수'].isnull().sum()"
      ],
      "execution_count": 82,
      "outputs": [
        {
          "output_type": "execute_result",
          "data": {
            "text/plain": [
              "0"
            ]
          },
          "metadata": {
            "tags": []
          },
          "execution_count": 82
        }
      ]
    },
    {
      "cell_type": "markdown",
      "metadata": {
        "id": "k1U4ywtO1kJf",
        "colab_type": "text"
      },
      "source": [
        "### 300인 이하 기업의 분포도"
      ]
    },
    {
      "cell_type": "code",
      "metadata": {
        "id": "GrFH7YAF8U_S",
        "colab_type": "code",
        "colab": {
          "base_uri": "https://localhost:8080/",
          "height": 463
        },
        "outputId": "e3a41b73-180b-4bd1-b40d-e16fec81bf9e"
      },
      "source": [
        "plt.figure(figsize=(10, 7))\n",
        "sns.distplot(small['가입자수'])\n",
        "plt.title('가입자', fontsize=18)\n",
        "plt.show()"
      ],
      "execution_count": 83,
      "outputs": [
        {
          "output_type": "display_data",
          "data": {
            "image/png": "[encoded data removed]",
            "text/plain": [
              "<Figure size 720x504 with 1 Axes>"
            ]
          },
          "metadata": {
            "tags": [],
            "needs_background": "light"
          }
        }
      ]
    },
    {
      "cell_type": "markdown",
      "metadata": {
        "id": "lkSh6Z0J2A3O",
        "colab_type": "text"
      },
      "source": [
        "### 300인 이하 기업 중 상실 King!!"
      ]
    },
    {
      "cell_type": "code",
      "metadata": {
        "id": "qd-mecMp8U_V",
        "colab_type": "code",
        "colab": {
          "base_uri": "https://localhost:8080/",
          "height": 639
        },
        "outputId": "1f0546ee-4daf-4275-db3d-d0e3a690bf36"
      },
      "source": [
        "small.sort_values(by='상실', ascending=False).head(20)"
      ],
      "execution_count": 85,
      "outputs": [
        {
          "output_type": "execute_result",
          "data": {
            "text/html": [
              "<div>\n",
              "<style scoped>\n",
              "    .dataframe tbody tr th:only-of-type {\n",
              "        vertical-align: middle;\n",
              "    }\n",
              "\n",
              "    .dataframe tbody tr th {\n",
              "        vertical-align: top;\n",
              "    }\n",
              "\n",
              "    .dataframe thead th {\n",
              "        text-align: right;\n",
              "    }\n",
              "</style>\n",
              "<table border=\"1\" class=\"dataframe\">\n",
              "  <thead>\n",
              "    <tr style=\"text-align: right;\">\n",
              "      <th></th>\n",
              "      <th>사업장명</th>\n",
              "      <th>가입자수</th>\n",
              "      <th>신규</th>\n",
              "      <th>상실</th>\n",
              "      <th>고지금액</th>\n",
              "      <th>인당고지금액</th>\n",
              "      <th>평균월급</th>\n",
              "      <th>평균연봉</th>\n",
              "    </tr>\n",
              "  </thead>\n",
              "  <tbody>\n",
              "    <tr>\n",
              "      <th>319922</th>\n",
              "      <td>대구시청/교육협력정책관</td>\n",
              "      <td>277</td>\n",
              "      <td>0.00</td>\n",
              "      <td>277.00</td>\n",
              "      <td>12089720</td>\n",
              "      <td>43645.20</td>\n",
              "      <td>484946.65</td>\n",
              "      <td>5819359.81</td>\n",
              "    </tr>\n",
              "    <tr>\n",
              "      <th>36026</th>\n",
              "      <td>서구청 경제과</td>\n",
              "      <td>252</td>\n",
              "      <td>4.00</td>\n",
              "      <td>246.00</td>\n",
              "      <td>30881700</td>\n",
              "      <td>122546.43</td>\n",
              "      <td>1361626.98</td>\n",
              "      <td>16339523.81</td>\n",
              "    </tr>\n",
              "    <tr>\n",
              "      <th>142713</th>\n",
              "      <td>엔에이치엔여행박사</td>\n",
              "      <td>243</td>\n",
              "      <td>2.00</td>\n",
              "      <td>226.00</td>\n",
              "      <td>60002900</td>\n",
              "      <td>246925.51</td>\n",
              "      <td>2743616.83</td>\n",
              "      <td>32923401.92</td>\n",
              "    </tr>\n",
              "    <tr>\n",
              "      <th>182068</th>\n",
              "      <td>달성군청 공공근로4단계</td>\n",
              "      <td>197</td>\n",
              "      <td>0.00</td>\n",
              "      <td>196.00</td>\n",
              "      <td>20389500</td>\n",
              "      <td>103500.00</td>\n",
              "      <td>1150000.00</td>\n",
              "      <td>13800000.00</td>\n",
              "    </tr>\n",
              "    <tr>\n",
              "      <th>201210</th>\n",
              "      <td>안양시환경사업소</td>\n",
              "      <td>182</td>\n",
              "      <td>0.00</td>\n",
              "      <td>172.00</td>\n",
              "      <td>67838920</td>\n",
              "      <td>372741.32</td>\n",
              "      <td>4141570.21</td>\n",
              "      <td>49698842.49</td>\n",
              "    </tr>\n",
              "    <tr>\n",
              "      <th>295864</th>\n",
              "      <td>남양주시</td>\n",
              "      <td>158</td>\n",
              "      <td>33.00</td>\n",
              "      <td>158.00</td>\n",
              "      <td>18621000</td>\n",
              "      <td>117854.43</td>\n",
              "      <td>1309493.67</td>\n",
              "      <td>15713924.05</td>\n",
              "    </tr>\n",
              "    <tr>\n",
              "      <th>301859</th>\n",
              "      <td>에코라인</td>\n",
              "      <td>181</td>\n",
              "      <td>0.00</td>\n",
              "      <td>146.00</td>\n",
              "      <td>43517520</td>\n",
              "      <td>240428.29</td>\n",
              "      <td>2671425.41</td>\n",
              "      <td>32057104.97</td>\n",
              "    </tr>\n",
              "    <tr>\n",
              "      <th>36120</th>\n",
              "      <td>동구청 경제과 공공근로사업</td>\n",
              "      <td>139</td>\n",
              "      <td>2.00</td>\n",
              "      <td>137.00</td>\n",
              "      <td>13536440</td>\n",
              "      <td>97384.46</td>\n",
              "      <td>1082049.56</td>\n",
              "      <td>12984594.72</td>\n",
              "    </tr>\n",
              "    <tr>\n",
              "      <th>116404</th>\n",
              "      <td>신용보증재단중앙회</td>\n",
              "      <td>259</td>\n",
              "      <td>16.00</td>\n",
              "      <td>133.00</td>\n",
              "      <td>67827580</td>\n",
              "      <td>261882.55</td>\n",
              "      <td>2909806.09</td>\n",
              "      <td>34917673.10</td>\n",
              "    </tr>\n",
              "    <tr>\n",
              "      <th>182335</th>\n",
              "      <td>성동돌봄센터</td>\n",
              "      <td>160</td>\n",
              "      <td>4.00</td>\n",
              "      <td>131.00</td>\n",
              "      <td>22481160</td>\n",
              "      <td>140507.25</td>\n",
              "      <td>1561191.67</td>\n",
              "      <td>18734300.00</td>\n",
              "    </tr>\n",
              "    <tr>\n",
              "      <th>39101</th>\n",
              "      <td>래피드어드벤스</td>\n",
              "      <td>125</td>\n",
              "      <td>5.00</td>\n",
              "      <td>125.00</td>\n",
              "      <td>21737760</td>\n",
              "      <td>173902.08</td>\n",
              "      <td>1932245.33</td>\n",
              "      <td>23186944.00</td>\n",
              "    </tr>\n",
              "    <tr>\n",
              "      <th>163451</th>\n",
              "      <td>한국게이츠</td>\n",
              "      <td>131</td>\n",
              "      <td>3.00</td>\n",
              "      <td>120.00</td>\n",
              "      <td>55701040</td>\n",
              "      <td>425198.78</td>\n",
              "      <td>4724430.87</td>\n",
              "      <td>56693170.48</td>\n",
              "    </tr>\n",
              "    <tr>\n",
              "      <th>268419</th>\n",
              "      <td>에스피텍홀딩스</td>\n",
              "      <td>124</td>\n",
              "      <td>1.00</td>\n",
              "      <td>120.00</td>\n",
              "      <td>49006220</td>\n",
              "      <td>395211.45</td>\n",
              "      <td>4391238.35</td>\n",
              "      <td>52694860.22</td>\n",
              "    </tr>\n",
              "    <tr>\n",
              "      <th>186053</th>\n",
              "      <td>타이드스퀘어</td>\n",
              "      <td>256</td>\n",
              "      <td>0.00</td>\n",
              "      <td>116.00</td>\n",
              "      <td>70508780</td>\n",
              "      <td>275424.92</td>\n",
              "      <td>3060276.91</td>\n",
              "      <td>36723322.92</td>\n",
              "    </tr>\n",
              "    <tr>\n",
              "      <th>35358</th>\n",
              "      <td>대구남구청공공근로</td>\n",
              "      <td>113</td>\n",
              "      <td>0.00</td>\n",
              "      <td>113.00</td>\n",
              "      <td>10963260</td>\n",
              "      <td>97020.00</td>\n",
              "      <td>1078000.00</td>\n",
              "      <td>12936000.00</td>\n",
              "    </tr>\n",
              "    <tr>\n",
              "      <th>89919</th>\n",
              "      <td>국도섬유</td>\n",
              "      <td>109</td>\n",
              "      <td>0.00</td>\n",
              "      <td>106.00</td>\n",
              "      <td>20563060</td>\n",
              "      <td>188651.93</td>\n",
              "      <td>2096132.52</td>\n",
              "      <td>25153590.21</td>\n",
              "    </tr>\n",
              "    <tr>\n",
              "      <th>250509</th>\n",
              "      <td>한전케이피에스한빛사업처</td>\n",
              "      <td>105</td>\n",
              "      <td>13.00</td>\n",
              "      <td>105.00</td>\n",
              "      <td>17874360</td>\n",
              "      <td>170232.00</td>\n",
              "      <td>1891466.67</td>\n",
              "      <td>22697600.00</td>\n",
              "    </tr>\n",
              "    <tr>\n",
              "      <th>73053</th>\n",
              "      <td>에이치씨엔씨</td>\n",
              "      <td>139</td>\n",
              "      <td>0.00</td>\n",
              "      <td>104.00</td>\n",
              "      <td>36092180</td>\n",
              "      <td>259655.97</td>\n",
              "      <td>2885066.35</td>\n",
              "      <td>34620796.16</td>\n",
              "    </tr>\n",
              "    <tr>\n",
              "      <th>246948</th>\n",
              "      <td>와이즈버즈</td>\n",
              "      <td>103</td>\n",
              "      <td>2.00</td>\n",
              "      <td>103.00</td>\n",
              "      <td>31142280</td>\n",
              "      <td>302352.23</td>\n",
              "      <td>3359469.26</td>\n",
              "      <td>40313631.07</td>\n",
              "    </tr>\n",
              "    <tr>\n",
              "      <th>90979</th>\n",
              "      <td>국제플랜트</td>\n",
              "      <td>273</td>\n",
              "      <td>56.00</td>\n",
              "      <td>102.00</td>\n",
              "      <td>93320420</td>\n",
              "      <td>341833.04</td>\n",
              "      <td>3798144.89</td>\n",
              "      <td>45577738.71</td>\n",
              "    </tr>\n",
              "  </tbody>\n",
              "</table>\n",
              "</div>"
            ],
            "text/plain": [
              "                  사업장명  가입자수    신규  ...    인당고지금액       평균월급        평균연봉\n",
              "319922    대구시청/교육협력정책관   277  0.00  ...  43645.20  484946.65  5819359.81\n",
              "36026          서구청 경제과   252  4.00  ... 122546.43 1361626.98 16339523.81\n",
              "142713       엔에이치엔여행박사   243  2.00  ... 246925.51 2743616.83 32923401.92\n",
              "182068    달성군청 공공근로4단계   197  0.00  ... 103500.00 1150000.00 13800000.00\n",
              "201210        안양시환경사업소   182  0.00  ... 372741.32 4141570.21 49698842.49\n",
              "295864            남양주시   158 33.00  ... 117854.43 1309493.67 15713924.05\n",
              "301859            에코라인   181  0.00  ... 240428.29 2671425.41 32057104.97\n",
              "36120   동구청 경제과 공공근로사업   139  2.00  ...  97384.46 1082049.56 12984594.72\n",
              "116404       신용보증재단중앙회   259 16.00  ... 261882.55 2909806.09 34917673.10\n",
              "182335          성동돌봄센터   160  4.00  ... 140507.25 1561191.67 18734300.00\n",
              "39101          래피드어드벤스   125  5.00  ... 173902.08 1932245.33 23186944.00\n",
              "163451           한국게이츠   131  3.00  ... 425198.78 4724430.87 56693170.48\n",
              "268419        에스피텍홀딩스    124  1.00  ... 395211.45 4391238.35 52694860.22\n",
              "186053          타이드스퀘어   256  0.00  ... 275424.92 3060276.91 36723322.92\n",
              "35358        대구남구청공공근로   113  0.00  ...  97020.00 1078000.00 12936000.00\n",
              "89919             국도섬유   109  0.00  ... 188651.93 2096132.52 25153590.21\n",
              "250509    한전케이피에스한빛사업처   105 13.00  ... 170232.00 1891466.67 22697600.00\n",
              "73053           에이치씨엔씨   139  0.00  ... 259655.97 2885066.35 34620796.16\n",
              "246948           와이즈버즈   103  2.00  ... 302352.23 3359469.26 40313631.07\n",
              "90979            국제플랜트   273 56.00  ... 341833.04 3798144.89 45577738.71\n",
              "\n",
              "[20 rows x 8 columns]"
            ]
          },
          "metadata": {
            "tags": []
          },
          "execution_count": 85
        }
      ]
    },
    {
      "cell_type": "markdown",
      "metadata": {
        "id": "CjVf-1Hs8U_Z",
        "colab_type": "text"
      },
      "source": [
        "## 사업장명 데이터 정제 (Cleansing)"
      ]
    },
    {
      "cell_type": "code",
      "metadata": {
        "id": "i6CVRGvD8U_Z",
        "colab_type": "code",
        "colab": {}
      },
      "source": [
        "import re\n",
        "\n",
        "# 괄호안 문자열 제거\n",
        "pattern_1 = '\\(.*\\)'\n",
        "pattern_2 = '\\（.*\\）'\n",
        "pattern_3 = '주식회사'"
      ],
      "execution_count": 86,
      "outputs": []
    },
    {
      "cell_type": "markdown",
      "metadata": {
        "id": "9RnnHjbi8U_b",
        "colab_type": "text"
      },
      "source": [
        "### (주), (주식회사) 문자열 제거"
      ]
    },
    {
      "cell_type": "code",
      "metadata": {
        "id": "d8gEdUbm8U_c",
        "colab_type": "code",
        "colab": {
          "base_uri": "https://localhost:8080/",
          "height": 35
        },
        "outputId": "d1e3c82b-753d-48c9-99f9-358b0d9a03cc"
      },
      "source": [
        "re.sub(pattern_1, '', '브레인크루(주)')"
      ],
      "execution_count": 87,
      "outputs": [
        {
          "output_type": "execute_result",
          "data": {
            "application/vnd.google.colaboratory.intrinsic+json": {
              "type": "string"
            },
            "text/plain": [
              "'브레인크루'"
            ]
          },
          "metadata": {
            "tags": []
          },
          "execution_count": 87
        }
      ]
    },
    {
      "cell_type": "code",
      "metadata": {
        "id": "KnifkYax8U_f",
        "colab_type": "code",
        "colab": {
          "base_uri": "https://localhost:8080/",
          "height": 35
        },
        "outputId": "edc1d3f0-a8e7-458d-c815-c8c7a06c83ac"
      },
      "source": [
        "re.sub(pattern_1, '', '브레인크루(주식회사)')"
      ],
      "execution_count": 88,
      "outputs": [
        {
          "output_type": "execute_result",
          "data": {
            "application/vnd.google.colaboratory.intrinsic+json": {
              "type": "string"
            },
            "text/plain": [
              "'브레인크루'"
            ]
          },
          "metadata": {
            "tags": []
          },
          "execution_count": 88
        }
      ]
    },
    {
      "cell_type": "code",
      "metadata": {
        "id": "mqZ4izHy8U_j",
        "colab_type": "code",
        "colab": {
          "base_uri": "https://localhost:8080/",
          "height": 35
        },
        "outputId": "88818dbb-aede-41d7-d7d7-2b42f2ed1d99"
      },
      "source": [
        "re.sub(pattern_1, '', '(주)브레인크루')"
      ],
      "execution_count": 89,
      "outputs": [
        {
          "output_type": "execute_result",
          "data": {
            "application/vnd.google.colaboratory.intrinsic+json": {
              "type": "string"
            },
            "text/plain": [
              "'브레인크루'"
            ]
          },
          "metadata": {
            "tags": []
          },
          "execution_count": 89
        }
      ]
    },
    {
      "cell_type": "code",
      "metadata": {
        "id": "uMoIBqYC8U_n",
        "colab_type": "code",
        "colab": {
          "base_uri": "https://localhost:8080/",
          "height": 35
        },
        "outputId": "293a766b-643f-4268-d449-4d0fe509ac34"
      },
      "source": [
        "re.sub(pattern_2, '', '（주）타워홀딩스')"
      ],
      "execution_count": 90,
      "outputs": [
        {
          "output_type": "execute_result",
          "data": {
            "application/vnd.google.colaboratory.intrinsic+json": {
              "type": "string"
            },
            "text/plain": [
              "'타워홀딩스'"
            ]
          },
          "metadata": {
            "tags": []
          },
          "execution_count": 90
        }
      ]
    },
    {
      "cell_type": "markdown",
      "metadata": {
        "id": "L9DsUzHD8U_r",
        "colab_type": "text"
      },
      "source": [
        "### 주식회사 문자열 제거"
      ]
    },
    {
      "cell_type": "code",
      "metadata": {
        "id": "5AtZNYaS8U_s",
        "colab_type": "code",
        "colab": {
          "base_uri": "https://localhost:8080/",
          "height": 0
        },
        "outputId": "11bed461-04bb-42b2-8eea-5a52cc61317b"
      },
      "source": [
        "re.sub(pattern_3, '', '브레인크루 주식회사')"
      ],
      "execution_count": 45,
      "outputs": [
        {
          "output_type": "execute_result",
          "data": {
            "application/vnd.google.colaboratory.intrinsic+json": {
              "type": "string"
            },
            "text/plain": [
              "'브레인크루 '"
            ]
          },
          "metadata": {
            "tags": []
          },
          "execution_count": 45
        }
      ]
    },
    {
      "cell_type": "code",
      "metadata": {
        "id": "MD9z_n0-8U_w",
        "colab_type": "code",
        "colab": {
          "base_uri": "https://localhost:8080/",
          "height": 0
        },
        "outputId": "e433187f-80fd-42e1-ff28-31f222ed6fd5"
      },
      "source": [
        "re.sub(pattern_3, '', '브레인크루주식회사')"
      ],
      "execution_count": 46,
      "outputs": [
        {
          "output_type": "execute_result",
          "data": {
            "application/vnd.google.colaboratory.intrinsic+json": {
              "type": "string"
            },
            "text/plain": [
              "'브레인크루'"
            ]
          },
          "metadata": {
            "tags": []
          },
          "execution_count": 46
        }
      ]
    },
    {
      "cell_type": "code",
      "metadata": {
        "id": "JGmvrv218U_1",
        "colab_type": "code",
        "colab": {
          "base_uri": "https://localhost:8080/",
          "height": 0
        },
        "outputId": "c24419e3-cb4d-4e1a-cbf8-ec71864d5fcd"
      },
      "source": [
        "re.sub(pattern_3, '', '주식회사브레인크루주식회사')"
      ],
      "execution_count": 47,
      "outputs": [
        {
          "output_type": "execute_result",
          "data": {
            "application/vnd.google.colaboratory.intrinsic+json": {
              "type": "string"
            },
            "text/plain": [
              "'브레인크루'"
            ]
          },
          "metadata": {
            "tags": []
          },
          "execution_count": 47
        }
      ]
    },
    {
      "cell_type": "markdown",
      "metadata": {
        "id": "_CISWStZ3B1w",
        "colab_type": "text"
      },
      "source": [
        "### 실제 테이블에서 주식회사 문자열 제거"
      ]
    },
    {
      "cell_type": "code",
      "metadata": {
        "id": "7-Nckyp48U_5",
        "colab_type": "code",
        "colab": {}
      },
      "source": [
        "def text_preprocess(text):\n",
        "    text = re.sub(pattern_1, '', text)\n",
        "    text = re.sub(pattern_2, '', text)\n",
        "    text = re.sub(pattern_3, '', text)\n",
        "    return text"
      ],
      "execution_count": 91,
      "outputs": []
    },
    {
      "cell_type": "code",
      "metadata": {
        "id": "-rU8N5BN8U_9",
        "colab_type": "code",
        "colab": {}
      },
      "source": [
        "df_main['사업장명'] = df_main['사업장명'].apply(text_preprocess)"
      ],
      "execution_count": 92,
      "outputs": []
    },
    {
      "cell_type": "code",
      "metadata": {
        "id": "SfjDB2M48VAA",
        "colab_type": "code",
        "colab": {
          "base_uri": "https://localhost:8080/",
          "height": 77
        },
        "outputId": "28f6aaac-044d-404d-addc-92d1b679f179"
      },
      "source": [
        "df_main[df_main['사업장명'] == '엔에이치엔여행박사']"
      ],
      "execution_count": 93,
      "outputs": [
        {
          "output_type": "execute_result",
          "data": {
            "text/html": [
              "<div>\n",
              "<style scoped>\n",
              "    .dataframe tbody tr th:only-of-type {\n",
              "        vertical-align: middle;\n",
              "    }\n",
              "\n",
              "    .dataframe tbody tr th {\n",
              "        vertical-align: top;\n",
              "    }\n",
              "\n",
              "    .dataframe thead th {\n",
              "        text-align: right;\n",
              "    }\n",
              "</style>\n",
              "<table border=\"1\" class=\"dataframe\">\n",
              "  <thead>\n",
              "    <tr style=\"text-align: right;\">\n",
              "      <th></th>\n",
              "      <th>사업장명</th>\n",
              "      <th>가입자수</th>\n",
              "      <th>신규</th>\n",
              "      <th>상실</th>\n",
              "      <th>고지금액</th>\n",
              "      <th>인당고지금액</th>\n",
              "      <th>평균월급</th>\n",
              "      <th>평균연봉</th>\n",
              "    </tr>\n",
              "  </thead>\n",
              "  <tbody>\n",
              "    <tr>\n",
              "      <th>142713</th>\n",
              "      <td>엔에이치엔여행박사</td>\n",
              "      <td>243</td>\n",
              "      <td>2.00</td>\n",
              "      <td>226.00</td>\n",
              "      <td>60002900</td>\n",
              "      <td>246925.51</td>\n",
              "      <td>2743616.83</td>\n",
              "      <td>32923401.92</td>\n",
              "    </tr>\n",
              "  </tbody>\n",
              "</table>\n",
              "</div>"
            ],
            "text/plain": [
              "             사업장명  가입자수   신규     상실      고지금액    인당고지금액       평균월급        평균연봉\n",
              "142713  엔에이치엔여행박사   243 2.00 226.00  60002900 246925.51 2743616.83 32923401.92"
            ]
          },
          "metadata": {
            "tags": []
          },
          "execution_count": 93
        }
      ]
    },
    {
      "cell_type": "code",
      "metadata": {
        "id": "E0UmxFU38VAF",
        "colab_type": "code",
        "colab": {}
      },
      "source": [
        "df['사업장명'] = df['사업장명'].apply(text_preprocess)"
      ],
      "execution_count": 94,
      "outputs": []
    },
    {
      "cell_type": "code",
      "metadata": {
        "id": "1BzSBokx8VAK",
        "colab_type": "code",
        "colab": {
          "base_uri": "https://localhost:8080/",
          "height": 87
        },
        "outputId": "71423395-f86c-445f-9e73-ba0716f10a25"
      },
      "source": [
        "df.columns"
      ],
      "execution_count": 95,
      "outputs": [
        {
          "output_type": "execute_result",
          "data": {
            "text/plain": [
              "Index(['자료생성년월', '사업장명', '사업자번호', '가입상태', '우편번호', '지번주소', '도로명주소', '법정주소코드',\n",
              "       '행정주소코드', '광역시코드', '시군구코드', '읍면동코드', '사업장형태', '업종코드', '업종코드명', '적용일',\n",
              "       '재등록일', '탈퇴일', '가입자수', '고지금액', '신규', '상실', '인당고지금액', '평균월급', '평균연봉'],\n",
              "      dtype='object')"
            ]
          },
          "metadata": {
            "tags": []
          },
          "execution_count": 95
        }
      ]
    },
    {
      "cell_type": "markdown",
      "metadata": {
        "id": "xuDdKKfjtSW_",
        "colab_type": "text"
      },
      "source": [
        "##시군구 별 데이터"
      ]
    },
    {
      "cell_type": "code",
      "metadata": {
        "id": "Gio5J1od8VAO",
        "colab_type": "code",
        "colab": {
          "base_uri": "https://localhost:8080/",
          "height": 411
        },
        "outputId": "d09df0d2-84fb-43aa-fe9d-f352ed1ff436"
      },
      "source": [
        "plt.figure(figsize=(16, 6))\n",
        "sns.barplot(x=df.groupby('시군구코드')['가입자수'].mean().index, y=df.groupby('시군구코드')['가입자수'].mean())\n",
        "plt.title('시군구 별 가입자수')\n",
        "plt.xticks(rotation=90)\n",
        "plt.show()"
      ],
      "execution_count": 96,
      "outputs": [
        {
          "output_type": "display_data",
          "data": {
            "image/png": "[encoded data removed]",
            "text/plain": [
              "<Figure size 1152x432 with 1 Axes>"
            ]
          },
          "metadata": {
            "tags": [],
            "needs_background": "light"
          }
        }
      ]
    },
    {
      "cell_type": "code",
      "metadata": {
        "id": "lq-8XZZs8VAR",
        "colab_type": "code",
        "colab": {
          "base_uri": "https://localhost:8080/",
          "height": 411
        },
        "outputId": "9e688d40-5c20-4e64-cdef-5d96e2375fa8"
      },
      "source": [
        "plt.figure(figsize=(16, 6))\n",
        "sns.barplot(x=df.groupby('시군구코드')['신규'].mean().index, y=df.groupby('시군구코드')['신규'].mean())\n",
        "plt.title('시군구 별 신규인력')\n",
        "plt.xticks(rotation=90)\n",
        "plt.show()"
      ],
      "execution_count": 97,
      "outputs": [
        {
          "output_type": "display_data",
          "data": {
            "image/png": "[encoded data removed]",
            "text/plain": [
              "<Figure size 1152x432 with 1 Axes>"
            ]
          },
          "metadata": {
            "tags": [],
            "needs_background": "light"
          }
        }
      ]
    },
    {
      "cell_type": "code",
      "metadata": {
        "id": "XWc6qRuY8VAV",
        "colab_type": "code",
        "colab": {
          "base_uri": "https://localhost:8080/",
          "height": 411
        },
        "outputId": "4ebc87f9-62d0-440a-984d-218202777c07"
      },
      "source": [
        "plt.figure(figsize=(16, 6))\n",
        "sns.barplot(x=df.groupby('시군구코드')['상실'].mean().index, y=df.groupby('시군구코드')['상실'].mean())\n",
        "plt.title('시군구 별 상실인력')\n",
        "plt.xticks(rotation=90)\n",
        "plt.show()"
      ],
      "execution_count": 98,
      "outputs": [
        {
          "output_type": "display_data",
          "data": {
            "image/png": "[encoded data removed]",
            "text/plain": [
              "<Figure size 1152x432 with 1 Axes>"
            ]
          },
          "metadata": {
            "tags": [],
            "needs_background": "light"
          }
        }
      ]
    },
    {
      "cell_type": "code",
      "metadata": {
        "id": "BhYZKLUa8VAb",
        "colab_type": "code",
        "colab": {}
      },
      "source": [
        "df.head()"
      ],
      "execution_count": null,
      "outputs": []
    },
    {
      "cell_type": "markdown",
      "metadata": {
        "id": "IG9zpmLo8VAf",
        "colab_type": "text"
      },
      "source": [
        "## 신규 인력이 많은 시군구코드"
      ]
    },
    {
      "cell_type": "markdown",
      "metadata": {
        "id": "XU-13AdD8VAg",
        "colab_type": "text"
      },
      "source": [
        "**서울시 영등포구**에서 최근 국민연금 가입자 평균 신규 및 상실 인력이 가장 많이 발생했음\n",
        "\n"
      ]
    },
    {
      "cell_type": "code",
      "metadata": {
        "id": "_lnIQSfK8VAg",
        "colab_type": "code",
        "colab": {
          "base_uri": "https://localhost:8080/",
          "height": 639
        },
        "outputId": "9bc4382a-6883-447f-cc56-01510f22f781"
      },
      "source": [
        "df.loc[df['시군구코드'] == 560][['사업장명','지번주소','신규']].sort_values(by='신규', ascending=False).head(20)"
      ],
      "execution_count": 101,
      "outputs": [
        {
          "output_type": "execute_result",
          "data": {
            "text/html": [
              "<div>\n",
              "<style scoped>\n",
              "    .dataframe tbody tr th:only-of-type {\n",
              "        vertical-align: middle;\n",
              "    }\n",
              "\n",
              "    .dataframe tbody tr th {\n",
              "        vertical-align: top;\n",
              "    }\n",
              "\n",
              "    .dataframe thead th {\n",
              "        text-align: right;\n",
              "    }\n",
              "</style>\n",
              "<table border=\"1\" class=\"dataframe\">\n",
              "  <thead>\n",
              "    <tr style=\"text-align: right;\">\n",
              "      <th></th>\n",
              "      <th>사업장명</th>\n",
              "      <th>지번주소</th>\n",
              "      <th>신규</th>\n",
              "    </tr>\n",
              "  </thead>\n",
              "  <tbody>\n",
              "    <tr>\n",
              "      <th>3237</th>\n",
              "      <td>국민은행</td>\n",
              "      <td>서울특별시 영등포구 여의도동</td>\n",
              "      <td>550.00</td>\n",
              "    </tr>\n",
              "    <tr>\n",
              "      <th>62360</th>\n",
              "      <td>효성ITX</td>\n",
              "      <td>서울특별시 영등포구 양평동4가</td>\n",
              "      <td>423.00</td>\n",
              "    </tr>\n",
              "    <tr>\n",
              "      <th>14872</th>\n",
              "      <td>엘지전자</td>\n",
              "      <td>서울특별시 영등포구 여의도동</td>\n",
              "      <td>395.00</td>\n",
              "    </tr>\n",
              "    <tr>\n",
              "      <th>50923</th>\n",
              "      <td>에프에이모스트</td>\n",
              "      <td>서울특별시 영등포구 양평동3가</td>\n",
              "      <td>348.00</td>\n",
              "    </tr>\n",
              "    <tr>\n",
              "      <th>80024</th>\n",
              "      <td>윌앤비전</td>\n",
              "      <td>서울특별시 영등포구 당산동4가</td>\n",
              "      <td>235.00</td>\n",
              "    </tr>\n",
              "    <tr>\n",
              "      <th>12843</th>\n",
              "      <td>케이티아이에스</td>\n",
              "      <td>서울특별시 영등포구 여의도동</td>\n",
              "      <td>199.00</td>\n",
              "    </tr>\n",
              "    <tr>\n",
              "      <th>187476</th>\n",
              "      <td>발렉스서비스</td>\n",
              "      <td>서울특별시 영등포구 여의도동</td>\n",
              "      <td>196.00</td>\n",
              "    </tr>\n",
              "    <tr>\n",
              "      <th>51238</th>\n",
              "      <td>조은시스템</td>\n",
              "      <td>서울특별시 영등포구 문래동3가</td>\n",
              "      <td>169.00</td>\n",
              "    </tr>\n",
              "    <tr>\n",
              "      <th>4313</th>\n",
              "      <td>인터비즈시스템</td>\n",
              "      <td>서울특별시 영등포구 여의도동</td>\n",
              "      <td>156.00</td>\n",
              "    </tr>\n",
              "    <tr>\n",
              "      <th>11394</th>\n",
              "      <td>엘지화학</td>\n",
              "      <td>서울특별시 영등포구 여의도동</td>\n",
              "      <td>140.00</td>\n",
              "    </tr>\n",
              "    <tr>\n",
              "      <th>74734</th>\n",
              "      <td>미성엠프로</td>\n",
              "      <td>서울특별시 영등포구 당산동3가</td>\n",
              "      <td>99.00</td>\n",
              "    </tr>\n",
              "    <tr>\n",
              "      <th>723</th>\n",
              "      <td>제이앤비컨설팅</td>\n",
              "      <td>서울특별시 영등포구 문래동3가</td>\n",
              "      <td>98.00</td>\n",
              "    </tr>\n",
              "    <tr>\n",
              "      <th>247408</th>\n",
              "      <td>우리엔유</td>\n",
              "      <td>서울특별시 영등포구 여의도동</td>\n",
              "      <td>97.00</td>\n",
              "    </tr>\n",
              "    <tr>\n",
              "      <th>196836</th>\n",
              "      <td>엠지신용정보</td>\n",
              "      <td>서울특별시 영등포구 당산동1가</td>\n",
              "      <td>92.00</td>\n",
              "    </tr>\n",
              "    <tr>\n",
              "      <th>1681</th>\n",
              "      <td>고암</td>\n",
              "      <td>서울특별시 영등포구 당산동6가</td>\n",
              "      <td>83.00</td>\n",
              "    </tr>\n",
              "    <tr>\n",
              "      <th>325019</th>\n",
              "      <td>아임파워-현장</td>\n",
              "      <td>서울특별시 영등포구 문래동6가</td>\n",
              "      <td>80.00</td>\n",
              "    </tr>\n",
              "    <tr>\n",
              "      <th>80</th>\n",
              "      <td>한국수출입은행</td>\n",
              "      <td>서울특별시 영등포구 여의도동</td>\n",
              "      <td>78.00</td>\n",
              "    </tr>\n",
              "    <tr>\n",
              "      <th>3095</th>\n",
              "      <td>한영회계법인</td>\n",
              "      <td>서울특별시 영등포구 여의도동</td>\n",
              "      <td>77.00</td>\n",
              "    </tr>\n",
              "    <tr>\n",
              "      <th>1821</th>\n",
              "      <td>코레일유통</td>\n",
              "      <td>서울특별시 영등포구 당산동3가</td>\n",
              "      <td>74.00</td>\n",
              "    </tr>\n",
              "    <tr>\n",
              "      <th>168363</th>\n",
              "      <td>국제기획컨설팅</td>\n",
              "      <td>서울특별시 영등포구 당산동4가</td>\n",
              "      <td>72.00</td>\n",
              "    </tr>\n",
              "  </tbody>\n",
              "</table>\n",
              "</div>"
            ],
            "text/plain": [
              "           사업장명              지번주소     신규\n",
              "3237       국민은행   서울특별시 영등포구 여의도동 550.00\n",
              "62360    효성ITX   서울특별시 영등포구 양평동4가 423.00\n",
              "14872      엘지전자   서울특별시 영등포구 여의도동 395.00\n",
              "50923   에프에이모스트  서울특별시 영등포구 양평동3가 348.00\n",
              "80024      윌앤비전  서울특별시 영등포구 당산동4가 235.00\n",
              "12843   케이티아이에스   서울특별시 영등포구 여의도동 199.00\n",
              "187476   발렉스서비스   서울특별시 영등포구 여의도동 196.00\n",
              "51238     조은시스템  서울특별시 영등포구 문래동3가 169.00\n",
              "4313    인터비즈시스템   서울특별시 영등포구 여의도동 156.00\n",
              "11394      엘지화학   서울특별시 영등포구 여의도동 140.00\n",
              "74734    미성엠프로   서울특별시 영등포구 당산동3가  99.00\n",
              "723     제이앤비컨설팅  서울특별시 영등포구 문래동3가  98.00\n",
              "247408     우리엔유   서울특별시 영등포구 여의도동  97.00\n",
              "196836  엠지신용정보   서울특별시 영등포구 당산동1가  92.00\n",
              "1681         고암  서울특별시 영등포구 당산동6가  83.00\n",
              "325019  아임파워-현장  서울특별시 영등포구 문래동6가  80.00\n",
              "80      한국수출입은행   서울특별시 영등포구 여의도동  78.00\n",
              "3095     한영회계법인   서울특별시 영등포구 여의도동  77.00\n",
              "1821      코레일유통  서울특별시 영등포구 당산동3가  74.00\n",
              "168363  국제기획컨설팅  서울특별시 영등포구 당산동4가  72.00"
            ]
          },
          "metadata": {
            "tags": []
          },
          "execution_count": 101
        }
      ]
    },
    {
      "cell_type": "code",
      "metadata": {
        "id": "rRmifX2S8VAm",
        "colab_type": "code",
        "colab": {
          "base_uri": "https://localhost:8080/",
          "height": 639
        },
        "outputId": "659d31ce-982d-4dfb-c019-f492393d52e5"
      },
      "source": [
        "df.loc[df['시군구코드'] == 560][['사업장명','지번주소','상실']].sort_values(by='상실', ascending=False).head(20)"
      ],
      "execution_count": 102,
      "outputs": [
        {
          "output_type": "execute_result",
          "data": {
            "text/html": [
              "<div>\n",
              "<style scoped>\n",
              "    .dataframe tbody tr th:only-of-type {\n",
              "        vertical-align: middle;\n",
              "    }\n",
              "\n",
              "    .dataframe tbody tr th {\n",
              "        vertical-align: top;\n",
              "    }\n",
              "\n",
              "    .dataframe thead th {\n",
              "        text-align: right;\n",
              "    }\n",
              "</style>\n",
              "<table border=\"1\" class=\"dataframe\">\n",
              "  <thead>\n",
              "    <tr style=\"text-align: right;\">\n",
              "      <th></th>\n",
              "      <th>사업장명</th>\n",
              "      <th>지번주소</th>\n",
              "      <th>상실</th>\n",
              "    </tr>\n",
              "  </thead>\n",
              "  <tbody>\n",
              "    <tr>\n",
              "      <th>62360</th>\n",
              "      <td>효성ITX</td>\n",
              "      <td>서울특별시 영등포구 양평동4가</td>\n",
              "      <td>441.00</td>\n",
              "    </tr>\n",
              "    <tr>\n",
              "      <th>14872</th>\n",
              "      <td>엘지전자</td>\n",
              "      <td>서울특별시 영등포구 여의도동</td>\n",
              "      <td>419.00</td>\n",
              "    </tr>\n",
              "    <tr>\n",
              "      <th>12843</th>\n",
              "      <td>케이티아이에스</td>\n",
              "      <td>서울특별시 영등포구 여의도동</td>\n",
              "      <td>225.00</td>\n",
              "    </tr>\n",
              "    <tr>\n",
              "      <th>80024</th>\n",
              "      <td>윌앤비전</td>\n",
              "      <td>서울특별시 영등포구 당산동4가</td>\n",
              "      <td>208.00</td>\n",
              "    </tr>\n",
              "    <tr>\n",
              "      <th>11394</th>\n",
              "      <td>엘지화학</td>\n",
              "      <td>서울특별시 영등포구 여의도동</td>\n",
              "      <td>183.00</td>\n",
              "    </tr>\n",
              "    <tr>\n",
              "      <th>51238</th>\n",
              "      <td>조은시스템</td>\n",
              "      <td>서울특별시 영등포구 문래동3가</td>\n",
              "      <td>157.00</td>\n",
              "    </tr>\n",
              "    <tr>\n",
              "      <th>187476</th>\n",
              "      <td>발렉스서비스</td>\n",
              "      <td>서울특별시 영등포구 여의도동</td>\n",
              "      <td>157.00</td>\n",
              "    </tr>\n",
              "    <tr>\n",
              "      <th>723</th>\n",
              "      <td>제이앤비컨설팅</td>\n",
              "      <td>서울특별시 영등포구 문래동3가</td>\n",
              "      <td>121.00</td>\n",
              "    </tr>\n",
              "    <tr>\n",
              "      <th>50923</th>\n",
              "      <td>에프에이모스트</td>\n",
              "      <td>서울특별시 영등포구 양평동3가</td>\n",
              "      <td>113.00</td>\n",
              "    </tr>\n",
              "    <tr>\n",
              "      <th>74734</th>\n",
              "      <td>미성엠프로</td>\n",
              "      <td>서울특별시 영등포구 당산동3가</td>\n",
              "      <td>110.00</td>\n",
              "    </tr>\n",
              "    <tr>\n",
              "      <th>82363</th>\n",
              "      <td>우림맨테크</td>\n",
              "      <td>서울특별시 영등포구 양평동3가</td>\n",
              "      <td>104.00</td>\n",
              "    </tr>\n",
              "    <tr>\n",
              "      <th>3237</th>\n",
              "      <td>국민은행</td>\n",
              "      <td>서울특별시 영등포구 여의도동</td>\n",
              "      <td>102.00</td>\n",
              "    </tr>\n",
              "    <tr>\n",
              "      <th>247408</th>\n",
              "      <td>우리엔유</td>\n",
              "      <td>서울특별시 영등포구 여의도동</td>\n",
              "      <td>100.00</td>\n",
              "    </tr>\n",
              "    <tr>\n",
              "      <th>1868</th>\n",
              "      <td>한국피자헛 유한회사</td>\n",
              "      <td>서울특별시 영등포구 여의도동</td>\n",
              "      <td>88.00</td>\n",
              "    </tr>\n",
              "    <tr>\n",
              "      <th>172766</th>\n",
              "      <td>엘지디스플레이</td>\n",
              "      <td>서울특별시 영등포구 여의도동</td>\n",
              "      <td>87.00</td>\n",
              "    </tr>\n",
              "    <tr>\n",
              "      <th>30064</th>\n",
              "      <td>반도티에스</td>\n",
              "      <td>서울특별시 영등포구 당산동6가</td>\n",
              "      <td>85.00</td>\n",
              "    </tr>\n",
              "    <tr>\n",
              "      <th>87380</th>\n",
              "      <td>신우산업관리</td>\n",
              "      <td>서울특별시 영등포구 당산동4가</td>\n",
              "      <td>82.00</td>\n",
              "    </tr>\n",
              "    <tr>\n",
              "      <th>69779</th>\n",
              "      <td>현대캐피탈</td>\n",
              "      <td>서울특별시 영등포구 여의도동</td>\n",
              "      <td>68.00</td>\n",
              "    </tr>\n",
              "    <tr>\n",
              "      <th>29651</th>\n",
              "      <td>본푸드서비스</td>\n",
              "      <td>서울특별시 영등포구 양평동3가</td>\n",
              "      <td>64.00</td>\n",
              "    </tr>\n",
              "    <tr>\n",
              "      <th>189507</th>\n",
              "      <td>서비스에이스</td>\n",
              "      <td>서울특별시 영등포구 문래동3가</td>\n",
              "      <td>62.00</td>\n",
              "    </tr>\n",
              "  </tbody>\n",
              "</table>\n",
              "</div>"
            ],
            "text/plain": [
              "              사업장명              지번주소     상실\n",
              "62360       효성ITX   서울특별시 영등포구 양평동4가 441.00\n",
              "14872         엘지전자   서울특별시 영등포구 여의도동 419.00\n",
              "12843      케이티아이에스   서울특별시 영등포구 여의도동 225.00\n",
              "80024         윌앤비전  서울특별시 영등포구 당산동4가 208.00\n",
              "11394         엘지화학   서울특별시 영등포구 여의도동 183.00\n",
              "51238        조은시스템  서울특별시 영등포구 문래동3가 157.00\n",
              "187476      발렉스서비스   서울특별시 영등포구 여의도동 157.00\n",
              "723        제이앤비컨설팅  서울특별시 영등포구 문래동3가 121.00\n",
              "50923      에프에이모스트  서울특별시 영등포구 양평동3가 113.00\n",
              "74734       미성엠프로   서울특별시 영등포구 당산동3가 110.00\n",
              "82363        우림맨테크  서울특별시 영등포구 양평동3가 104.00\n",
              "3237          국민은행   서울특별시 영등포구 여의도동 102.00\n",
              "247408        우리엔유   서울특별시 영등포구 여의도동 100.00\n",
              "1868    한국피자헛 유한회사   서울특별시 영등포구 여의도동  88.00\n",
              "172766     엘지디스플레이   서울특별시 영등포구 여의도동  87.00\n",
              "30064        반도티에스  서울특별시 영등포구 당산동6가  85.00\n",
              "87380       신우산업관리  서울특별시 영등포구 당산동4가  82.00\n",
              "69779        현대캐피탈   서울특별시 영등포구 여의도동  68.00\n",
              "29651      본푸드서비스   서울특별시 영등포구 양평동3가  64.00\n",
              "189507      서비스에이스  서울특별시 영등포구 문래동3가  62.00"
            ]
          },
          "metadata": {
            "tags": []
          },
          "execution_count": 102
        }
      ]
    },
    {
      "cell_type": "markdown",
      "metadata": {
        "id": "WXyt6Pcv8VAp",
        "colab_type": "text"
      },
      "source": [
        "## 업종별 신규 인력 현황"
      ]
    },
    {
      "cell_type": "code",
      "metadata": {
        "id": "XgQGMChI8VAq",
        "colab_type": "code",
        "colab": {
          "base_uri": "https://localhost:8080/",
          "height": 246
        },
        "outputId": "2912e145-1ea0-4ec5-f970-b1c736f42d58"
      },
      "source": [
        "df.groupby('업종코드명')['신규'].mean()"
      ],
      "execution_count": 103,
      "outputs": [
        {
          "output_type": "execute_result",
          "data": {
            "text/plain": [
              "업종코드명\n",
              "1차 금속제품 도매업          0.17\n",
              "BIZ_NO미존재사업장         0.55\n",
              "가공 및 정제염 제조업         0.15\n",
              "가구 내 고용활동            1.44\n",
              "가구 소매업               0.34\n",
              "                     ... \n",
              "화학섬유 방적업             0.86\n",
              "화학섬유직물 직조업           0.29\n",
              "화학용 및 비료 원료용 광물 광업   0.00\n",
              "화훼류 및 식물 도매업         0.23\n",
              "휴양 콘도 운영업            5.08\n",
              "Name: 신규, Length: 830, dtype: float64"
            ]
          },
          "metadata": {
            "tags": []
          },
          "execution_count": 103
        }
      ]
    },
    {
      "cell_type": "code",
      "metadata": {
        "id": "qCGDmekT8VAt",
        "colab_type": "code",
        "colab": {}
      },
      "source": [
        "df_1 = df.groupby('업종코드명')['신규'].mean()"
      ],
      "execution_count": 105,
      "outputs": []
    },
    {
      "cell_type": "code",
      "metadata": {
        "id": "jhv_P8kP8VAx",
        "colab_type": "code",
        "colab": {
          "base_uri": "https://localhost:8080/",
          "height": 34
        },
        "outputId": "52cf67f0-137c-4a1c-af1e-35560fd348f7"
      },
      "source": [
        "df_1.sort_values(ascending=False).count()"
      ],
      "execution_count": 106,
      "outputs": [
        {
          "output_type": "execute_result",
          "data": {
            "text/plain": [
              "830"
            ]
          },
          "metadata": {
            "tags": []
          },
          "execution_count": 106
        }
      ]
    },
    {
      "cell_type": "markdown",
      "metadata": {
        "id": "BPSlxGsa8VA2",
        "colab_type": "text"
      },
      "source": [
        "신규 인력이 많은 상위 50 개 **업종** 출력하도록 하겠습니다."
      ]
    },
    {
      "cell_type": "code",
      "metadata": {
        "id": "4jTZ2WuD8VA2",
        "colab_type": "code",
        "colab": {}
      },
      "source": [
        "df_top50 = df_1.sort_values(ascending=False).head(50)"
      ],
      "execution_count": 108,
      "outputs": []
    },
    {
      "cell_type": "code",
      "metadata": {
        "id": "b6tzCMTS8VA4",
        "colab_type": "code",
        "colab": {
          "base_uri": "https://localhost:8080/",
          "height": 606
        },
        "outputId": "69283a83-c29b-4ce8-c945-f6cc2b986bc0"
      },
      "source": [
        "plt.figure(figsize=(16, 6))\n",
        "sns.barplot(x=df_top50.index, y=df_top50)\n",
        "plt.title('업종별 신규인력')\n",
        "plt.xticks(rotation=90)\n",
        "plt.show()"
      ],
      "execution_count": 110,
      "outputs": [
        {
          "output_type": "display_data",
          "data": {
            "image/png": "[encoded data removed]",
            "text/plain": [
              "<Figure size 1152x432 with 1 Axes>"
            ]
          },
          "metadata": {
            "tags": [],
            "needs_background": "light"
          }
        }
      ]
    },
    {
      "cell_type": "markdown",
      "metadata": {
        "id": "Fb2FYz1B8VA8",
        "colab_type": "text"
      },
      "source": [
        "- 코로나 바이러스 이전 사태와는 면밀한 비교를 위하여 이전 데이터가 필요합니다.\n",
        "- 하지만, 포스트 코로나 현상황에서는 **보험설계사, 음료품배달업, 종합병원, 시외버스 운송업, 설탕 제조업** 순으로 채용이 증가되었음을 확인할 수 있습니다."
      ]
    },
    {
      "cell_type": "code",
      "metadata": {
        "id": "q2_AGPwn8VA9",
        "colab_type": "code",
        "colab": {}
      },
      "source": [
        "df_2 = df.groupby('업종코드명')['상실'].mean()"
      ],
      "execution_count": 111,
      "outputs": []
    },
    {
      "cell_type": "code",
      "metadata": {
        "id": "s3uFBRDu8VBC",
        "colab_type": "code",
        "colab": {}
      },
      "source": [
        "df_bot50 = df_2.sort_values(ascending=False).head(50)"
      ],
      "execution_count": 112,
      "outputs": []
    },
    {
      "cell_type": "code",
      "metadata": {
        "id": "bWMhaSFc8VBG",
        "colab_type": "code",
        "colab": {
          "base_uri": "https://localhost:8080/",
          "height": 606
        },
        "outputId": "b317dc38-e0f8-477d-ec7e-89c79c3e98c9"
      },
      "source": [
        "plt.figure(figsize=(16, 6))\n",
        "sns.barplot(x=df_bot50.index, y=df_bot50)\n",
        "plt.title('업종별 상실인력')\n",
        "plt.xticks(rotation=90)\n",
        "plt.show()"
      ],
      "execution_count": 113,
      "outputs": [
        {
          "output_type": "display_data",
          "data": {
            "image/png": "[encoded data removed]",
            "text/plain": [
              "<Figure size 1152x432 with 1 Axes>"
            ]
          },
          "metadata": {
            "tags": [],
            "needs_background": "light"
          }
        }
      ]
    },
    {
      "cell_type": "markdown",
      "metadata": {
        "id": "JeT1u5bH8VBK",
        "colab_type": "text"
      },
      "source": [
        "업종별 상실 인력에 대한 **TOP 50 결과**입니다."
      ]
    },
    {
      "cell_type": "markdown",
      "metadata": {
        "id": "r3_atWHF8VBK",
        "colab_type": "text"
      },
      "source": [
        "여기서 재밌는 점은, 이전에 신규인력이 가장 많은 업종도 **음료품배달원** 이었다는 점입니다. \n",
        "\n",
        "좀 더 구체적인 데이터를 통해서 신규와 상실이 동시에 많이 일어난 이유에 대한 분석이 면밀히 필요합니다.\n",
        "\n",
        "때론, 한 기업이 M&A를 진행된 후 타 회사로 인력이 **상실 -> 편입 되면서 데이터 인사이트에 대한 왜곡 현상**이 생길 수 있습니다."
      ]
    },
    {
      "cell_type": "markdown",
      "metadata": {
        "id": "nTVUS2sV8VBO",
        "colab_type": "text"
      },
      "source": [
        "## 업종별 단일 회사 연봉 비교 차트 그리기"
      ]
    },
    {
      "cell_type": "code",
      "metadata": {
        "id": "F7kmcMhz8VBO",
        "colab_type": "code",
        "colab": {}
      },
      "source": [
        "def compare_and_visualize(company):\n",
        "    code = df[df['사업장명'] == company]['업종코드']\n",
        "    cols = ['가입자수', '평균월급', '평균연봉', '신규', '상실', '업종코드']\n",
        "    filtered = df.loc[df['업종코드']==code.item()][cols]\n",
        "    df_company = df.loc[df['사업장명'] == company][cols]\n",
        "    df_company = df_company.append(pd.Series(filtered.mean()), ignore_index=True)\n",
        "    \n",
        "    compare_cols = ['가입자수', '평균월급', '평균연봉', '신규', '상실']\n",
        "    for col in compare_cols:\n",
        "        plt.figure(figsize=(10, 5))\n",
        "        sns.barplot(x=[company, '업종평균'], y=col, data=df_company)\n",
        "        plt.title('{} vs 업종평균'.format(col), fontsize=18)\n",
        "        plt.show()"
      ],
      "execution_count": 114,
      "outputs": []
    },
    {
      "cell_type": "code",
      "metadata": {
        "id": "2lLesLGA8VBR",
        "colab_type": "code",
        "colab": {
          "base_uri": "https://localhost:8080/",
          "height": 1000
        },
        "outputId": "cdfaa770-fed3-4e54-8d85-27ea00cbfcdd"
      },
      "source": [
        "compare_and_visualize('우아한청년들')"
      ],
      "execution_count": 144,
      "outputs": [
        {
          "output_type": "display_data",
          "data": {
            "image/png": "[encoded data removed]",
            "text/plain": [
              "<Figure size 720x360 with 1 Axes>"
            ]
          },
          "metadata": {
            "tags": [],
            "needs_background": "light"
          }
        },
        {
          "output_type": "display_data",
          "data": {
            "image/png": "[encoded data removed]",
            "text/plain": [
              "<Figure size 720x360 with 1 Axes>"
            ]
          },
          "metadata": {
            "tags": [],
            "needs_background": "light"
          }
        },
        {
          "output_type": "display_data",
          "data": {
            "image/png": "[encoded data removed]",
            "text/plain": [
              "<Figure size 720x360 with 1 Axes>"
            ]
          },
          "metadata": {
            "tags": [],
            "needs_background": "light"
          }
        },
        {
          "output_type": "display_data",
          "data": {
            "image/png": "[encoded data removed]",
            "text/plain": [
              "<Figure size 720x360 with 1 Axes>"
            ]
          },
          "metadata": {
            "tags": [],
            "needs_background": "light"
          }
        },
        {
          "output_type": "display_data",
          "data": {
            "image/png": "[encoded data removed]",
            "text/plain": [
              "<Figure size 720x360 with 1 Axes>"
            ]
          },
          "metadata": {
            "tags": [],
            "needs_background": "light"
          }
        }
      ]
    },
    {
      "cell_type": "code",
      "metadata": {
        "id": "sQl68pO38VBU",
        "colab_type": "code",
        "colab": {}
      },
      "source": [
        ""
      ],
      "execution_count": null,
      "outputs": []
    }
  ]
}