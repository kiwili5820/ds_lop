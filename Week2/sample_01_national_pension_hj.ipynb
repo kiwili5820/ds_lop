{
  "nbformat": 4,
  "nbformat_minor": 0,
  "metadata": {
    "kernelspec": {
      "display_name": "Environment (conda_tensorflow_p36)",
      "language": "python",
      "name": "conda_tensorflow_p36"
    },
    "language_info": {
      "codemirror_mode": {
        "name": "ipython",
        "version": 3
      },
      "file_extension": ".py",
      "mimetype": "text/x-python",
      "name": "python",
      "nbconvert_exporter": "python",
      "pygments_lexer": "ipython3",
      "version": "3.6.5"
    },
    "colab": {
      "name": "sample-01-national-pension-hj",
      "provenance": [],
      "collapsed_sections": [
        "AfYRotuG8U-R",
        "EfGRSs8F8U-e",
        "ItF2lB8X8U-8",
        "_x9yH7lv8U-9",
        "RdJUJAwt8U_B",
        "5NSqLEDA8U_F",
        "TAK67SCJ8U_J",
        "CjVf-1Hs8U_Z",
        "9RnnHjbi8U_b",
        "L9DsUzHD8U_r",
        "IG9zpmLo8VAf",
        "WXyt6Pcv8VAp",
        "nTVUS2sV8VBO"
      ],
      "include_colab_link": true
    }
  },
  "cells": [
    {
      "cell_type": "markdown",
      "metadata": {
        "id": "view-in-github",
        "colab_type": "text"
      },
      "source": [
        "<a href=\"https://colab.research.google.com/github/kiwili5820/ds_lop/blob/master/sample_01_national_pension_hj.ipynb\" target=\"_parent\"><img src=\"https://colab.research.google.com/assets/colab-badge.svg\" alt=\"Open In Colab\"/></a>"
      ]
    },
    {
      "cell_type": "markdown",
      "metadata": {
        "id": "GXZs45-A8U9i",
        "colab_type": "text"
      },
      "source": [
        "## 포스트 코로나 시대의 경제 상황을 국민연금 가입자 오픈데이터를 통해 알아보자?!!"
      ]
    },
    {
      "cell_type": "code",
      "metadata": {
        "id": "lDW1cDnFt5jc",
        "colab_type": "code",
        "colab": {}
      },
      "source": [
        ""
      ],
      "execution_count": null,
      "outputs": []
    },
    {
      "cell_type": "markdown",
      "metadata": {
        "id": "TqClaxea8U9k",
        "colab_type": "text"
      },
      "source": [
        "- 데이터셋: 공공 데이터 포털\n",
        "- 형태: 파일데이터 (csv)\n",
        "- 다운로드: https://www.data.go.kr/data/3046071/fileData.do"
      ]
    },
    {
      "cell_type": "code",
      "metadata": {
        "id": "MfR0d8ZO8U9k",
        "colab_type": "code",
        "colab": {}
      },
      "source": [
        "import pandas as pd\n",
        "import numpy as np\n",
        "import matplotlib.pyplot as plt\n",
        "import seaborn as sns\n",
        "import warnings\n",
        "\n",
        "\n",
        "warnings.filterwarnings('ignore')\n",
        "plt.rc('font', family='NanumBarunGothic') \n",
        "plt.rcParams['figure.figsize'] = (10, 7)\n",
        "\n",
        "pd.set_option('display.float_format', lambda x: '%.2f' % x)\n",
        "\n",
        "%matplotlib inline"
      ],
      "execution_count": null,
      "outputs": []
    },
    {
      "cell_type": "code",
      "metadata": {
        "id": "TPt06-lM8U9q",
        "colab_type": "code",
        "colab": {}
      },
      "source": [
        "df = pd.read_csv('data/national-pension-202006.csv')"
      ],
      "execution_count": null,
      "outputs": []
    },
    {
      "cell_type": "code",
      "metadata": {
        "id": "jmv2Hqrn8U9u",
        "colab_type": "code",
        "colab": {},
        "outputId": "d0275682-16f4-4b2e-c105-debc52ef0172"
      },
      "source": [
        "df.head()"
      ],
      "execution_count": null,
      "outputs": [
        {
          "output_type": "execute_result",
          "data": {
            "text/html": [
              "<div>\n",
              "<style scoped>\n",
              "    .dataframe tbody tr th:only-of-type {\n",
              "        vertical-align: middle;\n",
              "    }\n",
              "\n",
              "    .dataframe tbody tr th {\n",
              "        vertical-align: top;\n",
              "    }\n",
              "\n",
              "    .dataframe thead th {\n",
              "        text-align: right;\n",
              "    }\n",
              "</style>\n",
              "<table border=\"1\" class=\"dataframe\">\n",
              "  <thead>\n",
              "    <tr style=\"text-align: right;\">\n",
              "      <th></th>\n",
              "      <th>자료생성년월(자격마감일(사유발생일이 속하는 달의 다음달 15일)까지 신고분 반영)</th>\n",
              "      <th>사업장명</th>\n",
              "      <th>사업자등록번호</th>\n",
              "      <th>사업장가입상태코드 1:등록2:탈퇴</th>\n",
              "      <th>우편번호</th>\n",
              "      <th>사업장지번상세주소</th>\n",
              "      <th>사업장도로명상세주소</th>\n",
              "      <th>고객법정동주소코드</th>\n",
              "      <th>고객행정동주소코드</th>\n",
              "      <th>법정동주소광역시도코드</th>\n",
              "      <th>...</th>\n",
              "      <th>사업장형태구분코드 1:법인2:개인</th>\n",
              "      <th>사업장업종코드</th>\n",
              "      <th>사업장업종코드명</th>\n",
              "      <th>적용일자</th>\n",
              "      <th>재등록일자</th>\n",
              "      <th>탈퇴일자</th>\n",
              "      <th>가입자수(고지인원 수 포함)</th>\n",
              "      <th>당월고지금액(※ 국민연금법 시행령 제5조에 의거 기준소득월액 상한액 적용으로 실제소득과 고지금액은 상이할 수 있음 : 상한액 2019.7.~2020.6. 4860000원(2019.7.1.기준) 상한액 2020.7.~2021.6. 5030000원(2020.7.1.기준))</th>\n",
              "      <th>신규취득자수(납부재개 포함 : ※ 전달 고지대상자와 비교하므로 실제 취득자와 상이할 수 있음(초일취득 고지 초일이 아닌경우. 미고지(다음달 취득자수에 반영))</th>\n",
              "      <th>상실가입자수(납부예외 포함 : ※ 전달 고지대상자와 비교하므로 실제 퇴사자와 상이할 수 있음(초일이 아닌 상실자는 다음달 상실자수에 반영) 국민연금법 제6조 8조 동법 시행령 제18조에 의거 60세 도달하거나 퇴직연금수급자 조기노령연금 수급권을 취득한 자는 가입대상에서 제외되며 18세미만 기초수급자는 본인희망에 의해 제외될 수 있음)</th>\n",
              "    </tr>\n",
              "  </thead>\n",
              "  <tbody>\n",
              "    <tr>\n",
              "      <th>0</th>\n",
              "      <td>202005.00</td>\n",
              "      <td>(주)니프코코리아</td>\n",
              "      <td>211814.00</td>\n",
              "      <td>1.00</td>\n",
              "      <td>31409.00</td>\n",
              "      <td>충청남도 아산시 둔포면</td>\n",
              "      <td>충청남도 아산시 둔포면 아산밸리남로</td>\n",
              "      <td>4420036032.00</td>\n",
              "      <td>4420036032</td>\n",
              "      <td>44.00</td>\n",
              "      <td>...</td>\n",
              "      <td>1.00</td>\n",
              "      <td>252901</td>\n",
              "      <td>포장용 플라스틱 성형용기 제조업</td>\n",
              "      <td>19880101.00</td>\n",
              "      <td>10101.00</td>\n",
              "      <td>10101.00</td>\n",
              "      <td>625.00</td>\n",
              "      <td>263793840.00</td>\n",
              "      <td>0.00</td>\n",
              "      <td>3.00</td>\n",
              "    </tr>\n",
              "    <tr>\n",
              "      <th>1</th>\n",
              "      <td>202005.00</td>\n",
              "      <td>글로웨이 주식회사</td>\n",
              "      <td>110812.00</td>\n",
              "      <td>1.00</td>\n",
              "      <td>6072.00</td>\n",
              "      <td>서울특별시 강남구 청담동</td>\n",
              "      <td>서울특별시 강남구 영동대로137길</td>\n",
              "      <td>1168010400.00</td>\n",
              "      <td>1168056500</td>\n",
              "      <td>11.00</td>\n",
              "      <td>...</td>\n",
              "      <td>1.00</td>\n",
              "      <td>452101</td>\n",
              "      <td>미장  타일 및 방수 공사업</td>\n",
              "      <td>19880101.00</td>\n",
              "      <td>10101.00</td>\n",
              "      <td>10101.00</td>\n",
              "      <td>3.00</td>\n",
              "      <td>1099960.00</td>\n",
              "      <td>0.00</td>\n",
              "      <td>0.00</td>\n",
              "    </tr>\n",
              "    <tr>\n",
              "      <th>2</th>\n",
              "      <td>202005.00</td>\n",
              "      <td>신일기업(주)</td>\n",
              "      <td>201810.00</td>\n",
              "      <td>1.00</td>\n",
              "      <td>4537.00</td>\n",
              "      <td>서울특별시 중구 충무로2가</td>\n",
              "      <td>서울특별시 중구 퇴계로</td>\n",
              "      <td>1114012500.00</td>\n",
              "      <td>1114055000</td>\n",
              "      <td>11.00</td>\n",
              "      <td>...</td>\n",
              "      <td>1.00</td>\n",
              "      <td>381002</td>\n",
              "      <td>NaN</td>\n",
              "      <td>19880101.00</td>\n",
              "      <td>10101.00</td>\n",
              "      <td>10101.00</td>\n",
              "      <td>18.00</td>\n",
              "      <td>5954520.00</td>\n",
              "      <td>0.00</td>\n",
              "      <td>0.00</td>\n",
              "    </tr>\n",
              "    <tr>\n",
              "      <th>3</th>\n",
              "      <td>202005.00</td>\n",
              "      <td>디에스디엘(주)</td>\n",
              "      <td>104811.00</td>\n",
              "      <td>1.00</td>\n",
              "      <td>4526.00</td>\n",
              "      <td>서울특별시 중구 남대문로4가</td>\n",
              "      <td>서울특별시 중구 세종대로</td>\n",
              "      <td>1114011700.00</td>\n",
              "      <td>1114054000</td>\n",
              "      <td>11.00</td>\n",
              "      <td>...</td>\n",
              "      <td>1.00</td>\n",
              "      <td>701201</td>\n",
              "      <td>비주거용 건물 임대업(점포  자기땅)</td>\n",
              "      <td>19880101.00</td>\n",
              "      <td>10101.00</td>\n",
              "      <td>10101.00</td>\n",
              "      <td>19.00</td>\n",
              "      <td>4064440.00</td>\n",
              "      <td>0.00</td>\n",
              "      <td>2.00</td>\n",
              "    </tr>\n",
              "    <tr>\n",
              "      <th>4</th>\n",
              "      <td>202005.00</td>\n",
              "      <td>(주)헤럴드</td>\n",
              "      <td>104810.00</td>\n",
              "      <td>1.00</td>\n",
              "      <td>4336.00</td>\n",
              "      <td>서울특별시 용산구 후암동</td>\n",
              "      <td>서울특별시 용산구 후암로4길</td>\n",
              "      <td>1117010100.00</td>\n",
              "      <td>1117051000</td>\n",
              "      <td>11.00</td>\n",
              "      <td>...</td>\n",
              "      <td>1.00</td>\n",
              "      <td>221200</td>\n",
              "      <td>잡지 및 정기 간행물 발행업</td>\n",
              "      <td>19880101.00</td>\n",
              "      <td>10101.00</td>\n",
              "      <td>10101.00</td>\n",
              "      <td>305.00</td>\n",
              "      <td>108148760.00</td>\n",
              "      <td>4.00</td>\n",
              "      <td>2.00</td>\n",
              "    </tr>\n",
              "  </tbody>\n",
              "</table>\n",
              "<p>5 rows × 22 columns</p>\n",
              "</div>"
            ],
            "text/plain": [
              "   자료생성년월(자격마감일(사유발생일이 속하는 달의 다음달 15일)까지 신고분 반영)       사업장명   사업자등록번호  \\\n",
              "0                                      202005.00  (주)니프코코리아 211814.00   \n",
              "1                                      202005.00  글로웨이 주식회사 110812.00   \n",
              "2                                      202005.00    신일기업(주) 201810.00   \n",
              "3                                      202005.00   디에스디엘(주) 104811.00   \n",
              "4                                      202005.00     (주)헤럴드 104810.00   \n",
              "\n",
              "    사업장가입상태코드 1:등록2:탈퇴     우편번호        사업장지번상세주소           사업장도로명상세주소  \\\n",
              "0                 1.00 31409.00     충청남도 아산시 둔포면  충청남도 아산시 둔포면 아산밸리남로   \n",
              "1                 1.00  6072.00    서울특별시 강남구 청담동   서울특별시 강남구 영동대로137길   \n",
              "2                 1.00  4537.00   서울특별시 중구 충무로2가         서울특별시 중구 퇴계로   \n",
              "3                 1.00  4526.00  서울특별시 중구 남대문로4가        서울특별시 중구 세종대로   \n",
              "4                 1.00  4336.00    서울특별시 용산구 후암동      서울특별시 용산구 후암로4길   \n",
              "\n",
              "      고객법정동주소코드   고객행정동주소코드   법정동주소광역시도코드  ...   사업장형태구분코드 1:법인2:개인   사업장업종코드  \\\n",
              "0 4420036032.00  4420036032         44.00  ...                 1.00    252901   \n",
              "1 1168010400.00  1168056500         11.00  ...                 1.00    452101   \n",
              "2 1114012500.00  1114055000         11.00  ...                 1.00    381002   \n",
              "3 1114011700.00  1114054000         11.00  ...                 1.00    701201   \n",
              "4 1117010100.00  1117051000         11.00  ...                 1.00    221200   \n",
              "\n",
              "               사업장업종코드명        적용일자    재등록일자     탈퇴일자   가입자수(고지인원 수 포함)  \\\n",
              "0     포장용 플라스틱 성형용기 제조업 19880101.00 10101.00 10101.00            625.00   \n",
              "1       미장  타일 및 방수 공사업 19880101.00 10101.00 10101.00              3.00   \n",
              "2                   NaN 19880101.00 10101.00 10101.00             18.00   \n",
              "3  비주거용 건물 임대업(점포  자기땅) 19880101.00 10101.00 10101.00             19.00   \n",
              "4       잡지 및 정기 간행물 발행업 19880101.00 10101.00 10101.00            305.00   \n",
              "\n",
              "    당월고지금액(※ 국민연금법 시행령 제5조에 의거 기준소득월액 상한액 적용으로 실제소득과 고지금액은 상이할 수 있음 : 상한액 2019.7.~2020.6. 4860000원(2019.7.1.기준) 상한액 2020.7.~2021.6. 5030000원(2020.7.1.기준))  \\\n",
              "0                                       263793840.00                                                                                                         \n",
              "1                                         1099960.00                                                                                                         \n",
              "2                                         5954520.00                                                                                                         \n",
              "3                                         4064440.00                                                                                                         \n",
              "4                                       108148760.00                                                                                                         \n",
              "\n",
              "    신규취득자수(납부재개 포함 : ※ 전달 고지대상자와 비교하므로 실제 취득자와 상이할 수 있음(초일취득 고지 초일이 아닌경우. 미고지(다음달 취득자수에 반영))  \\\n",
              "0                                               0.00                                           \n",
              "1                                               0.00                                           \n",
              "2                                               0.00                                           \n",
              "3                                               0.00                                           \n",
              "4                                               4.00                                           \n",
              "\n",
              "    상실가입자수(납부예외 포함 : ※ 전달 고지대상자와 비교하므로 실제 퇴사자와 상이할 수 있음(초일이 아닌 상실자는 다음달 상실자수에 반영) 국민연금법 제6조 8조 동법 시행령 제18조에 의거 60세 도달하거나 퇴직연금수급자 조기노령연금 수급권을 취득한 자는 가입대상에서 제외되며 18세미만 기초수급자는 본인희망에 의해 제외될 수 있음)  \n",
              "0                                               3.00                                                                                                                                             \n",
              "1                                               0.00                                                                                                                                             \n",
              "2                                               0.00                                                                                                                                             \n",
              "3                                               2.00                                                                                                                                             \n",
              "4                                               2.00                                                                                                                                             \n",
              "\n",
              "[5 rows x 22 columns]"
            ]
          },
          "metadata": {
            "tags": []
          },
          "execution_count": 3
        }
      ]
    },
    {
      "cell_type": "markdown",
      "metadata": {
        "id": "sVdsF_pG8U9y",
        "colab_type": "text"
      },
      "source": [
        "## Column 정리 (Clean)"
      ]
    },
    {
      "cell_type": "code",
      "metadata": {
        "id": "kq0pZokv8U9z",
        "colab_type": "code",
        "colab": {},
        "outputId": "62afb6ea-82cf-4733-aef8-0a14dc1f21d3"
      },
      "source": [
        "df.columns"
      ],
      "execution_count": null,
      "outputs": [
        {
          "output_type": "execute_result",
          "data": {
            "text/plain": [
              "Index(['자료생성년월(자격마감일(사유발생일이 속하는 달의 다음달 15일)까지 신고분 반영)', ' 사업장명', ' 사업자등록번호',\n",
              "       ' 사업장가입상태코드 1:등록2:탈퇴', ' 우편번호', ' 사업장지번상세주소', ' 사업장도로명상세주소',\n",
              "       ' 고객법정동주소코드', ' 고객행정동주소코드', ' 법정동주소광역시도코드', ' 법정동주소광역시시군구코드',\n",
              "       ' 법정동주소광역시시군구읍면동코드', ' 사업장형태구분코드 1:법인2:개인', ' 사업장업종코드', ' 사업장업종코드명',\n",
              "       ' 적용일자', ' 재등록일자', ' 탈퇴일자', ' 가입자수(고지인원 수 포함)',\n",
              "       ' 당월고지금액(※ 국민연금법 시행령 제5조에 의거 기준소득월액 상한액 적용으로 실제소득과 고지금액은 상이할 수 있음 : 상한액 2019.7.~2020.6. 4860000원(2019.7.1.기준) 상한액 2020.7.~2021.6. 5030000원(2020.7.1.기준))',\n",
              "       ' 신규취득자수(납부재개 포함 : ※ 전달 고지대상자와 비교하므로 실제 취득자와 상이할 수 있음(초일취득 고지 초일이 아닌경우. 미고지(다음달 취득자수에 반영))',\n",
              "       ' 상실가입자수(납부예외 포함 : ※ 전달 고지대상자와 비교하므로 실제 퇴사자와 상이할 수 있음(초일이 아닌 상실자는 다음달 상실자수에 반영) 국민연금법 제6조 8조 동법 시행령 제18조에 의거 60세 도달하거나 퇴직연금수급자 조기노령연금 수급권을 취득한 자는 가입대상에서 제외되며 18세미만 기초수급자는 본인희망에 의해 제외될 수 있음)'],\n",
              "      dtype='object')"
            ]
          },
          "metadata": {
            "tags": []
          },
          "execution_count": 4
        }
      ]
    },
    {
      "cell_type": "code",
      "metadata": {
        "id": "A3NBSDsg8U93",
        "colab_type": "code",
        "colab": {}
      },
      "source": [
        "columns = ['자료생성년월', '사업장명', '사업자번호', '가입상태', '우편번호', '지번주소', '도로명주소', '법정주소코드', \n",
        "           '행정주소코드', '광역시코드', '시군구코드', '읍면동코드', '사업장형태', '업종코드', '업종코드명', \n",
        "           '적용일', '재등록일', '탈퇴일', '가입자수', '고지금액', '신규', '상실',\n",
        "          ]"
      ],
      "execution_count": null,
      "outputs": []
    },
    {
      "cell_type": "code",
      "metadata": {
        "id": "_n7oA48z8U97",
        "colab_type": "code",
        "colab": {},
        "outputId": "0686eb76-6fa0-4498-a600-c256624b20d2"
      },
      "source": [
        "len(df.columns)"
      ],
      "execution_count": null,
      "outputs": [
        {
          "output_type": "execute_result",
          "data": {
            "text/plain": [
              "22"
            ]
          },
          "metadata": {
            "tags": []
          },
          "execution_count": 6
        }
      ]
    },
    {
      "cell_type": "code",
      "metadata": {
        "id": "zbPM-_4S8U9_",
        "colab_type": "code",
        "colab": {},
        "outputId": "392b1032-2538-459a-e516-8f9c0ef31658"
      },
      "source": [
        "len(columns)"
      ],
      "execution_count": null,
      "outputs": [
        {
          "output_type": "execute_result",
          "data": {
            "text/plain": [
              "22"
            ]
          },
          "metadata": {
            "tags": []
          },
          "execution_count": 7
        }
      ]
    },
    {
      "cell_type": "code",
      "metadata": {
        "id": "DEDK2y3b8U-C",
        "colab_type": "code",
        "colab": {}
      },
      "source": [
        "df.columns = columns"
      ],
      "execution_count": null,
      "outputs": []
    },
    {
      "cell_type": "code",
      "metadata": {
        "id": "vELkMxQw8U-F",
        "colab_type": "code",
        "colab": {},
        "outputId": "6ff89801-9818-4aaf-dc06-e284890b1117"
      },
      "source": [
        "df.head()"
      ],
      "execution_count": null,
      "outputs": [
        {
          "output_type": "execute_result",
          "data": {
            "text/html": [
              "<div>\n",
              "<style scoped>\n",
              "    .dataframe tbody tr th:only-of-type {\n",
              "        vertical-align: middle;\n",
              "    }\n",
              "\n",
              "    .dataframe tbody tr th {\n",
              "        vertical-align: top;\n",
              "    }\n",
              "\n",
              "    .dataframe thead th {\n",
              "        text-align: right;\n",
              "    }\n",
              "</style>\n",
              "<table border=\"1\" class=\"dataframe\">\n",
              "  <thead>\n",
              "    <tr style=\"text-align: right;\">\n",
              "      <th></th>\n",
              "      <th>자료생성년월</th>\n",
              "      <th>사업장명</th>\n",
              "      <th>사업자번호</th>\n",
              "      <th>가입상태</th>\n",
              "      <th>우편번호</th>\n",
              "      <th>지번주소</th>\n",
              "      <th>도로명주소</th>\n",
              "      <th>법정주소코드</th>\n",
              "      <th>행정주소코드</th>\n",
              "      <th>광역시코드</th>\n",
              "      <th>...</th>\n",
              "      <th>사업장형태</th>\n",
              "      <th>업종코드</th>\n",
              "      <th>업종코드명</th>\n",
              "      <th>적용일</th>\n",
              "      <th>재등록일</th>\n",
              "      <th>탈퇴일</th>\n",
              "      <th>가입자수</th>\n",
              "      <th>고지금액</th>\n",
              "      <th>신규</th>\n",
              "      <th>상실</th>\n",
              "    </tr>\n",
              "  </thead>\n",
              "  <tbody>\n",
              "    <tr>\n",
              "      <th>0</th>\n",
              "      <td>202005.00</td>\n",
              "      <td>(주)니프코코리아</td>\n",
              "      <td>211814.00</td>\n",
              "      <td>1.00</td>\n",
              "      <td>31409.00</td>\n",
              "      <td>충청남도 아산시 둔포면</td>\n",
              "      <td>충청남도 아산시 둔포면 아산밸리남로</td>\n",
              "      <td>4420036032.00</td>\n",
              "      <td>4420036032</td>\n",
              "      <td>44.00</td>\n",
              "      <td>...</td>\n",
              "      <td>1.00</td>\n",
              "      <td>252901</td>\n",
              "      <td>포장용 플라스틱 성형용기 제조업</td>\n",
              "      <td>19880101.00</td>\n",
              "      <td>10101.00</td>\n",
              "      <td>10101.00</td>\n",
              "      <td>625.00</td>\n",
              "      <td>263793840.00</td>\n",
              "      <td>0.00</td>\n",
              "      <td>3.00</td>\n",
              "    </tr>\n",
              "    <tr>\n",
              "      <th>1</th>\n",
              "      <td>202005.00</td>\n",
              "      <td>글로웨이 주식회사</td>\n",
              "      <td>110812.00</td>\n",
              "      <td>1.00</td>\n",
              "      <td>6072.00</td>\n",
              "      <td>서울특별시 강남구 청담동</td>\n",
              "      <td>서울특별시 강남구 영동대로137길</td>\n",
              "      <td>1168010400.00</td>\n",
              "      <td>1168056500</td>\n",
              "      <td>11.00</td>\n",
              "      <td>...</td>\n",
              "      <td>1.00</td>\n",
              "      <td>452101</td>\n",
              "      <td>미장  타일 및 방수 공사업</td>\n",
              "      <td>19880101.00</td>\n",
              "      <td>10101.00</td>\n",
              "      <td>10101.00</td>\n",
              "      <td>3.00</td>\n",
              "      <td>1099960.00</td>\n",
              "      <td>0.00</td>\n",
              "      <td>0.00</td>\n",
              "    </tr>\n",
              "    <tr>\n",
              "      <th>2</th>\n",
              "      <td>202005.00</td>\n",
              "      <td>신일기업(주)</td>\n",
              "      <td>201810.00</td>\n",
              "      <td>1.00</td>\n",
              "      <td>4537.00</td>\n",
              "      <td>서울특별시 중구 충무로2가</td>\n",
              "      <td>서울특별시 중구 퇴계로</td>\n",
              "      <td>1114012500.00</td>\n",
              "      <td>1114055000</td>\n",
              "      <td>11.00</td>\n",
              "      <td>...</td>\n",
              "      <td>1.00</td>\n",
              "      <td>381002</td>\n",
              "      <td>NaN</td>\n",
              "      <td>19880101.00</td>\n",
              "      <td>10101.00</td>\n",
              "      <td>10101.00</td>\n",
              "      <td>18.00</td>\n",
              "      <td>5954520.00</td>\n",
              "      <td>0.00</td>\n",
              "      <td>0.00</td>\n",
              "    </tr>\n",
              "    <tr>\n",
              "      <th>3</th>\n",
              "      <td>202005.00</td>\n",
              "      <td>디에스디엘(주)</td>\n",
              "      <td>104811.00</td>\n",
              "      <td>1.00</td>\n",
              "      <td>4526.00</td>\n",
              "      <td>서울특별시 중구 남대문로4가</td>\n",
              "      <td>서울특별시 중구 세종대로</td>\n",
              "      <td>1114011700.00</td>\n",
              "      <td>1114054000</td>\n",
              "      <td>11.00</td>\n",
              "      <td>...</td>\n",
              "      <td>1.00</td>\n",
              "      <td>701201</td>\n",
              "      <td>비주거용 건물 임대업(점포  자기땅)</td>\n",
              "      <td>19880101.00</td>\n",
              "      <td>10101.00</td>\n",
              "      <td>10101.00</td>\n",
              "      <td>19.00</td>\n",
              "      <td>4064440.00</td>\n",
              "      <td>0.00</td>\n",
              "      <td>2.00</td>\n",
              "    </tr>\n",
              "    <tr>\n",
              "      <th>4</th>\n",
              "      <td>202005.00</td>\n",
              "      <td>(주)헤럴드</td>\n",
              "      <td>104810.00</td>\n",
              "      <td>1.00</td>\n",
              "      <td>4336.00</td>\n",
              "      <td>서울특별시 용산구 후암동</td>\n",
              "      <td>서울특별시 용산구 후암로4길</td>\n",
              "      <td>1117010100.00</td>\n",
              "      <td>1117051000</td>\n",
              "      <td>11.00</td>\n",
              "      <td>...</td>\n",
              "      <td>1.00</td>\n",
              "      <td>221200</td>\n",
              "      <td>잡지 및 정기 간행물 발행업</td>\n",
              "      <td>19880101.00</td>\n",
              "      <td>10101.00</td>\n",
              "      <td>10101.00</td>\n",
              "      <td>305.00</td>\n",
              "      <td>108148760.00</td>\n",
              "      <td>4.00</td>\n",
              "      <td>2.00</td>\n",
              "    </tr>\n",
              "  </tbody>\n",
              "</table>\n",
              "<p>5 rows × 22 columns</p>\n",
              "</div>"
            ],
            "text/plain": [
              "     자료생성년월       사업장명     사업자번호  가입상태     우편번호             지번주소  \\\n",
              "0 202005.00  (주)니프코코리아 211814.00  1.00 31409.00     충청남도 아산시 둔포면   \n",
              "1 202005.00  글로웨이 주식회사 110812.00  1.00  6072.00    서울특별시 강남구 청담동   \n",
              "2 202005.00    신일기업(주) 201810.00  1.00  4537.00   서울특별시 중구 충무로2가   \n",
              "3 202005.00   디에스디엘(주) 104811.00  1.00  4526.00  서울특별시 중구 남대문로4가   \n",
              "4 202005.00     (주)헤럴드 104810.00  1.00  4336.00    서울특별시 용산구 후암동   \n",
              "\n",
              "                 도로명주소        법정주소코드      행정주소코드  광역시코드  ...  사업장형태    업종코드  \\\n",
              "0  충청남도 아산시 둔포면 아산밸리남로 4420036032.00  4420036032  44.00  ...   1.00  252901   \n",
              "1   서울특별시 강남구 영동대로137길 1168010400.00  1168056500  11.00  ...   1.00  452101   \n",
              "2         서울특별시 중구 퇴계로 1114012500.00  1114055000  11.00  ...   1.00  381002   \n",
              "3        서울특별시 중구 세종대로 1114011700.00  1114054000  11.00  ...   1.00  701201   \n",
              "4      서울특별시 용산구 후암로4길 1117010100.00  1117051000  11.00  ...   1.00  221200   \n",
              "\n",
              "                  업종코드명         적용일     재등록일      탈퇴일   가입자수         고지금액  \\\n",
              "0     포장용 플라스틱 성형용기 제조업 19880101.00 10101.00 10101.00 625.00 263793840.00   \n",
              "1       미장  타일 및 방수 공사업 19880101.00 10101.00 10101.00   3.00   1099960.00   \n",
              "2                   NaN 19880101.00 10101.00 10101.00  18.00   5954520.00   \n",
              "3  비주거용 건물 임대업(점포  자기땅) 19880101.00 10101.00 10101.00  19.00   4064440.00   \n",
              "4       잡지 및 정기 간행물 발행업 19880101.00 10101.00 10101.00 305.00 108148760.00   \n",
              "\n",
              "    신규   상실  \n",
              "0 0.00 3.00  \n",
              "1 0.00 0.00  \n",
              "2 0.00 0.00  \n",
              "3 0.00 2.00  \n",
              "4 4.00 2.00  \n",
              "\n",
              "[5 rows x 22 columns]"
            ]
          },
          "metadata": {
            "tags": []
          },
          "execution_count": 9
        }
      ]
    },
    {
      "cell_type": "markdown",
      "metadata": {
        "id": "YI61_nMy8U-K",
        "colab_type": "text"
      },
      "source": [
        "## 핵심 데이터 column 추출"
      ]
    },
    {
      "cell_type": "code",
      "metadata": {
        "id": "8NaaYFv78U-L",
        "colab_type": "code",
        "colab": {}
      },
      "source": [
        "df_main = df[['사업장명', '가입자수', '신규', '상실', '고지금액']]"
      ],
      "execution_count": null,
      "outputs": []
    },
    {
      "cell_type": "code",
      "metadata": {
        "id": "nm7BdbGZ8U-N",
        "colab_type": "code",
        "colab": {},
        "outputId": "6924bf22-9a01-48b5-9ef0-c6c297fe89e8"
      },
      "source": [
        "df_main.head()"
      ],
      "execution_count": null,
      "outputs": [
        {
          "output_type": "execute_result",
          "data": {
            "text/html": [
              "<div>\n",
              "<style scoped>\n",
              "    .dataframe tbody tr th:only-of-type {\n",
              "        vertical-align: middle;\n",
              "    }\n",
              "\n",
              "    .dataframe tbody tr th {\n",
              "        vertical-align: top;\n",
              "    }\n",
              "\n",
              "    .dataframe thead th {\n",
              "        text-align: right;\n",
              "    }\n",
              "</style>\n",
              "<table border=\"1\" class=\"dataframe\">\n",
              "  <thead>\n",
              "    <tr style=\"text-align: right;\">\n",
              "      <th></th>\n",
              "      <th>사업장명</th>\n",
              "      <th>가입자수</th>\n",
              "      <th>신규</th>\n",
              "      <th>상실</th>\n",
              "      <th>고지금액</th>\n",
              "    </tr>\n",
              "  </thead>\n",
              "  <tbody>\n",
              "    <tr>\n",
              "      <th>0</th>\n",
              "      <td>(주)니프코코리아</td>\n",
              "      <td>625.00</td>\n",
              "      <td>0.00</td>\n",
              "      <td>3.00</td>\n",
              "      <td>263793840.00</td>\n",
              "    </tr>\n",
              "    <tr>\n",
              "      <th>1</th>\n",
              "      <td>글로웨이 주식회사</td>\n",
              "      <td>3.00</td>\n",
              "      <td>0.00</td>\n",
              "      <td>0.00</td>\n",
              "      <td>1099960.00</td>\n",
              "    </tr>\n",
              "    <tr>\n",
              "      <th>2</th>\n",
              "      <td>신일기업(주)</td>\n",
              "      <td>18.00</td>\n",
              "      <td>0.00</td>\n",
              "      <td>0.00</td>\n",
              "      <td>5954520.00</td>\n",
              "    </tr>\n",
              "    <tr>\n",
              "      <th>3</th>\n",
              "      <td>디에스디엘(주)</td>\n",
              "      <td>19.00</td>\n",
              "      <td>0.00</td>\n",
              "      <td>2.00</td>\n",
              "      <td>4064440.00</td>\n",
              "    </tr>\n",
              "    <tr>\n",
              "      <th>4</th>\n",
              "      <td>(주)헤럴드</td>\n",
              "      <td>305.00</td>\n",
              "      <td>4.00</td>\n",
              "      <td>2.00</td>\n",
              "      <td>108148760.00</td>\n",
              "    </tr>\n",
              "  </tbody>\n",
              "</table>\n",
              "</div>"
            ],
            "text/plain": [
              "        사업장명   가입자수   신규   상실         고지금액\n",
              "0  (주)니프코코리아 625.00 0.00 3.00 263793840.00\n",
              "1  글로웨이 주식회사   3.00 0.00 0.00   1099960.00\n",
              "2    신일기업(주)  18.00 0.00 0.00   5954520.00\n",
              "3   디에스디엘(주)  19.00 0.00 2.00   4064440.00\n",
              "4     (주)헤럴드 305.00 4.00 2.00 108148760.00"
            ]
          },
          "metadata": {
            "tags": []
          },
          "execution_count": 11
        }
      ]
    },
    {
      "cell_type": "markdown",
      "metadata": {
        "id": "AfYRotuG8U-R",
        "colab_type": "text"
      },
      "source": [
        "## 데이터 통계"
      ]
    },
    {
      "cell_type": "code",
      "metadata": {
        "id": "z3mJ9pV18U-S",
        "colab_type": "code",
        "colab": {},
        "outputId": "1ebced28-be2f-4d9f-c81c-e6bf33a7b8b6"
      },
      "source": [
        "df_main['신규'].mean()"
      ],
      "execution_count": null,
      "outputs": [
        {
          "output_type": "execute_result",
          "data": {
            "text/plain": [
              "0.7133490952613984"
            ]
          },
          "metadata": {
            "tags": []
          },
          "execution_count": 12
        }
      ]
    },
    {
      "cell_type": "code",
      "metadata": {
        "id": "IDIwSpgR8U-V",
        "colab_type": "code",
        "colab": {},
        "outputId": "05d8b833-6895-45c0-9007-0f2f3c4356eb"
      },
      "source": [
        "df_main['상실'].mean()"
      ],
      "execution_count": null,
      "outputs": [
        {
          "output_type": "execute_result",
          "data": {
            "text/plain": [
              "0.6194477036128619"
            ]
          },
          "metadata": {
            "tags": []
          },
          "execution_count": 13
        }
      ]
    },
    {
      "cell_type": "code",
      "metadata": {
        "id": "kKugbRQ_8U-Y",
        "colab_type": "code",
        "colab": {},
        "outputId": "4909e50d-235a-4d57-c074-3fa6b920c05d"
      },
      "source": [
        "df_main['가입자수'].mean()"
      ],
      "execution_count": null,
      "outputs": [
        {
          "output_type": "execute_result",
          "data": {
            "text/plain": [
              "19.763622177543773"
            ]
          },
          "metadata": {
            "tags": []
          },
          "execution_count": 14
        }
      ]
    },
    {
      "cell_type": "code",
      "metadata": {
        "id": "_HosktoS8U-b",
        "colab_type": "code",
        "colab": {},
        "outputId": "639bc692-767f-45c7-a16e-e06ab6d2a8b5"
      },
      "source": [
        "df_main['고지금액'].mean()"
      ],
      "execution_count": null,
      "outputs": [
        {
          "output_type": "execute_result",
          "data": {
            "text/plain": [
              "5482982.487200803"
            ]
          },
          "metadata": {
            "tags": []
          },
          "execution_count": 15
        }
      ]
    },
    {
      "cell_type": "markdown",
      "metadata": {
        "id": "EfGRSs8F8U-e",
        "colab_type": "text"
      },
      "source": [
        "## 월급, 연봉 추정"
      ]
    },
    {
      "cell_type": "code",
      "metadata": {
        "id": "ValHWMlF8U-f",
        "colab_type": "code",
        "colab": {},
        "outputId": "f2af4636-dcbc-4cd9-deae-2be29921406b"
      },
      "source": [
        "(df_main['고지금액'] / df_main['가입자수']).head()"
      ],
      "execution_count": null,
      "outputs": [
        {
          "output_type": "execute_result",
          "data": {
            "text/plain": [
              "0   422070.14\n",
              "1   366653.33\n",
              "2   330806.67\n",
              "3   213917.89\n",
              "4   354586.10\n",
              "dtype: float64"
            ]
          },
          "metadata": {
            "tags": []
          },
          "execution_count": 16
        }
      ]
    },
    {
      "cell_type": "code",
      "metadata": {
        "id": "NF0cO2xF8U-i",
        "colab_type": "code",
        "colab": {}
      },
      "source": [
        "df_main['인당고지금액'] = df_main['고지금액'] / df_main['가입자수']\n",
        "df['인당고지금액'] = df['고지금액'] / df['가입자수']"
      ],
      "execution_count": null,
      "outputs": []
    },
    {
      "cell_type": "code",
      "metadata": {
        "id": "hMezvXSl8U-m",
        "colab_type": "code",
        "colab": {},
        "outputId": "b0c81653-7aa0-4076-88fb-9309f98b94ee"
      },
      "source": [
        "df_main['인당고지금액'].head()"
      ],
      "execution_count": null,
      "outputs": [
        {
          "output_type": "execute_result",
          "data": {
            "text/plain": [
              "0   422070.14\n",
              "1   366653.33\n",
              "2   330806.67\n",
              "3   213917.89\n",
              "4   354586.10\n",
              "Name: 인당고지금액, dtype: float64"
            ]
          },
          "metadata": {
            "tags": []
          },
          "execution_count": 18
        }
      ]
    },
    {
      "cell_type": "markdown",
      "metadata": {
        "id": "pmQ3hqgU8U-p",
        "colab_type": "text"
      },
      "source": [
        "**국민연금 정보로 어떻게 연봉정보를 계산하나요?**\n",
        "\n",
        "\n",
        "국민연금 보험률은 9%입니다. 쉽게 이야기 하면 급여(신고소득월액)의 9%를 국민연금으로 내는 것입니다. \n",
        "\n",
        "하지만 이를 절반으로 나누어 **4.5%는 회사가, 나머지 절반은 개인이 부담하는 구조**입니다. 회사는 급여 외에 추가로 금액을 부담합니다.\n",
        "\n",
        "국민연금 보험료는 **소득 상한선과 하한선이 설정되어 있어 소득 전체가 아닌 일부 소득에만 부과**됩니다.\n",
        "\n",
        "이를 역산하면 신고소득월액의 계산이 가능합니다. 하지만 **상한선과 하한선이 설정되어 있어 실제보다 과소계산**될 수 있습니다"
      ]
    },
    {
      "cell_type": "markdown",
      "metadata": {
        "id": "V9l-zRlT8U-p",
        "colab_type": "text"
      },
      "source": [
        "[수식]\n",
        "\n",
        "- 임직원 평균 월급 = 인당고지금액 / 9% * 100%\n",
        "- 임직원 평균 연봉 = 임직원 평균 월급 * 12개월"
      ]
    },
    {
      "cell_type": "code",
      "metadata": {
        "id": "ckoXOvFK8U-t",
        "colab_type": "code",
        "colab": {}
      },
      "source": [
        "df_main['평균월급'] = df_main['인당고지금액'] / 9 * 100\n",
        "df['평균월급'] = df['인당고지금액'] / 9 * 100"
      ],
      "execution_count": null,
      "outputs": []
    },
    {
      "cell_type": "code",
      "metadata": {
        "id": "c1OyIwff8U-x",
        "colab_type": "code",
        "colab": {}
      },
      "source": [
        "df_main['평균연봉'] = df_main['평균월급'] * 12\n",
        "df['평균연봉'] = df['평균월급'] * 12"
      ],
      "execution_count": null,
      "outputs": []
    },
    {
      "cell_type": "code",
      "metadata": {
        "id": "IjC03x2m8U-z",
        "colab_type": "code",
        "colab": {},
        "outputId": "7d8e31a1-ef92-465b-c347-002c542fb3e2"
      },
      "source": [
        "df_main['평균월급'].notnull().sum()"
      ],
      "execution_count": null,
      "outputs": [
        {
          "output_type": "execute_result",
          "data": {
            "text/plain": [
              "486786"
            ]
          },
          "metadata": {
            "tags": []
          },
          "execution_count": 21
        }
      ]
    },
    {
      "cell_type": "code",
      "metadata": {
        "id": "Ooj6Fknh8U-2",
        "colab_type": "code",
        "colab": {},
        "outputId": "c2586b1a-2e78-4759-a677-3cb2726a77dc"
      },
      "source": [
        "plt.figure(figsize=(10, 7))\n",
        "sns.distplot(df_main.loc[df_main['평균연봉'].notnull(), '평균연봉'])\n",
        "plt.title('평균연봉', fontsize=18)\n",
        "plt.show()"
      ],
      "execution_count": null,
      "outputs": [
        {
          "output_type": "display_data",
          "data": {
            "image/png": "[encoded data removed]",
            "text/plain": [
              "<Figure size 720x504 with 1 Axes>"
            ]
          },
          "metadata": {
            "tags": []
          }
        }
      ]
    },
    {
      "cell_type": "code",
      "metadata": {
        "id": "jJnaJ0IK8U-5",
        "colab_type": "code",
        "colab": {},
        "outputId": "a43ae84c-b0a5-4ca5-e86d-a0efe66c1f6e"
      },
      "source": [
        "plt.figure(figsize=(10, 7))\n",
        "sns.distplot(df_main.loc[df_main['평균월급'].notnull(), '평균월급'])\n",
        "plt.title('평균월급', fontsize=18)\n",
        "plt.show()"
      ],
      "execution_count": null,
      "outputs": [
        {
          "output_type": "display_data",
          "data": {
            "image/png": "[encoded data removed]",
            "text/plain": [
              "<Figure size 720x504 with 1 Axes>"
            ]
          },
          "metadata": {
            "tags": []
          }
        }
      ]
    },
    {
      "cell_type": "markdown",
      "metadata": {
        "id": "ItF2lB8X8U-8",
        "colab_type": "text"
      },
      "source": [
        "## 정렬(Order)"
      ]
    },
    {
      "cell_type": "markdown",
      "metadata": {
        "id": "_x9yH7lv8U-9",
        "colab_type": "text"
      },
      "source": [
        "### 연봉 King!"
      ]
    },
    {
      "cell_type": "code",
      "metadata": {
        "id": "-w0vYitr8U-_",
        "colab_type": "code",
        "colab": {},
        "outputId": "9660f4c8-3842-4741-f970-d5ceee4d85c9"
      },
      "source": [
        "df_main.sort_values(by='가입자수', ascending=False).head(20)"
      ],
      "execution_count": null,
      "outputs": [
        {
          "output_type": "execute_result",
          "data": {
            "text/html": [
              "<div>\n",
              "<style scoped>\n",
              "    .dataframe tbody tr th:only-of-type {\n",
              "        vertical-align: middle;\n",
              "    }\n",
              "\n",
              "    .dataframe tbody tr th {\n",
              "        vertical-align: top;\n",
              "    }\n",
              "\n",
              "    .dataframe thead th {\n",
              "        text-align: right;\n",
              "    }\n",
              "</style>\n",
              "<table border=\"1\" class=\"dataframe\">\n",
              "  <thead>\n",
              "    <tr style=\"text-align: right;\">\n",
              "      <th></th>\n",
              "      <th>사업장명</th>\n",
              "      <th>가입자수</th>\n",
              "      <th>신규</th>\n",
              "      <th>상실</th>\n",
              "      <th>고지금액</th>\n",
              "      <th>인당고지금액</th>\n",
              "      <th>평균월급</th>\n",
              "      <th>평균연봉</th>\n",
              "    </tr>\n",
              "  </thead>\n",
              "  <tbody>\n",
              "    <tr>\n",
              "      <th>3621</th>\n",
              "      <td>삼성전자(주)</td>\n",
              "      <td>103237.00</td>\n",
              "      <td>427.00</td>\n",
              "      <td>496.00</td>\n",
              "      <td>44035185740.00</td>\n",
              "      <td>426544.61</td>\n",
              "      <td>4739384.54</td>\n",
              "      <td>56872614.46</td>\n",
              "    </tr>\n",
              "    <tr>\n",
              "      <th>2647</th>\n",
              "      <td>현대자동차(주)</td>\n",
              "      <td>67738.00</td>\n",
              "      <td>133.00</td>\n",
              "      <td>352.00</td>\n",
              "      <td>28575086920.00</td>\n",
              "      <td>421847.22</td>\n",
              "      <td>4687191.32</td>\n",
              "      <td>56246295.87</td>\n",
              "    </tr>\n",
              "    <tr>\n",
              "      <th>11133</th>\n",
              "      <td>엘지전자(주)</td>\n",
              "      <td>40100.00</td>\n",
              "      <td>116.00</td>\n",
              "      <td>202.00</td>\n",
              "      <td>16446605260.00</td>\n",
              "      <td>410139.78</td>\n",
              "      <td>4557108.69</td>\n",
              "      <td>54685304.27</td>\n",
              "    </tr>\n",
              "    <tr>\n",
              "      <th>117297</th>\n",
              "      <td>에스케이하이닉스 주식회사</td>\n",
              "      <td>27859.00</td>\n",
              "      <td>157.00</td>\n",
              "      <td>162.00</td>\n",
              "      <td>11583565820.00</td>\n",
              "      <td>415792.59</td>\n",
              "      <td>4619917.69</td>\n",
              "      <td>55439012.26</td>\n",
              "    </tr>\n",
              "    <tr>\n",
              "      <th>154297</th>\n",
              "      <td>(주)이마트</td>\n",
              "      <td>27390.00</td>\n",
              "      <td>300.00</td>\n",
              "      <td>308.00</td>\n",
              "      <td>6383200960.00</td>\n",
              "      <td>233048.59</td>\n",
              "      <td>2589428.81</td>\n",
              "      <td>31073145.72</td>\n",
              "    </tr>\n",
              "    <tr>\n",
              "      <th>130001</th>\n",
              "      <td>엘지디스플레이(주)</td>\n",
              "      <td>26785.00</td>\n",
              "      <td>59.00</td>\n",
              "      <td>115.00</td>\n",
              "      <td>11317077400.00</td>\n",
              "      <td>422515.49</td>\n",
              "      <td>4694616.56</td>\n",
              "      <td>56335398.67</td>\n",
              "    </tr>\n",
              "    <tr>\n",
              "      <th>167214</th>\n",
              "      <td>삼성디스플레이(주)</td>\n",
              "      <td>23301.00</td>\n",
              "      <td>78.00</td>\n",
              "      <td>125.00</td>\n",
              "      <td>9980636760.00</td>\n",
              "      <td>428335.13</td>\n",
              "      <td>4759279.17</td>\n",
              "      <td>57111350.07</td>\n",
              "    </tr>\n",
              "    <tr>\n",
              "      <th>382474</th>\n",
              "      <td>주식회사 케이티</td>\n",
              "      <td>22659.00</td>\n",
              "      <td>32.00</td>\n",
              "      <td>87.00</td>\n",
              "      <td>9682304700.00</td>\n",
              "      <td>427305.03</td>\n",
              "      <td>4747833.68</td>\n",
              "      <td>56974004.15</td>\n",
              "    </tr>\n",
              "    <tr>\n",
              "      <th>2783</th>\n",
              "      <td>한국전력공사</td>\n",
              "      <td>22536.00</td>\n",
              "      <td>95.00</td>\n",
              "      <td>67.00</td>\n",
              "      <td>8903739980.00</td>\n",
              "      <td>395089.63</td>\n",
              "      <td>4389884.82</td>\n",
              "      <td>52678617.80</td>\n",
              "    </tr>\n",
              "    <tr>\n",
              "      <th>4893</th>\n",
              "      <td>홈플러스(주)</td>\n",
              "      <td>21626.00</td>\n",
              "      <td>139.00</td>\n",
              "      <td>262.00</td>\n",
              "      <td>4644195820.00</td>\n",
              "      <td>214750.57</td>\n",
              "      <td>2386117.44</td>\n",
              "      <td>28633409.29</td>\n",
              "    </tr>\n",
              "    <tr>\n",
              "      <th>8520</th>\n",
              "      <td>(주)엘지화학</td>\n",
              "      <td>20506.00</td>\n",
              "      <td>16.00</td>\n",
              "      <td>44.00</td>\n",
              "      <td>8500776520.00</td>\n",
              "      <td>414550.69</td>\n",
              "      <td>4606118.82</td>\n",
              "      <td>55273425.79</td>\n",
              "    </tr>\n",
              "    <tr>\n",
              "      <th>2710</th>\n",
              "      <td>대한항공(주)</td>\n",
              "      <td>18176.00</td>\n",
              "      <td>613.00</td>\n",
              "      <td>119.00</td>\n",
              "      <td>7413092120.00</td>\n",
              "      <td>407850.58</td>\n",
              "      <td>4531673.10</td>\n",
              "      <td>54380077.17</td>\n",
              "    </tr>\n",
              "    <tr>\n",
              "      <th>423104</th>\n",
              "      <td>(주)포스코</td>\n",
              "      <td>17351.00</td>\n",
              "      <td>14.00</td>\n",
              "      <td>61.00</td>\n",
              "      <td>7358611060.00</td>\n",
              "      <td>424102.99</td>\n",
              "      <td>4712255.50</td>\n",
              "      <td>56547065.95</td>\n",
              "    </tr>\n",
              "    <tr>\n",
              "      <th>382884</th>\n",
              "      <td>한국철도공사</td>\n",
              "      <td>17205.00</td>\n",
              "      <td>48.00</td>\n",
              "      <td>57.00</td>\n",
              "      <td>5875923540.00</td>\n",
              "      <td>341524.18</td>\n",
              "      <td>3794713.13</td>\n",
              "      <td>45536557.51</td>\n",
              "    </tr>\n",
              "    <tr>\n",
              "      <th>382436</th>\n",
              "      <td>국민은행(주)</td>\n",
              "      <td>16849.00</td>\n",
              "      <td>39.00</td>\n",
              "      <td>71.00</td>\n",
              "      <td>6915773240.00</td>\n",
              "      <td>410456.01</td>\n",
              "      <td>4560622.29</td>\n",
              "      <td>54727467.43</td>\n",
              "    </tr>\n",
              "    <tr>\n",
              "      <th>166114</th>\n",
              "      <td>농협은행주식회사</td>\n",
              "      <td>16748.00</td>\n",
              "      <td>140.00</td>\n",
              "      <td>173.00</td>\n",
              "      <td>6453310020.00</td>\n",
              "      <td>385318.25</td>\n",
              "      <td>4281313.87</td>\n",
              "      <td>51375766.42</td>\n",
              "    </tr>\n",
              "    <tr>\n",
              "      <th>471924</th>\n",
              "      <td>서울교통공사</td>\n",
              "      <td>16450.00</td>\n",
              "      <td>68.00</td>\n",
              "      <td>82.00</td>\n",
              "      <td>6539954360.00</td>\n",
              "      <td>397565.61</td>\n",
              "      <td>4417395.72</td>\n",
              "      <td>53008748.61</td>\n",
              "    </tr>\n",
              "    <tr>\n",
              "      <th>3943</th>\n",
              "      <td>스타벅스커피코리아(주)</td>\n",
              "      <td>15789.00</td>\n",
              "      <td>212.00</td>\n",
              "      <td>304.00</td>\n",
              "      <td>2502689740.00</td>\n",
              "      <td>158508.44</td>\n",
              "      <td>1761204.88</td>\n",
              "      <td>21134458.50</td>\n",
              "    </tr>\n",
              "    <tr>\n",
              "      <th>3104</th>\n",
              "      <td>국민건강보험공단</td>\n",
              "      <td>15241.00</td>\n",
              "      <td>79.00</td>\n",
              "      <td>131.00</td>\n",
              "      <td>5460419500.00</td>\n",
              "      <td>358271.73</td>\n",
              "      <td>3980797.05</td>\n",
              "      <td>47769564.55</td>\n",
              "    </tr>\n",
              "    <tr>\n",
              "      <th>2639</th>\n",
              "      <td>(주)우리은행</td>\n",
              "      <td>14241.00</td>\n",
              "      <td>43.00</td>\n",
              "      <td>60.00</td>\n",
              "      <td>5763278900.00</td>\n",
              "      <td>404696.22</td>\n",
              "      <td>4496624.69</td>\n",
              "      <td>53959496.29</td>\n",
              "    </tr>\n",
              "  </tbody>\n",
              "</table>\n",
              "</div>"
            ],
            "text/plain": [
              "                 사업장명      가입자수     신규     상실           고지금액    인당고지금액  \\\n",
              "3621          삼성전자(주) 103237.00 427.00 496.00 44035185740.00 426544.61   \n",
              "2647         현대자동차(주)  67738.00 133.00 352.00 28575086920.00 421847.22   \n",
              "11133         엘지전자(주)  40100.00 116.00 202.00 16446605260.00 410139.78   \n",
              "117297  에스케이하이닉스 주식회사  27859.00 157.00 162.00 11583565820.00 415792.59   \n",
              "154297         (주)이마트  27390.00 300.00 308.00  6383200960.00 233048.59   \n",
              "130001     엘지디스플레이(주)  26785.00  59.00 115.00 11317077400.00 422515.49   \n",
              "167214     삼성디스플레이(주)  23301.00  78.00 125.00  9980636760.00 428335.13   \n",
              "382474       주식회사 케이티  22659.00  32.00  87.00  9682304700.00 427305.03   \n",
              "2783           한국전력공사  22536.00  95.00  67.00  8903739980.00 395089.63   \n",
              "4893          홈플러스(주)  21626.00 139.00 262.00  4644195820.00 214750.57   \n",
              "8520          (주)엘지화학  20506.00  16.00  44.00  8500776520.00 414550.69   \n",
              "2710          대한항공(주)  18176.00 613.00 119.00  7413092120.00 407850.58   \n",
              "423104         (주)포스코  17351.00  14.00  61.00  7358611060.00 424102.99   \n",
              "382884         한국철도공사  17205.00  48.00  57.00  5875923540.00 341524.18   \n",
              "382436        국민은행(주)  16849.00  39.00  71.00  6915773240.00 410456.01   \n",
              "166114       농협은행주식회사  16748.00 140.00 173.00  6453310020.00 385318.25   \n",
              "471924         서울교통공사  16450.00  68.00  82.00  6539954360.00 397565.61   \n",
              "3943     스타벅스커피코리아(주)  15789.00 212.00 304.00  2502689740.00 158508.44   \n",
              "3104         국민건강보험공단  15241.00  79.00 131.00  5460419500.00 358271.73   \n",
              "2639          (주)우리은행  14241.00  43.00  60.00  5763278900.00 404696.22   \n",
              "\n",
              "             평균월급        평균연봉  \n",
              "3621   4739384.54 56872614.46  \n",
              "2647   4687191.32 56246295.87  \n",
              "11133  4557108.69 54685304.27  \n",
              "117297 4619917.69 55439012.26  \n",
              "154297 2589428.81 31073145.72  \n",
              "130001 4694616.56 56335398.67  \n",
              "167214 4759279.17 57111350.07  \n",
              "382474 4747833.68 56974004.15  \n",
              "2783   4389884.82 52678617.80  \n",
              "4893   2386117.44 28633409.29  \n",
              "8520   4606118.82 55273425.79  \n",
              "2710   4531673.10 54380077.17  \n",
              "423104 4712255.50 56547065.95  \n",
              "382884 3794713.13 45536557.51  \n",
              "382436 4560622.29 54727467.43  \n",
              "166114 4281313.87 51375766.42  \n",
              "471924 4417395.72 53008748.61  \n",
              "3943   1761204.88 21134458.50  \n",
              "3104   3980797.05 47769564.55  \n",
              "2639   4496624.69 53959496.29  "
            ]
          },
          "metadata": {
            "tags": []
          },
          "execution_count": 24
        }
      ]
    },
    {
      "cell_type": "markdown",
      "metadata": {
        "id": "RdJUJAwt8U_B",
        "colab_type": "text"
      },
      "source": [
        "### 신규 채용 King!"
      ]
    },
    {
      "cell_type": "code",
      "metadata": {
        "id": "c0bcQa0a8U_C",
        "colab_type": "code",
        "colab": {},
        "outputId": "83be4831-c547-4d8d-995d-fef709bc53ca"
      },
      "source": [
        "df_main.sort_values(by='신규', ascending=False).head(20)"
      ],
      "execution_count": null,
      "outputs": [
        {
          "output_type": "execute_result",
          "data": {
            "text/html": [
              "<div>\n",
              "<style scoped>\n",
              "    .dataframe tbody tr th:only-of-type {\n",
              "        vertical-align: middle;\n",
              "    }\n",
              "\n",
              "    .dataframe tbody tr th {\n",
              "        vertical-align: top;\n",
              "    }\n",
              "\n",
              "    .dataframe thead th {\n",
              "        text-align: right;\n",
              "    }\n",
              "</style>\n",
              "<table border=\"1\" class=\"dataframe\">\n",
              "  <thead>\n",
              "    <tr style=\"text-align: right;\">\n",
              "      <th></th>\n",
              "      <th>사업장명</th>\n",
              "      <th>가입자수</th>\n",
              "      <th>신규</th>\n",
              "      <th>상실</th>\n",
              "      <th>고지금액</th>\n",
              "      <th>인당고지금액</th>\n",
              "      <th>평균월급</th>\n",
              "      <th>평균연봉</th>\n",
              "    </tr>\n",
              "  </thead>\n",
              "  <tbody>\n",
              "    <tr>\n",
              "      <th>313193</th>\n",
              "      <td>쿠팡풀필먼트서비스 유한회사</td>\n",
              "      <td>12164.00</td>\n",
              "      <td>4063.00</td>\n",
              "      <td>4602.00</td>\n",
              "      <td>602010580.00</td>\n",
              "      <td>49491.17</td>\n",
              "      <td>549901.88</td>\n",
              "      <td>6598822.54</td>\n",
              "    </tr>\n",
              "    <tr>\n",
              "      <th>257899</th>\n",
              "      <td>쿠팡풀필먼트서비스 유한회사</td>\n",
              "      <td>13791.00</td>\n",
              "      <td>2375.00</td>\n",
              "      <td>1079.00</td>\n",
              "      <td>2561355180.00</td>\n",
              "      <td>185726.57</td>\n",
              "      <td>2063628.60</td>\n",
              "      <td>24763543.18</td>\n",
              "    </tr>\n",
              "    <tr>\n",
              "      <th>381255</th>\n",
              "      <td>대덕전자주식회사</td>\n",
              "      <td>2351.00</td>\n",
              "      <td>2351.00</td>\n",
              "      <td>35.00</td>\n",
              "      <td>935602200.00</td>\n",
              "      <td>397959.25</td>\n",
              "      <td>4421769.46</td>\n",
              "      <td>53061233.52</td>\n",
              "    </tr>\n",
              "    <tr>\n",
              "      <th>191857</th>\n",
              "      <td>쿠팡 주식회사</td>\n",
              "      <td>12273.00</td>\n",
              "      <td>1514.00</td>\n",
              "      <td>691.00</td>\n",
              "      <td>3411985700.00</td>\n",
              "      <td>278007.47</td>\n",
              "      <td>3088971.91</td>\n",
              "      <td>37067662.89</td>\n",
              "    </tr>\n",
              "    <tr>\n",
              "      <th>381598</th>\n",
              "      <td>주식회사　세보엠이씨(일용)일반설비 1공구(3-1)</td>\n",
              "      <td>1429.00</td>\n",
              "      <td>1429.00</td>\n",
              "      <td>1.00</td>\n",
              "      <td>412810980.00</td>\n",
              "      <td>288881.02</td>\n",
              "      <td>3209789.13</td>\n",
              "      <td>38517469.56</td>\n",
              "    </tr>\n",
              "    <tr>\n",
              "      <th>393529</th>\n",
              "      <td>한국맥도날드유한회사(A)</td>\n",
              "      <td>8279.00</td>\n",
              "      <td>1359.00</td>\n",
              "      <td>1024.00</td>\n",
              "      <td>755471660.00</td>\n",
              "      <td>91251.56</td>\n",
              "      <td>1013906.22</td>\n",
              "      <td>12166874.58</td>\n",
              "    </tr>\n",
              "    <tr>\n",
              "      <th>65522</th>\n",
              "      <td>(주)제니엘</td>\n",
              "      <td>6187.00</td>\n",
              "      <td>927.00</td>\n",
              "      <td>517.00</td>\n",
              "      <td>1060803180.00</td>\n",
              "      <td>171456.79</td>\n",
              "      <td>1905075.48</td>\n",
              "      <td>22860905.77</td>\n",
              "    </tr>\n",
              "    <tr>\n",
              "      <th>379285</th>\n",
              "      <td>주식회사　세보엠이씨(일용)P2-하층서편 상층동편 기계배관공사(A)</td>\n",
              "      <td>728.00</td>\n",
              "      <td>728.00</td>\n",
              "      <td>2.00</td>\n",
              "      <td>209708900.00</td>\n",
              "      <td>288061.68</td>\n",
              "      <td>3200685.29</td>\n",
              "      <td>38408223.44</td>\n",
              "    </tr>\n",
              "    <tr>\n",
              "      <th>372037</th>\n",
              "      <td>인천공항경비주식회사</td>\n",
              "      <td>698.00</td>\n",
              "      <td>695.00</td>\n",
              "      <td>5.00</td>\n",
              "      <td>182957120.00</td>\n",
              "      <td>262116.22</td>\n",
              "      <td>2912402.42</td>\n",
              "      <td>34948829.04</td>\n",
              "    </tr>\n",
              "    <tr>\n",
              "      <th>481602</th>\n",
              "      <td>(주)세방테크-(일용)평택 FAB2기 신축공사 일반배관공사 3공구</td>\n",
              "      <td>1680.00</td>\n",
              "      <td>667.00</td>\n",
              "      <td>3.00</td>\n",
              "      <td>535126560.00</td>\n",
              "      <td>318527.71</td>\n",
              "      <td>3539196.83</td>\n",
              "      <td>42470361.90</td>\n",
              "    </tr>\n",
              "    <tr>\n",
              "      <th>441003</th>\n",
              "      <td>주식회사비케이알(버거킹)</td>\n",
              "      <td>3855.00</td>\n",
              "      <td>631.00</td>\n",
              "      <td>477.00</td>\n",
              "      <td>375317820.00</td>\n",
              "      <td>97358.71</td>\n",
              "      <td>1081763.42</td>\n",
              "      <td>12981161.09</td>\n",
              "    </tr>\n",
              "    <tr>\n",
              "      <th>382986</th>\n",
              "      <td>주식회사 유베이스</td>\n",
              "      <td>10159.00</td>\n",
              "      <td>620.00</td>\n",
              "      <td>770.00</td>\n",
              "      <td>1728395500.00</td>\n",
              "      <td>170134.41</td>\n",
              "      <td>1890382.36</td>\n",
              "      <td>22684588.38</td>\n",
              "    </tr>\n",
              "    <tr>\n",
              "      <th>2710</th>\n",
              "      <td>대한항공(주)</td>\n",
              "      <td>18176.00</td>\n",
              "      <td>613.00</td>\n",
              "      <td>119.00</td>\n",
              "      <td>7413092120.00</td>\n",
              "      <td>407850.58</td>\n",
              "      <td>4531673.10</td>\n",
              "      <td>54380077.17</td>\n",
              "    </tr>\n",
              "    <tr>\n",
              "      <th>46752</th>\n",
              "      <td>(유)아웃백스테이크하우스코리아</td>\n",
              "      <td>3165.00</td>\n",
              "      <td>582.00</td>\n",
              "      <td>194.00</td>\n",
              "      <td>478193620.00</td>\n",
              "      <td>151088.03</td>\n",
              "      <td>1678755.91</td>\n",
              "      <td>20145070.88</td>\n",
              "    </tr>\n",
              "    <tr>\n",
              "      <th>133634</th>\n",
              "      <td>(주)동서기공시화지점</td>\n",
              "      <td>569.00</td>\n",
              "      <td>569.00</td>\n",
              "      <td>6.00</td>\n",
              "      <td>202310260.00</td>\n",
              "      <td>355554.06</td>\n",
              "      <td>3950600.66</td>\n",
              "      <td>47407207.97</td>\n",
              "    </tr>\n",
              "    <tr>\n",
              "      <th>125680</th>\n",
              "      <td>진주시청</td>\n",
              "      <td>1121.00</td>\n",
              "      <td>554.00</td>\n",
              "      <td>67.00</td>\n",
              "      <td>175375900.00</td>\n",
              "      <td>156445.94</td>\n",
              "      <td>1738288.23</td>\n",
              "      <td>20859458.82</td>\n",
              "    </tr>\n",
              "    <tr>\n",
              "      <th>65776</th>\n",
              "      <td>SK브로드밴드(주)</td>\n",
              "      <td>2377.00</td>\n",
              "      <td>550.00</td>\n",
              "      <td>10.00</td>\n",
              "      <td>991576500.00</td>\n",
              "      <td>417154.61</td>\n",
              "      <td>4635051.18</td>\n",
              "      <td>55620614.22</td>\n",
              "    </tr>\n",
              "    <tr>\n",
              "      <th>379675</th>\n",
              "      <td>성남시청(성남형연대안전기금)</td>\n",
              "      <td>495.00</td>\n",
              "      <td>495.00</td>\n",
              "      <td>8.00</td>\n",
              "      <td>90607140.00</td>\n",
              "      <td>183044.73</td>\n",
              "      <td>2033830.30</td>\n",
              "      <td>24405963.64</td>\n",
              "    </tr>\n",
              "    <tr>\n",
              "      <th>75185</th>\n",
              "      <td>재단법인경기복지재단</td>\n",
              "      <td>575.00</td>\n",
              "      <td>490.00</td>\n",
              "      <td>489.00</td>\n",
              "      <td>114041260.00</td>\n",
              "      <td>198332.63</td>\n",
              "      <td>2203695.85</td>\n",
              "      <td>26444350.14</td>\n",
              "    </tr>\n",
              "    <tr>\n",
              "      <th>376271</th>\n",
              "      <td>대명지이씨（주）-(일용)평택 FAB2기 신축공사(하층서편)중 일반전기공사 3-2공구</td>\n",
              "      <td>479.00</td>\n",
              "      <td>479.00</td>\n",
              "      <td>0.00</td>\n",
              "      <td>121556600.00</td>\n",
              "      <td>253771.61</td>\n",
              "      <td>2819684.53</td>\n",
              "      <td>33836214.34</td>\n",
              "    </tr>\n",
              "  </tbody>\n",
              "</table>\n",
              "</div>"
            ],
            "text/plain": [
              "                                                  사업장명     가입자수      신규  \\\n",
              "313193                                  쿠팡풀필먼트서비스 유한회사 12164.00 4063.00   \n",
              "257899                                  쿠팡풀필먼트서비스 유한회사 13791.00 2375.00   \n",
              "381255                                        대덕전자주식회사  2351.00 2351.00   \n",
              "191857                                         쿠팡 주식회사 12273.00 1514.00   \n",
              "381598                     주식회사　세보엠이씨(일용)일반설비 1공구(3-1)  1429.00 1429.00   \n",
              "393529                                   한국맥도날드유한회사(A)  8279.00 1359.00   \n",
              "65522                                           (주)제니엘  6187.00  927.00   \n",
              "379285            주식회사　세보엠이씨(일용)P2-하층서편 상층동편 기계배관공사(A)   728.00  728.00   \n",
              "372037                                      인천공항경비주식회사   698.00  695.00   \n",
              "481602            (주)세방테크-(일용)평택 FAB2기 신축공사 일반배관공사 3공구  1680.00  667.00   \n",
              "441003                                   주식회사비케이알(버거킹)  3855.00  631.00   \n",
              "382986                                       주식회사 유베이스 10159.00  620.00   \n",
              "2710                                           대한항공(주) 18176.00  613.00   \n",
              "46752                                 (유)아웃백스테이크하우스코리아  3165.00  582.00   \n",
              "133634                                     (주)동서기공시화지점   569.00  569.00   \n",
              "125680                                            진주시청  1121.00  554.00   \n",
              "65776                                       SK브로드밴드(주)  2377.00  550.00   \n",
              "379675                                 성남시청(성남형연대안전기금)   495.00  495.00   \n",
              "75185                                       재단법인경기복지재단   575.00  490.00   \n",
              "376271  대명지이씨（주）-(일용)평택 FAB2기 신축공사(하층서편)중 일반전기공사 3-2공구   479.00  479.00   \n",
              "\n",
              "            상실          고지금액    인당고지금액       평균월급        평균연봉  \n",
              "313193 4602.00  602010580.00  49491.17  549901.88  6598822.54  \n",
              "257899 1079.00 2561355180.00 185726.57 2063628.60 24763543.18  \n",
              "381255   35.00  935602200.00 397959.25 4421769.46 53061233.52  \n",
              "191857  691.00 3411985700.00 278007.47 3088971.91 37067662.89  \n",
              "381598    1.00  412810980.00 288881.02 3209789.13 38517469.56  \n",
              "393529 1024.00  755471660.00  91251.56 1013906.22 12166874.58  \n",
              "65522   517.00 1060803180.00 171456.79 1905075.48 22860905.77  \n",
              "379285    2.00  209708900.00 288061.68 3200685.29 38408223.44  \n",
              "372037    5.00  182957120.00 262116.22 2912402.42 34948829.04  \n",
              "481602    3.00  535126560.00 318527.71 3539196.83 42470361.90  \n",
              "441003  477.00  375317820.00  97358.71 1081763.42 12981161.09  \n",
              "382986  770.00 1728395500.00 170134.41 1890382.36 22684588.38  \n",
              "2710    119.00 7413092120.00 407850.58 4531673.10 54380077.17  \n",
              "46752   194.00  478193620.00 151088.03 1678755.91 20145070.88  \n",
              "133634    6.00  202310260.00 355554.06 3950600.66 47407207.97  \n",
              "125680   67.00  175375900.00 156445.94 1738288.23 20859458.82  \n",
              "65776    10.00  991576500.00 417154.61 4635051.18 55620614.22  \n",
              "379675    8.00   90607140.00 183044.73 2033830.30 24405963.64  \n",
              "75185   489.00  114041260.00 198332.63 2203695.85 26444350.14  \n",
              "376271    0.00  121556600.00 253771.61 2819684.53 33836214.34  "
            ]
          },
          "metadata": {
            "tags": []
          },
          "execution_count": 25
        }
      ]
    },
    {
      "cell_type": "markdown",
      "metadata": {
        "id": "5NSqLEDA8U_F",
        "colab_type": "text"
      },
      "source": [
        "### 상실 King!"
      ]
    },
    {
      "cell_type": "code",
      "metadata": {
        "id": "25jMGeQx8U_G",
        "colab_type": "code",
        "colab": {},
        "outputId": "ae4d5fbd-319a-4a10-f1b3-e7bee94435fe"
      },
      "source": [
        "df_main.sort_values(by='상실', ascending=False).head(20)"
      ],
      "execution_count": null,
      "outputs": [
        {
          "output_type": "execute_result",
          "data": {
            "text/html": [
              "<div>\n",
              "<style scoped>\n",
              "    .dataframe tbody tr th:only-of-type {\n",
              "        vertical-align: middle;\n",
              "    }\n",
              "\n",
              "    .dataframe tbody tr th {\n",
              "        vertical-align: top;\n",
              "    }\n",
              "\n",
              "    .dataframe thead th {\n",
              "        text-align: right;\n",
              "    }\n",
              "</style>\n",
              "<table border=\"1\" class=\"dataframe\">\n",
              "  <thead>\n",
              "    <tr style=\"text-align: right;\">\n",
              "      <th></th>\n",
              "      <th>사업장명</th>\n",
              "      <th>가입자수</th>\n",
              "      <th>신규</th>\n",
              "      <th>상실</th>\n",
              "      <th>고지금액</th>\n",
              "      <th>인당고지금액</th>\n",
              "      <th>평균월급</th>\n",
              "      <th>평균연봉</th>\n",
              "    </tr>\n",
              "  </thead>\n",
              "  <tbody>\n",
              "    <tr>\n",
              "      <th>313193</th>\n",
              "      <td>쿠팡풀필먼트서비스 유한회사</td>\n",
              "      <td>12164.00</td>\n",
              "      <td>4063.00</td>\n",
              "      <td>4602.00</td>\n",
              "      <td>602010580.00</td>\n",
              "      <td>49491.17</td>\n",
              "      <td>549901.88</td>\n",
              "      <td>6598822.54</td>\n",
              "    </tr>\n",
              "    <tr>\n",
              "      <th>394683</th>\n",
              "      <td>(주)교원구몬</td>\n",
              "      <td>2158.00</td>\n",
              "      <td>21.00</td>\n",
              "      <td>2071.00</td>\n",
              "      <td>709906460.00</td>\n",
              "      <td>328965.00</td>\n",
              "      <td>3655166.62</td>\n",
              "      <td>43861999.38</td>\n",
              "    </tr>\n",
              "    <tr>\n",
              "      <th>3453</th>\n",
              "      <td>하나투어(주)</td>\n",
              "      <td>2257.00</td>\n",
              "      <td>9.00</td>\n",
              "      <td>1841.00</td>\n",
              "      <td>638104980.00</td>\n",
              "      <td>282722.63</td>\n",
              "      <td>3141362.58</td>\n",
              "      <td>37696350.91</td>\n",
              "    </tr>\n",
              "    <tr>\n",
              "      <th>483834</th>\n",
              "      <td>중앙경찰학교(신임)</td>\n",
              "      <td>1857.00</td>\n",
              "      <td>0.00</td>\n",
              "      <td>1500.00</td>\n",
              "      <td>220149180.00</td>\n",
              "      <td>118550.99</td>\n",
              "      <td>1317233.17</td>\n",
              "      <td>15806798.06</td>\n",
              "    </tr>\n",
              "    <tr>\n",
              "      <th>257899</th>\n",
              "      <td>쿠팡풀필먼트서비스 유한회사</td>\n",
              "      <td>13791.00</td>\n",
              "      <td>2375.00</td>\n",
              "      <td>1079.00</td>\n",
              "      <td>2561355180.00</td>\n",
              "      <td>185726.57</td>\n",
              "      <td>2063628.60</td>\n",
              "      <td>24763543.18</td>\n",
              "    </tr>\n",
              "    <tr>\n",
              "      <th>393529</th>\n",
              "      <td>한국맥도날드유한회사(A)</td>\n",
              "      <td>8279.00</td>\n",
              "      <td>1359.00</td>\n",
              "      <td>1024.00</td>\n",
              "      <td>755471660.00</td>\n",
              "      <td>91251.56</td>\n",
              "      <td>1013906.22</td>\n",
              "      <td>12166874.58</td>\n",
              "    </tr>\n",
              "    <tr>\n",
              "      <th>494187</th>\n",
              "      <td>(주)이랜드이츠 압구정지점</td>\n",
              "      <td>4825.00</td>\n",
              "      <td>243.00</td>\n",
              "      <td>801.00</td>\n",
              "      <td>684444440.00</td>\n",
              "      <td>141853.77</td>\n",
              "      <td>1576153.00</td>\n",
              "      <td>18913835.99</td>\n",
              "    </tr>\n",
              "    <tr>\n",
              "      <th>382986</th>\n",
              "      <td>주식회사 유베이스</td>\n",
              "      <td>10159.00</td>\n",
              "      <td>620.00</td>\n",
              "      <td>770.00</td>\n",
              "      <td>1728395500.00</td>\n",
              "      <td>170134.41</td>\n",
              "      <td>1890382.36</td>\n",
              "      <td>22684588.38</td>\n",
              "    </tr>\n",
              "    <tr>\n",
              "      <th>351364</th>\n",
              "      <td>씨제이올리브영주식회사-비정규</td>\n",
              "      <td>3406.00</td>\n",
              "      <td>197.00</td>\n",
              "      <td>741.00</td>\n",
              "      <td>329764420.00</td>\n",
              "      <td>96818.68</td>\n",
              "      <td>1075763.10</td>\n",
              "      <td>12909157.17</td>\n",
              "    </tr>\n",
              "    <tr>\n",
              "      <th>191857</th>\n",
              "      <td>쿠팡 주식회사</td>\n",
              "      <td>12273.00</td>\n",
              "      <td>1514.00</td>\n",
              "      <td>691.00</td>\n",
              "      <td>3411985700.00</td>\n",
              "      <td>278007.47</td>\n",
              "      <td>3088971.91</td>\n",
              "      <td>37067662.89</td>\n",
              "    </tr>\n",
              "    <tr>\n",
              "      <th>65522</th>\n",
              "      <td>(주)제니엘</td>\n",
              "      <td>6187.00</td>\n",
              "      <td>927.00</td>\n",
              "      <td>517.00</td>\n",
              "      <td>1060803180.00</td>\n",
              "      <td>171456.79</td>\n",
              "      <td>1905075.48</td>\n",
              "      <td>22860905.77</td>\n",
              "    </tr>\n",
              "    <tr>\n",
              "      <th>3621</th>\n",
              "      <td>삼성전자(주)</td>\n",
              "      <td>103237.00</td>\n",
              "      <td>427.00</td>\n",
              "      <td>496.00</td>\n",
              "      <td>44035185740.00</td>\n",
              "      <td>426544.61</td>\n",
              "      <td>4739384.54</td>\n",
              "      <td>56872614.46</td>\n",
              "    </tr>\n",
              "    <tr>\n",
              "      <th>75185</th>\n",
              "      <td>재단법인경기복지재단</td>\n",
              "      <td>575.00</td>\n",
              "      <td>490.00</td>\n",
              "      <td>489.00</td>\n",
              "      <td>114041260.00</td>\n",
              "      <td>198332.63</td>\n",
              "      <td>2203695.85</td>\n",
              "      <td>26444350.14</td>\n",
              "    </tr>\n",
              "    <tr>\n",
              "      <th>441003</th>\n",
              "      <td>주식회사비케이알(버거킹)</td>\n",
              "      <td>3855.00</td>\n",
              "      <td>631.00</td>\n",
              "      <td>477.00</td>\n",
              "      <td>375317820.00</td>\n",
              "      <td>97358.71</td>\n",
              "      <td>1081763.42</td>\n",
              "      <td>12981161.09</td>\n",
              "    </tr>\n",
              "    <tr>\n",
              "      <th>46929</th>\n",
              "      <td>효성ITX (주)</td>\n",
              "      <td>7208.00</td>\n",
              "      <td>317.00</td>\n",
              "      <td>459.00</td>\n",
              "      <td>1325498120.00</td>\n",
              "      <td>183892.64</td>\n",
              "      <td>2043251.51</td>\n",
              "      <td>24519018.13</td>\n",
              "    </tr>\n",
              "    <tr>\n",
              "      <th>47300</th>\n",
              "      <td>주식회사 아성다이소</td>\n",
              "      <td>10895.00</td>\n",
              "      <td>275.00</td>\n",
              "      <td>459.00</td>\n",
              "      <td>1862925000.00</td>\n",
              "      <td>170988.99</td>\n",
              "      <td>1899877.62</td>\n",
              "      <td>22798531.44</td>\n",
              "    </tr>\n",
              "    <tr>\n",
              "      <th>9168</th>\n",
              "      <td>(주)트랜스코스모스코리아</td>\n",
              "      <td>7421.00</td>\n",
              "      <td>411.00</td>\n",
              "      <td>453.00</td>\n",
              "      <td>1276016220.00</td>\n",
              "      <td>171946.67</td>\n",
              "      <td>1910518.53</td>\n",
              "      <td>22926222.34</td>\n",
              "    </tr>\n",
              "    <tr>\n",
              "      <th>29201</th>\n",
              "      <td>(주) 티맥스데이터</td>\n",
              "      <td>458.00</td>\n",
              "      <td>6.00</td>\n",
              "      <td>450.00</td>\n",
              "      <td>176723080.00</td>\n",
              "      <td>385858.25</td>\n",
              "      <td>4287313.93</td>\n",
              "      <td>51447767.10</td>\n",
              "    </tr>\n",
              "    <tr>\n",
              "      <th>382999</th>\n",
              "      <td>(주)에스텍시스템</td>\n",
              "      <td>8697.00</td>\n",
              "      <td>326.00</td>\n",
              "      <td>445.00</td>\n",
              "      <td>1956266280.00</td>\n",
              "      <td>224935.76</td>\n",
              "      <td>2499286.19</td>\n",
              "      <td>29991434.29</td>\n",
              "    </tr>\n",
              "    <tr>\n",
              "      <th>299804</th>\n",
              "      <td>쿠팡로지스틱스서비스유한회사</td>\n",
              "      <td>460.00</td>\n",
              "      <td>151.00</td>\n",
              "      <td>434.00</td>\n",
              "      <td>28613620.00</td>\n",
              "      <td>62203.52</td>\n",
              "      <td>691150.24</td>\n",
              "      <td>8293802.90</td>\n",
              "    </tr>\n",
              "  </tbody>\n",
              "</table>\n",
              "</div>"
            ],
            "text/plain": [
              "                   사업장명      가입자수      신규      상실           고지금액    인당고지금액  \\\n",
              "313193   쿠팡풀필먼트서비스 유한회사  12164.00 4063.00 4602.00   602010580.00  49491.17   \n",
              "394683          (주)교원구몬   2158.00   21.00 2071.00   709906460.00 328965.00   \n",
              "3453            하나투어(주)   2257.00    9.00 1841.00   638104980.00 282722.63   \n",
              "483834       중앙경찰학교(신임)   1857.00    0.00 1500.00   220149180.00 118550.99   \n",
              "257899   쿠팡풀필먼트서비스 유한회사  13791.00 2375.00 1079.00  2561355180.00 185726.57   \n",
              "393529    한국맥도날드유한회사(A)   8279.00 1359.00 1024.00   755471660.00  91251.56   \n",
              "494187   (주)이랜드이츠 압구정지점   4825.00  243.00  801.00   684444440.00 141853.77   \n",
              "382986        주식회사 유베이스  10159.00  620.00  770.00  1728395500.00 170134.41   \n",
              "351364  씨제이올리브영주식회사-비정규   3406.00  197.00  741.00   329764420.00  96818.68   \n",
              "191857          쿠팡 주식회사  12273.00 1514.00  691.00  3411985700.00 278007.47   \n",
              "65522            (주)제니엘   6187.00  927.00  517.00  1060803180.00 171456.79   \n",
              "3621            삼성전자(주) 103237.00  427.00  496.00 44035185740.00 426544.61   \n",
              "75185        재단법인경기복지재단    575.00  490.00  489.00   114041260.00 198332.63   \n",
              "441003    주식회사비케이알(버거킹)   3855.00  631.00  477.00   375317820.00  97358.71   \n",
              "46929         효성ITX (주)   7208.00  317.00  459.00  1325498120.00 183892.64   \n",
              "47300        주식회사 아성다이소  10895.00  275.00  459.00  1862925000.00 170988.99   \n",
              "9168      (주)트랜스코스모스코리아   7421.00  411.00  453.00  1276016220.00 171946.67   \n",
              "29201        (주) 티맥스데이터    458.00    6.00  450.00   176723080.00 385858.25   \n",
              "382999        (주)에스텍시스템   8697.00  326.00  445.00  1956266280.00 224935.76   \n",
              "299804   쿠팡로지스틱스서비스유한회사    460.00  151.00  434.00    28613620.00  62203.52   \n",
              "\n",
              "             평균월급        평균연봉  \n",
              "313193  549901.88  6598822.54  \n",
              "394683 3655166.62 43861999.38  \n",
              "3453   3141362.58 37696350.91  \n",
              "483834 1317233.17 15806798.06  \n",
              "257899 2063628.60 24763543.18  \n",
              "393529 1013906.22 12166874.58  \n",
              "494187 1576153.00 18913835.99  \n",
              "382986 1890382.36 22684588.38  \n",
              "351364 1075763.10 12909157.17  \n",
              "191857 3088971.91 37067662.89  \n",
              "65522  1905075.48 22860905.77  \n",
              "3621   4739384.54 56872614.46  \n",
              "75185  2203695.85 26444350.14  \n",
              "441003 1081763.42 12981161.09  \n",
              "46929  2043251.51 24519018.13  \n",
              "47300  1899877.62 22798531.44  \n",
              "9168   1910518.53 22926222.34  \n",
              "29201  4287313.93 51447767.10  \n",
              "382999 2499286.19 29991434.29  \n",
              "299804  691150.24  8293802.90  "
            ]
          },
          "metadata": {
            "tags": []
          },
          "execution_count": 26
        }
      ]
    },
    {
      "cell_type": "markdown",
      "metadata": {
        "id": "TAK67SCJ8U_J",
        "colab_type": "text"
      },
      "source": [
        "## 300인 이하 기업"
      ]
    },
    {
      "cell_type": "code",
      "metadata": {
        "id": "D33HXjjs8U_J",
        "colab_type": "code",
        "colab": {}
      },
      "source": [
        "people_limit = 300"
      ],
      "execution_count": null,
      "outputs": []
    },
    {
      "cell_type": "code",
      "metadata": {
        "id": "0OLlsQdo8U_M",
        "colab_type": "code",
        "colab": {}
      },
      "source": [
        "small = df_main.loc[(df_main['가입자수'].notnull()) & (df_main['가입자수'] < people_limit)]"
      ],
      "execution_count": null,
      "outputs": []
    },
    {
      "cell_type": "code",
      "metadata": {
        "id": "FZO13QYf8U_Q",
        "colab_type": "code",
        "colab": {},
        "outputId": "b4cda8f3-5066-4855-c284-2ac866b5d07a"
      },
      "source": [
        "small['가입자수'].isnull().sum()"
      ],
      "execution_count": null,
      "outputs": [
        {
          "output_type": "execute_result",
          "data": {
            "text/plain": [
              "0"
            ]
          },
          "metadata": {
            "tags": []
          },
          "execution_count": 29
        }
      ]
    },
    {
      "cell_type": "code",
      "metadata": {
        "id": "GrFH7YAF8U_S",
        "colab_type": "code",
        "colab": {},
        "outputId": "22c4af4e-1ff6-42bb-804c-771165f304b3"
      },
      "source": [
        "plt.figure(figsize=(10, 7))\n",
        "sns.distplot(small['가입자수'])\n",
        "plt.title('가입자', fontsize=18)\n",
        "plt.show()"
      ],
      "execution_count": null,
      "outputs": [
        {
          "output_type": "display_data",
          "data": {
            "image/png": "[encoded data removed]",
            "text/plain": [
              "<Figure size 720x504 with 1 Axes>"
            ]
          },
          "metadata": {
            "tags": []
          }
        }
      ]
    },
    {
      "cell_type": "code",
      "metadata": {
        "id": "qd-mecMp8U_V",
        "colab_type": "code",
        "colab": {},
        "outputId": "511e8f6c-47a2-4a73-e1d6-8ac49bf78484"
      },
      "source": [
        "small.sort_values(by='상실', ascending=False)"
      ],
      "execution_count": null,
      "outputs": [
        {
          "output_type": "execute_result",
          "data": {
            "text/html": [
              "<div>\n",
              "<style scoped>\n",
              "    .dataframe tbody tr th:only-of-type {\n",
              "        vertical-align: middle;\n",
              "    }\n",
              "\n",
              "    .dataframe tbody tr th {\n",
              "        vertical-align: top;\n",
              "    }\n",
              "\n",
              "    .dataframe thead th {\n",
              "        text-align: right;\n",
              "    }\n",
              "</style>\n",
              "<table border=\"1\" class=\"dataframe\">\n",
              "  <thead>\n",
              "    <tr style=\"text-align: right;\">\n",
              "      <th></th>\n",
              "      <th>사업장명</th>\n",
              "      <th>가입자수</th>\n",
              "      <th>신규</th>\n",
              "      <th>상실</th>\n",
              "      <th>고지금액</th>\n",
              "      <th>인당고지금액</th>\n",
              "      <th>평균월급</th>\n",
              "      <th>평균연봉</th>\n",
              "    </tr>\n",
              "  </thead>\n",
              "  <tbody>\n",
              "    <tr>\n",
              "      <th>46903</th>\n",
              "      <td>(주)레스모아</td>\n",
              "      <td>260.00</td>\n",
              "      <td>9.00</td>\n",
              "      <td>233.00</td>\n",
              "      <td>60362400.00</td>\n",
              "      <td>232163.08</td>\n",
              "      <td>2579589.74</td>\n",
              "      <td>30955076.92</td>\n",
              "    </tr>\n",
              "    <tr>\n",
              "      <th>121422</th>\n",
              "      <td>아이에스동서(주)</td>\n",
              "      <td>228.00</td>\n",
              "      <td>0.00</td>\n",
              "      <td>228.00</td>\n",
              "      <td>94036000.00</td>\n",
              "      <td>412438.60</td>\n",
              "      <td>4582651.07</td>\n",
              "      <td>54991812.87</td>\n",
              "    </tr>\n",
              "    <tr>\n",
              "      <th>385579</th>\n",
              "      <td>하나투어리스트(주)</td>\n",
              "      <td>228.00</td>\n",
              "      <td>0.00</td>\n",
              "      <td>217.00</td>\n",
              "      <td>54604220.00</td>\n",
              "      <td>239492.19</td>\n",
              "      <td>2661024.37</td>\n",
              "      <td>31932292.40</td>\n",
              "    </tr>\n",
              "    <tr>\n",
              "      <th>92558</th>\n",
              "      <td>(재)광주경제고용진흥원</td>\n",
              "      <td>285.00</td>\n",
              "      <td>17.00</td>\n",
              "      <td>212.00</td>\n",
              "      <td>58959080.00</td>\n",
              "      <td>206873.96</td>\n",
              "      <td>2298599.61</td>\n",
              "      <td>27583195.32</td>\n",
              "    </tr>\n",
              "    <tr>\n",
              "      <th>507935</th>\n",
              "      <td>은평구청(2020.코로나19 극복지원단 사업)</td>\n",
              "      <td>210.00</td>\n",
              "      <td>210.00</td>\n",
              "      <td>210.00</td>\n",
              "      <td>25552800.00</td>\n",
              "      <td>121680.00</td>\n",
              "      <td>1352000.00</td>\n",
              "      <td>16224000.00</td>\n",
              "    </tr>\n",
              "    <tr>\n",
              "      <th>360785</th>\n",
              "      <td>유한회사기성</td>\n",
              "      <td>190.00</td>\n",
              "      <td>1.00</td>\n",
              "      <td>190.00</td>\n",
              "      <td>31669640.00</td>\n",
              "      <td>166682.32</td>\n",
              "      <td>1852025.73</td>\n",
              "      <td>22224308.77</td>\n",
              "    </tr>\n",
              "    <tr>\n",
              "      <th>92586</th>\n",
              "      <td>화신산업(주)</td>\n",
              "      <td>185.00</td>\n",
              "      <td>0.00</td>\n",
              "      <td>184.00</td>\n",
              "      <td>31676660.00</td>\n",
              "      <td>171225.19</td>\n",
              "      <td>1902502.10</td>\n",
              "      <td>22830025.23</td>\n",
              "    </tr>\n",
              "    <tr>\n",
              "      <th>274427</th>\n",
              "      <td>지에스아이(주)인천공항</td>\n",
              "      <td>182.00</td>\n",
              "      <td>0.00</td>\n",
              "      <td>182.00</td>\n",
              "      <td>38451780.00</td>\n",
              "      <td>211273.52</td>\n",
              "      <td>2347483.52</td>\n",
              "      <td>28169802.20</td>\n",
              "    </tr>\n",
              "    <tr>\n",
              "      <th>378584</th>\n",
              "      <td>달서구청/직장 (코로나19 긴급생계자금 지원)</td>\n",
              "      <td>179.00</td>\n",
              "      <td>179.00</td>\n",
              "      <td>179.00</td>\n",
              "      <td>27465840.00</td>\n",
              "      <td>153440.45</td>\n",
              "      <td>1704893.85</td>\n",
              "      <td>20458726.26</td>\n",
              "    </tr>\n",
              "    <tr>\n",
              "      <th>387164</th>\n",
              "      <td>국회사무처(회관인턴)</td>\n",
              "      <td>251.00</td>\n",
              "      <td>15.00</td>\n",
              "      <td>177.00</td>\n",
              "      <td>51253380.00</td>\n",
              "      <td>204196.73</td>\n",
              "      <td>2268852.59</td>\n",
              "      <td>27226231.08</td>\n",
              "    </tr>\n",
              "    <tr>\n",
              "      <th>381503</th>\n",
              "      <td>용인시청 시민안전담당관(경기도 재난기본소득 지급인력)</td>\n",
              "      <td>181.00</td>\n",
              "      <td>181.00</td>\n",
              "      <td>175.00</td>\n",
              "      <td>36135460.00</td>\n",
              "      <td>199643.43</td>\n",
              "      <td>2218260.28</td>\n",
              "      <td>26619123.39</td>\n",
              "    </tr>\n",
              "    <tr>\n",
              "      <th>377410</th>\n",
              "      <td>동구청/경제지원과(긴급생계)</td>\n",
              "      <td>191.00</td>\n",
              "      <td>191.00</td>\n",
              "      <td>172.00</td>\n",
              "      <td>30313460.00</td>\n",
              "      <td>158709.21</td>\n",
              "      <td>1763435.72</td>\n",
              "      <td>21161228.62</td>\n",
              "    </tr>\n",
              "    <tr>\n",
              "      <th>137126</th>\n",
              "      <td>달성군청 공공근로4단계</td>\n",
              "      <td>171.00</td>\n",
              "      <td>170.00</td>\n",
              "      <td>171.00</td>\n",
              "      <td>26784000.00</td>\n",
              "      <td>156631.58</td>\n",
              "      <td>1740350.88</td>\n",
              "      <td>20884210.53</td>\n",
              "    </tr>\n",
              "    <tr>\n",
              "      <th>270612</th>\n",
              "      <td>주식회사　두성시스템-T2 여객터미널(서) 환경미화용역</td>\n",
              "      <td>155.00</td>\n",
              "      <td>0.00</td>\n",
              "      <td>154.00</td>\n",
              "      <td>34814560.00</td>\n",
              "      <td>224610.06</td>\n",
              "      <td>2495667.38</td>\n",
              "      <td>29948008.60</td>\n",
              "    </tr>\n",
              "    <tr>\n",
              "      <th>154</th>\n",
              "      <td>아이에스동서(주)</td>\n",
              "      <td>202.00</td>\n",
              "      <td>1.00</td>\n",
              "      <td>143.00</td>\n",
              "      <td>71683720.00</td>\n",
              "      <td>354869.90</td>\n",
              "      <td>3942998.90</td>\n",
              "      <td>47315986.80</td>\n",
              "    </tr>\n",
              "    <tr>\n",
              "      <th>124796</th>\n",
              "      <td>아이에스동서(주) 진주지점</td>\n",
              "      <td>139.00</td>\n",
              "      <td>0.00</td>\n",
              "      <td>139.00</td>\n",
              "      <td>57925640.00</td>\n",
              "      <td>416731.22</td>\n",
              "      <td>4630346.92</td>\n",
              "      <td>55564163.07</td>\n",
              "    </tr>\n",
              "    <tr>\n",
              "      <th>421079</th>\n",
              "      <td>주식회사 평안운수</td>\n",
              "      <td>273.00</td>\n",
              "      <td>0.00</td>\n",
              "      <td>138.00</td>\n",
              "      <td>81341780.00</td>\n",
              "      <td>297955.24</td>\n",
              "      <td>3310613.76</td>\n",
              "      <td>39727365.08</td>\n",
              "    </tr>\n",
              "    <tr>\n",
              "      <th>63664</th>\n",
              "      <td>(주)제이알더블유</td>\n",
              "      <td>262.00</td>\n",
              "      <td>44.00</td>\n",
              "      <td>133.00</td>\n",
              "      <td>36343040.00</td>\n",
              "      <td>138713.89</td>\n",
              "      <td>1541265.48</td>\n",
              "      <td>18495185.75</td>\n",
              "    </tr>\n",
              "    <tr>\n",
              "      <th>331793</th>\n",
              "      <td>한전케이피에스（주）한빛3사업처/일용/원전 기전설비 경상 및 계획예방정비공사</td>\n",
              "      <td>130.00</td>\n",
              "      <td>7.00</td>\n",
              "      <td>130.00</td>\n",
              "      <td>24124500.00</td>\n",
              "      <td>185573.08</td>\n",
              "      <td>2061923.08</td>\n",
              "      <td>24743076.92</td>\n",
              "    </tr>\n",
              "    <tr>\n",
              "      <th>26837</th>\n",
              "      <td>대구광역시수성구청 일자리정책사업단</td>\n",
              "      <td>127.00</td>\n",
              "      <td>127.00</td>\n",
              "      <td>127.00</td>\n",
              "      <td>16600500.00</td>\n",
              "      <td>130712.60</td>\n",
              "      <td>1452362.20</td>\n",
              "      <td>17428346.46</td>\n",
              "    </tr>\n",
              "    <tr>\n",
              "      <th>46129</th>\n",
              "      <td>(주)세아네트웍스</td>\n",
              "      <td>166.00</td>\n",
              "      <td>0.00</td>\n",
              "      <td>126.00</td>\n",
              "      <td>57365180.00</td>\n",
              "      <td>345573.37</td>\n",
              "      <td>3839704.15</td>\n",
              "      <td>46076449.80</td>\n",
              "    </tr>\n",
              "    <tr>\n",
              "      <th>506549</th>\n",
              "      <td>경인지방통계청_일용</td>\n",
              "      <td>154.00</td>\n",
              "      <td>147.00</td>\n",
              "      <td>121.00</td>\n",
              "      <td>16557260.00</td>\n",
              "      <td>107514.68</td>\n",
              "      <td>1194607.50</td>\n",
              "      <td>14335290.04</td>\n",
              "    </tr>\n",
              "    <tr>\n",
              "      <th>494041</th>\n",
              "      <td>주식회사서울랜드서비스</td>\n",
              "      <td>126.00</td>\n",
              "      <td>31.00</td>\n",
              "      <td>120.00</td>\n",
              "      <td>26518400.00</td>\n",
              "      <td>210463.49</td>\n",
              "      <td>2338483.25</td>\n",
              "      <td>28061798.94</td>\n",
              "    </tr>\n",
              "    <tr>\n",
              "      <th>241524</th>\n",
              "      <td>대구시청/교육협력정책관</td>\n",
              "      <td>119.00</td>\n",
              "      <td>119.00</td>\n",
              "      <td>119.00</td>\n",
              "      <td>9135140.00</td>\n",
              "      <td>76765.88</td>\n",
              "      <td>852954.25</td>\n",
              "      <td>10235450.98</td>\n",
              "    </tr>\n",
              "    <tr>\n",
              "      <th>47506</th>\n",
              "      <td>대덕모듈(주)</td>\n",
              "      <td>120.00</td>\n",
              "      <td>1.00</td>\n",
              "      <td>119.00</td>\n",
              "      <td>42020680.00</td>\n",
              "      <td>350172.33</td>\n",
              "      <td>3890803.70</td>\n",
              "      <td>46689644.44</td>\n",
              "    </tr>\n",
              "    <tr>\n",
              "      <th>442408</th>\n",
              "      <td>(주)원피앤에스-인천공항</td>\n",
              "      <td>119.00</td>\n",
              "      <td>0.00</td>\n",
              "      <td>119.00</td>\n",
              "      <td>36676940.00</td>\n",
              "      <td>308209.58</td>\n",
              "      <td>3424550.89</td>\n",
              "      <td>41094610.64</td>\n",
              "    </tr>\n",
              "    <tr>\n",
              "      <th>487774</th>\n",
              "      <td>(주)화성건설이엔지-(일용)P2-PJT UT동 통합비계공사</td>\n",
              "      <td>109.00</td>\n",
              "      <td>16.00</td>\n",
              "      <td>109.00</td>\n",
              "      <td>30324980.00</td>\n",
              "      <td>278210.83</td>\n",
              "      <td>3091231.40</td>\n",
              "      <td>37094776.76</td>\n",
              "    </tr>\n",
              "    <tr>\n",
              "      <th>30939</th>\n",
              "      <td>(주)진명여객</td>\n",
              "      <td>152.00</td>\n",
              "      <td>11.00</td>\n",
              "      <td>108.00</td>\n",
              "      <td>44300660.00</td>\n",
              "      <td>291451.71</td>\n",
              "      <td>3238352.34</td>\n",
              "      <td>38860228.07</td>\n",
              "    </tr>\n",
              "    <tr>\n",
              "      <th>296952</th>\n",
              "      <td>(주)더이룸씨앤에스</td>\n",
              "      <td>113.00</td>\n",
              "      <td>12.00</td>\n",
              "      <td>106.00</td>\n",
              "      <td>12350340.00</td>\n",
              "      <td>109295.04</td>\n",
              "      <td>1214389.38</td>\n",
              "      <td>14572672.57</td>\n",
              "    </tr>\n",
              "    <tr>\n",
              "      <th>464092</th>\n",
              "      <td>주식회사비에이에스</td>\n",
              "      <td>218.00</td>\n",
              "      <td>1.00</td>\n",
              "      <td>103.00</td>\n",
              "      <td>40128160.00</td>\n",
              "      <td>184074.13</td>\n",
              "      <td>2045268.09</td>\n",
              "      <td>24543217.13</td>\n",
              "    </tr>\n",
              "    <tr>\n",
              "      <th>...</th>\n",
              "      <td>...</td>\n",
              "      <td>...</td>\n",
              "      <td>...</td>\n",
              "      <td>...</td>\n",
              "      <td>...</td>\n",
              "      <td>...</td>\n",
              "      <td>...</td>\n",
              "      <td>...</td>\n",
              "    </tr>\n",
              "    <tr>\n",
              "      <th>194402</th>\n",
              "      <td>(주)예푸드</td>\n",
              "      <td>4.00</td>\n",
              "      <td>0.00</td>\n",
              "      <td>0.00</td>\n",
              "      <td>512000.00</td>\n",
              "      <td>128000.00</td>\n",
              "      <td>1422222.22</td>\n",
              "      <td>17066666.67</td>\n",
              "    </tr>\n",
              "    <tr>\n",
              "      <th>194401</th>\n",
              "      <td>아이베란다주식회사</td>\n",
              "      <td>16.00</td>\n",
              "      <td>0.00</td>\n",
              "      <td>0.00</td>\n",
              "      <td>3277400.00</td>\n",
              "      <td>204837.50</td>\n",
              "      <td>2275972.22</td>\n",
              "      <td>27311666.67</td>\n",
              "    </tr>\n",
              "    <tr>\n",
              "      <th>194400</th>\n",
              "      <td>주식회사 매크로콤</td>\n",
              "      <td>4.00</td>\n",
              "      <td>0.00</td>\n",
              "      <td>0.00</td>\n",
              "      <td>1279800.00</td>\n",
              "      <td>319950.00</td>\n",
              "      <td>3555000.00</td>\n",
              "      <td>42660000.00</td>\n",
              "    </tr>\n",
              "    <tr>\n",
              "      <th>194431</th>\n",
              "      <td>(주)이앤에이텍</td>\n",
              "      <td>3.00</td>\n",
              "      <td>0.00</td>\n",
              "      <td>0.00</td>\n",
              "      <td>380340.00</td>\n",
              "      <td>126780.00</td>\n",
              "      <td>1408666.67</td>\n",
              "      <td>16904000.00</td>\n",
              "    </tr>\n",
              "    <tr>\n",
              "      <th>194432</th>\n",
              "      <td>서울시립청소년이동쉼터(동남권)</td>\n",
              "      <td>7.00</td>\n",
              "      <td>0.00</td>\n",
              "      <td>0.00</td>\n",
              "      <td>1478780.00</td>\n",
              "      <td>211254.29</td>\n",
              "      <td>2347269.84</td>\n",
              "      <td>28167238.10</td>\n",
              "    </tr>\n",
              "    <tr>\n",
              "      <th>194433</th>\n",
              "      <td>주식회사포엠</td>\n",
              "      <td>7.00</td>\n",
              "      <td>1.00</td>\n",
              "      <td>0.00</td>\n",
              "      <td>1639300.00</td>\n",
              "      <td>234185.71</td>\n",
              "      <td>2602063.49</td>\n",
              "      <td>31224761.90</td>\n",
              "    </tr>\n",
              "    <tr>\n",
              "      <th>194449</th>\n",
              "      <td>한국주택관리(주)세종한신휴플러스아파트</td>\n",
              "      <td>7.00</td>\n",
              "      <td>0.00</td>\n",
              "      <td>0.00</td>\n",
              "      <td>1855520.00</td>\n",
              "      <td>265074.29</td>\n",
              "      <td>2945269.84</td>\n",
              "      <td>35343238.10</td>\n",
              "    </tr>\n",
              "    <tr>\n",
              "      <th>194462</th>\n",
              "      <td>주식회사에이치케이공영</td>\n",
              "      <td>6.00</td>\n",
              "      <td>2.00</td>\n",
              "      <td>0.00</td>\n",
              "      <td>1431440.00</td>\n",
              "      <td>238573.33</td>\n",
              "      <td>2650814.81</td>\n",
              "      <td>31809777.78</td>\n",
              "    </tr>\n",
              "    <tr>\n",
              "      <th>194461</th>\n",
              "      <td>주식회사 야긴건영</td>\n",
              "      <td>3.00</td>\n",
              "      <td>0.00</td>\n",
              "      <td>0.00</td>\n",
              "      <td>707040.00</td>\n",
              "      <td>235680.00</td>\n",
              "      <td>2618666.67</td>\n",
              "      <td>31424000.00</td>\n",
              "    </tr>\n",
              "    <tr>\n",
              "      <th>194458</th>\n",
              "      <td>(주)우리플렉스</td>\n",
              "      <td>7.00</td>\n",
              "      <td>0.00</td>\n",
              "      <td>0.00</td>\n",
              "      <td>2420080.00</td>\n",
              "      <td>345725.71</td>\n",
              "      <td>3841396.83</td>\n",
              "      <td>46096761.90</td>\n",
              "    </tr>\n",
              "    <tr>\n",
              "      <th>194457</th>\n",
              "      <td>（주）프로젝터119</td>\n",
              "      <td>3.00</td>\n",
              "      <td>0.00</td>\n",
              "      <td>0.00</td>\n",
              "      <td>546740.00</td>\n",
              "      <td>182246.67</td>\n",
              "      <td>2024962.96</td>\n",
              "      <td>24299555.56</td>\n",
              "    </tr>\n",
              "    <tr>\n",
              "      <th>194456</th>\n",
              "      <td>침산태왕아너스로뎀관리사무소</td>\n",
              "      <td>4.00</td>\n",
              "      <td>0.00</td>\n",
              "      <td>0.00</td>\n",
              "      <td>781980.00</td>\n",
              "      <td>195495.00</td>\n",
              "      <td>2172166.67</td>\n",
              "      <td>26066000.00</td>\n",
              "    </tr>\n",
              "    <tr>\n",
              "      <th>194455</th>\n",
              "      <td>주식회사토탈테크놀러지</td>\n",
              "      <td>3.00</td>\n",
              "      <td>0.00</td>\n",
              "      <td>0.00</td>\n",
              "      <td>1312200.00</td>\n",
              "      <td>437400.00</td>\n",
              "      <td>4860000.00</td>\n",
              "      <td>58320000.00</td>\n",
              "    </tr>\n",
              "    <tr>\n",
              "      <th>194454</th>\n",
              "      <td>화성우리지역아동센터</td>\n",
              "      <td>4.00</td>\n",
              "      <td>0.00</td>\n",
              "      <td>0.00</td>\n",
              "      <td>492020.00</td>\n",
              "      <td>123005.00</td>\n",
              "      <td>1366722.22</td>\n",
              "      <td>16400666.67</td>\n",
              "    </tr>\n",
              "    <tr>\n",
              "      <th>194453</th>\n",
              "      <td>주식회사세명에스티</td>\n",
              "      <td>4.00</td>\n",
              "      <td>0.00</td>\n",
              "      <td>0.00</td>\n",
              "      <td>1576880.00</td>\n",
              "      <td>394220.00</td>\n",
              "      <td>4380222.22</td>\n",
              "      <td>52562666.67</td>\n",
              "    </tr>\n",
              "    <tr>\n",
              "      <th>194452</th>\n",
              "      <td>주식회사영광지엔티</td>\n",
              "      <td>3.00</td>\n",
              "      <td>0.00</td>\n",
              "      <td>0.00</td>\n",
              "      <td>833760.00</td>\n",
              "      <td>277920.00</td>\n",
              "      <td>3088000.00</td>\n",
              "      <td>37056000.00</td>\n",
              "    </tr>\n",
              "    <tr>\n",
              "      <th>194450</th>\n",
              "      <td>(주)범우디앤씨</td>\n",
              "      <td>3.00</td>\n",
              "      <td>0.00</td>\n",
              "      <td>0.00</td>\n",
              "      <td>604260.00</td>\n",
              "      <td>201420.00</td>\n",
              "      <td>2238000.00</td>\n",
              "      <td>26856000.00</td>\n",
              "    </tr>\n",
              "    <tr>\n",
              "      <th>194447</th>\n",
              "      <td>주식회사거원</td>\n",
              "      <td>12.00</td>\n",
              "      <td>0.00</td>\n",
              "      <td>0.00</td>\n",
              "      <td>3379360.00</td>\n",
              "      <td>281613.33</td>\n",
              "      <td>3129037.04</td>\n",
              "      <td>37548444.44</td>\n",
              "    </tr>\n",
              "    <tr>\n",
              "      <th>194434</th>\n",
              "      <td>주식회사삼진상사타이어</td>\n",
              "      <td>8.00</td>\n",
              "      <td>1.00</td>\n",
              "      <td>0.00</td>\n",
              "      <td>2086020.00</td>\n",
              "      <td>260752.50</td>\n",
              "      <td>2897250.00</td>\n",
              "      <td>34767000.00</td>\n",
              "    </tr>\n",
              "    <tr>\n",
              "      <th>194446</th>\n",
              "      <td>한국콘텐츠공제조합</td>\n",
              "      <td>7.00</td>\n",
              "      <td>0.00</td>\n",
              "      <td>0.00</td>\n",
              "      <td>2432500.00</td>\n",
              "      <td>347500.00</td>\n",
              "      <td>3861111.11</td>\n",
              "      <td>46333333.33</td>\n",
              "    </tr>\n",
              "    <tr>\n",
              "      <th>194445</th>\n",
              "      <td>경보환경(주)</td>\n",
              "      <td>5.00</td>\n",
              "      <td>0.00</td>\n",
              "      <td>0.00</td>\n",
              "      <td>736280.00</td>\n",
              "      <td>147256.00</td>\n",
              "      <td>1636177.78</td>\n",
              "      <td>19634133.33</td>\n",
              "    </tr>\n",
              "    <tr>\n",
              "      <th>194444</th>\n",
              "      <td>(사)서울경제인협회</td>\n",
              "      <td>3.00</td>\n",
              "      <td>1.00</td>\n",
              "      <td>0.00</td>\n",
              "      <td>657080.00</td>\n",
              "      <td>219026.67</td>\n",
              "      <td>2433629.63</td>\n",
              "      <td>29203555.56</td>\n",
              "    </tr>\n",
              "    <tr>\n",
              "      <th>194442</th>\n",
              "      <td>주식회사맑음</td>\n",
              "      <td>7.00</td>\n",
              "      <td>0.00</td>\n",
              "      <td>0.00</td>\n",
              "      <td>1127040.00</td>\n",
              "      <td>161005.71</td>\n",
              "      <td>1788952.38</td>\n",
              "      <td>21467428.57</td>\n",
              "    </tr>\n",
              "    <tr>\n",
              "      <th>194441</th>\n",
              "      <td>（주）에브리코리아</td>\n",
              "      <td>5.00</td>\n",
              "      <td>2.00</td>\n",
              "      <td>0.00</td>\n",
              "      <td>1011140.00</td>\n",
              "      <td>202228.00</td>\n",
              "      <td>2246977.78</td>\n",
              "      <td>26963733.33</td>\n",
              "    </tr>\n",
              "    <tr>\n",
              "      <th>194440</th>\n",
              "      <td>나섬자산운용주식회사</td>\n",
              "      <td>7.00</td>\n",
              "      <td>0.00</td>\n",
              "      <td>0.00</td>\n",
              "      <td>2252880.00</td>\n",
              "      <td>321840.00</td>\n",
              "      <td>3576000.00</td>\n",
              "      <td>42912000.00</td>\n",
              "    </tr>\n",
              "    <tr>\n",
              "      <th>194439</th>\n",
              "      <td>복원이엔씨 주식회사</td>\n",
              "      <td>3.00</td>\n",
              "      <td>0.00</td>\n",
              "      <td>0.00</td>\n",
              "      <td>681480.00</td>\n",
              "      <td>227160.00</td>\n",
              "      <td>2524000.00</td>\n",
              "      <td>30288000.00</td>\n",
              "    </tr>\n",
              "    <tr>\n",
              "      <th>194438</th>\n",
              "      <td>주식회사동명기공</td>\n",
              "      <td>4.00</td>\n",
              "      <td>0.00</td>\n",
              "      <td>0.00</td>\n",
              "      <td>1149640.00</td>\n",
              "      <td>287410.00</td>\n",
              "      <td>3193444.44</td>\n",
              "      <td>38321333.33</td>\n",
              "    </tr>\n",
              "    <tr>\n",
              "      <th>194436</th>\n",
              "      <td>주식회사로드랜드건설</td>\n",
              "      <td>13.00</td>\n",
              "      <td>0.00</td>\n",
              "      <td>0.00</td>\n",
              "      <td>3289340.00</td>\n",
              "      <td>253026.15</td>\n",
              "      <td>2811401.71</td>\n",
              "      <td>33736820.51</td>\n",
              "    </tr>\n",
              "    <tr>\n",
              "      <th>194435</th>\n",
              "      <td>(주)플랫콘</td>\n",
              "      <td>4.00</td>\n",
              "      <td>0.00</td>\n",
              "      <td>0.00</td>\n",
              "      <td>1216800.00</td>\n",
              "      <td>304200.00</td>\n",
              "      <td>3380000.00</td>\n",
              "      <td>40560000.00</td>\n",
              "    </tr>\n",
              "    <tr>\n",
              "      <th>254943</th>\n",
              "      <td>(주)효신 제2공장</td>\n",
              "      <td>10.00</td>\n",
              "      <td>1.00</td>\n",
              "      <td>0.00</td>\n",
              "      <td>2439540.00</td>\n",
              "      <td>243954.00</td>\n",
              "      <td>2710600.00</td>\n",
              "      <td>32527200.00</td>\n",
              "    </tr>\n",
              "  </tbody>\n",
              "</table>\n",
              "<p>505892 rows × 8 columns</p>\n",
              "</div>"
            ],
            "text/plain": [
              "                                             사업장명   가입자수     신규     상실  \\\n",
              "46903                                     (주)레스모아 260.00   9.00 233.00   \n",
              "121422                                  아이에스동서(주) 228.00   0.00 228.00   \n",
              "385579                                 하나투어리스트(주) 228.00   0.00 217.00   \n",
              "92558                                (재)광주경제고용진흥원 285.00  17.00 212.00   \n",
              "507935                  은평구청(2020.코로나19 극복지원단 사업) 210.00 210.00 210.00   \n",
              "360785                                     유한회사기성 190.00   1.00 190.00   \n",
              "92586                                     화신산업(주) 185.00   0.00 184.00   \n",
              "274427                               지에스아이(주)인천공항 182.00   0.00 182.00   \n",
              "378584                  달서구청/직장 (코로나19 긴급생계자금 지원) 179.00 179.00 179.00   \n",
              "387164                                국회사무처(회관인턴) 251.00  15.00 177.00   \n",
              "381503              용인시청 시민안전담당관(경기도 재난기본소득 지급인력) 181.00 181.00 175.00   \n",
              "377410                            동구청/경제지원과(긴급생계) 191.00 191.00 172.00   \n",
              "137126                               달성군청 공공근로4단계 171.00 170.00 171.00   \n",
              "270612              주식회사　두성시스템-T2 여객터미널(서) 환경미화용역 155.00   0.00 154.00   \n",
              "154                                     아이에스동서(주) 202.00   1.00 143.00   \n",
              "124796                             아이에스동서(주) 진주지점 139.00   0.00 139.00   \n",
              "421079                                  주식회사 평안운수 273.00   0.00 138.00   \n",
              "63664                                   (주)제이알더블유 262.00  44.00 133.00   \n",
              "331793  한전케이피에스（주）한빛3사업처/일용/원전 기전설비 경상 및 계획예방정비공사 130.00   7.00 130.00   \n",
              "26837                          대구광역시수성구청 일자리정책사업단 127.00 127.00 127.00   \n",
              "46129                                   (주)세아네트웍스 166.00   0.00 126.00   \n",
              "506549                                 경인지방통계청_일용 154.00 147.00 121.00   \n",
              "494041                                주식회사서울랜드서비스 126.00  31.00 120.00   \n",
              "241524                               대구시청/교육협력정책관 119.00 119.00 119.00   \n",
              "47506                                     대덕모듈(주) 120.00   1.00 119.00   \n",
              "442408                              (주)원피앤에스-인천공항 119.00   0.00 119.00   \n",
              "487774           (주)화성건설이엔지-(일용)P2-PJT UT동 통합비계공사 109.00  16.00 109.00   \n",
              "30939                                     (주)진명여객 152.00  11.00 108.00   \n",
              "296952                                 (주)더이룸씨앤에스 113.00  12.00 106.00   \n",
              "464092                                  주식회사비에이에스 218.00   1.00 103.00   \n",
              "...                                           ...    ...    ...    ...   \n",
              "194402                                     (주)예푸드   4.00   0.00   0.00   \n",
              "194401                                  아이베란다주식회사  16.00   0.00   0.00   \n",
              "194400                                  주식회사 매크로콤   4.00   0.00   0.00   \n",
              "194431                                   (주)이앤에이텍   3.00   0.00   0.00   \n",
              "194432                           서울시립청소년이동쉼터(동남권)   7.00   0.00   0.00   \n",
              "194433                                     주식회사포엠   7.00   1.00   0.00   \n",
              "194449                       한국주택관리(주)세종한신휴플러스아파트   7.00   0.00   0.00   \n",
              "194462                                주식회사에이치케이공영   6.00   2.00   0.00   \n",
              "194461                                  주식회사 야긴건영   3.00   0.00   0.00   \n",
              "194458                                   (주)우리플렉스   7.00   0.00   0.00   \n",
              "194457                                 （주）프로젝터119   3.00   0.00   0.00   \n",
              "194456                             침산태왕아너스로뎀관리사무소   4.00   0.00   0.00   \n",
              "194455                                주식회사토탈테크놀러지   3.00   0.00   0.00   \n",
              "194454                                 화성우리지역아동센터   4.00   0.00   0.00   \n",
              "194453                                  주식회사세명에스티   4.00   0.00   0.00   \n",
              "194452                                  주식회사영광지엔티   3.00   0.00   0.00   \n",
              "194450                                   (주)범우디앤씨   3.00   0.00   0.00   \n",
              "194447                                     주식회사거원  12.00   0.00   0.00   \n",
              "194434                                주식회사삼진상사타이어   8.00   1.00   0.00   \n",
              "194446                                  한국콘텐츠공제조합   7.00   0.00   0.00   \n",
              "194445                                    경보환경(주)   5.00   0.00   0.00   \n",
              "194444                                 (사)서울경제인협회   3.00   1.00   0.00   \n",
              "194442                                     주식회사맑음   7.00   0.00   0.00   \n",
              "194441                                  （주）에브리코리아   5.00   2.00   0.00   \n",
              "194440                                 나섬자산운용주식회사   7.00   0.00   0.00   \n",
              "194439                                 복원이엔씨 주식회사   3.00   0.00   0.00   \n",
              "194438                                   주식회사동명기공   4.00   0.00   0.00   \n",
              "194436                                 주식회사로드랜드건설  13.00   0.00   0.00   \n",
              "194435                                     (주)플랫콘   4.00   0.00   0.00   \n",
              "254943                                 (주)효신 제2공장  10.00   1.00   0.00   \n",
              "\n",
              "              고지금액    인당고지금액       평균월급        평균연봉  \n",
              "46903  60362400.00 232163.08 2579589.74 30955076.92  \n",
              "121422 94036000.00 412438.60 4582651.07 54991812.87  \n",
              "385579 54604220.00 239492.19 2661024.37 31932292.40  \n",
              "92558  58959080.00 206873.96 2298599.61 27583195.32  \n",
              "507935 25552800.00 121680.00 1352000.00 16224000.00  \n",
              "360785 31669640.00 166682.32 1852025.73 22224308.77  \n",
              "92586  31676660.00 171225.19 1902502.10 22830025.23  \n",
              "274427 38451780.00 211273.52 2347483.52 28169802.20  \n",
              "378584 27465840.00 153440.45 1704893.85 20458726.26  \n",
              "387164 51253380.00 204196.73 2268852.59 27226231.08  \n",
              "381503 36135460.00 199643.43 2218260.28 26619123.39  \n",
              "377410 30313460.00 158709.21 1763435.72 21161228.62  \n",
              "137126 26784000.00 156631.58 1740350.88 20884210.53  \n",
              "270612 34814560.00 224610.06 2495667.38 29948008.60  \n",
              "154    71683720.00 354869.90 3942998.90 47315986.80  \n",
              "124796 57925640.00 416731.22 4630346.92 55564163.07  \n",
              "421079 81341780.00 297955.24 3310613.76 39727365.08  \n",
              "63664  36343040.00 138713.89 1541265.48 18495185.75  \n",
              "331793 24124500.00 185573.08 2061923.08 24743076.92  \n",
              "26837  16600500.00 130712.60 1452362.20 17428346.46  \n",
              "46129  57365180.00 345573.37 3839704.15 46076449.80  \n",
              "506549 16557260.00 107514.68 1194607.50 14335290.04  \n",
              "494041 26518400.00 210463.49 2338483.25 28061798.94  \n",
              "241524  9135140.00  76765.88  852954.25 10235450.98  \n",
              "47506  42020680.00 350172.33 3890803.70 46689644.44  \n",
              "442408 36676940.00 308209.58 3424550.89 41094610.64  \n",
              "487774 30324980.00 278210.83 3091231.40 37094776.76  \n",
              "30939  44300660.00 291451.71 3238352.34 38860228.07  \n",
              "296952 12350340.00 109295.04 1214389.38 14572672.57  \n",
              "464092 40128160.00 184074.13 2045268.09 24543217.13  \n",
              "...            ...       ...        ...         ...  \n",
              "194402   512000.00 128000.00 1422222.22 17066666.67  \n",
              "194401  3277400.00 204837.50 2275972.22 27311666.67  \n",
              "194400  1279800.00 319950.00 3555000.00 42660000.00  \n",
              "194431   380340.00 126780.00 1408666.67 16904000.00  \n",
              "194432  1478780.00 211254.29 2347269.84 28167238.10  \n",
              "194433  1639300.00 234185.71 2602063.49 31224761.90  \n",
              "194449  1855520.00 265074.29 2945269.84 35343238.10  \n",
              "194462  1431440.00 238573.33 2650814.81 31809777.78  \n",
              "194461   707040.00 235680.00 2618666.67 31424000.00  \n",
              "194458  2420080.00 345725.71 3841396.83 46096761.90  \n",
              "194457   546740.00 182246.67 2024962.96 24299555.56  \n",
              "194456   781980.00 195495.00 2172166.67 26066000.00  \n",
              "194455  1312200.00 437400.00 4860000.00 58320000.00  \n",
              "194454   492020.00 123005.00 1366722.22 16400666.67  \n",
              "194453  1576880.00 394220.00 4380222.22 52562666.67  \n",
              "194452   833760.00 277920.00 3088000.00 37056000.00  \n",
              "194450   604260.00 201420.00 2238000.00 26856000.00  \n",
              "194447  3379360.00 281613.33 3129037.04 37548444.44  \n",
              "194434  2086020.00 260752.50 2897250.00 34767000.00  \n",
              "194446  2432500.00 347500.00 3861111.11 46333333.33  \n",
              "194445   736280.00 147256.00 1636177.78 19634133.33  \n",
              "194444   657080.00 219026.67 2433629.63 29203555.56  \n",
              "194442  1127040.00 161005.71 1788952.38 21467428.57  \n",
              "194441  1011140.00 202228.00 2246977.78 26963733.33  \n",
              "194440  2252880.00 321840.00 3576000.00 42912000.00  \n",
              "194439   681480.00 227160.00 2524000.00 30288000.00  \n",
              "194438  1149640.00 287410.00 3193444.44 38321333.33  \n",
              "194436  3289340.00 253026.15 2811401.71 33736820.51  \n",
              "194435  1216800.00 304200.00 3380000.00 40560000.00  \n",
              "254943  2439540.00 243954.00 2710600.00 32527200.00  \n",
              "\n",
              "[505892 rows x 8 columns]"
            ]
          },
          "metadata": {
            "tags": []
          },
          "execution_count": 31
        }
      ]
    },
    {
      "cell_type": "markdown",
      "metadata": {
        "id": "CjVf-1Hs8U_Z",
        "colab_type": "text"
      },
      "source": [
        "## 사업장명 데이터 정제 (Cleansing)"
      ]
    },
    {
      "cell_type": "code",
      "metadata": {
        "id": "i6CVRGvD8U_Z",
        "colab_type": "code",
        "colab": {}
      },
      "source": [
        "import re\n",
        "\n",
        "# 괄호안 문자열 제거\n",
        "pattern_1 = '\\(.*\\)'\n",
        "pattern_2 = '\\（.*\\）'\n",
        "pattern_3 = '주식회사'"
      ],
      "execution_count": null,
      "outputs": []
    },
    {
      "cell_type": "markdown",
      "metadata": {
        "id": "9RnnHjbi8U_b",
        "colab_type": "text"
      },
      "source": [
        "### (주), (주식회사) 문자열 제거"
      ]
    },
    {
      "cell_type": "code",
      "metadata": {
        "id": "d8gEdUbm8U_c",
        "colab_type": "code",
        "colab": {},
        "outputId": "f7b4185d-9dd2-4f8d-c1dd-c7368eb9311e"
      },
      "source": [
        "re.sub(pattern_1, '', '브레인크루(주)')"
      ],
      "execution_count": null,
      "outputs": [
        {
          "output_type": "execute_result",
          "data": {
            "text/plain": [
              "'브레인크루'"
            ]
          },
          "metadata": {
            "tags": []
          },
          "execution_count": 33
        }
      ]
    },
    {
      "cell_type": "code",
      "metadata": {
        "id": "KnifkYax8U_f",
        "colab_type": "code",
        "colab": {},
        "outputId": "254d0d34-aa0b-479f-8df8-c1e9921b4f4e"
      },
      "source": [
        "re.sub(pattern_1, '', '브레인크루(주식회사)')"
      ],
      "execution_count": null,
      "outputs": [
        {
          "output_type": "execute_result",
          "data": {
            "text/plain": [
              "'브레인크루'"
            ]
          },
          "metadata": {
            "tags": []
          },
          "execution_count": 34
        }
      ]
    },
    {
      "cell_type": "code",
      "metadata": {
        "id": "mqZ4izHy8U_j",
        "colab_type": "code",
        "colab": {},
        "outputId": "b2b0b07f-36f7-4bca-b7e3-2d6f56c1d748"
      },
      "source": [
        "re.sub(pattern_1, '', '(주)브레인크루')"
      ],
      "execution_count": null,
      "outputs": [
        {
          "output_type": "execute_result",
          "data": {
            "text/plain": [
              "'브레인크루'"
            ]
          },
          "metadata": {
            "tags": []
          },
          "execution_count": 35
        }
      ]
    },
    {
      "cell_type": "code",
      "metadata": {
        "id": "uMoIBqYC8U_n",
        "colab_type": "code",
        "colab": {},
        "outputId": "234fec3a-8934-4250-8064-5f37371c886c"
      },
      "source": [
        "re.sub(pattern_2, '', '（주）타워홀딩스')"
      ],
      "execution_count": null,
      "outputs": [
        {
          "output_type": "execute_result",
          "data": {
            "text/plain": [
              "'타워홀딩스'"
            ]
          },
          "metadata": {
            "tags": []
          },
          "execution_count": 36
        }
      ]
    },
    {
      "cell_type": "markdown",
      "metadata": {
        "id": "L9DsUzHD8U_r",
        "colab_type": "text"
      },
      "source": [
        "### 주식회사 문자열 제거"
      ]
    },
    {
      "cell_type": "code",
      "metadata": {
        "id": "5AtZNYaS8U_s",
        "colab_type": "code",
        "colab": {},
        "outputId": "0a4ebafe-f290-4878-eb5c-77eb31f67cb4"
      },
      "source": [
        "re.sub(pattern_2, '', '브레인크루 주식회사')"
      ],
      "execution_count": null,
      "outputs": [
        {
          "output_type": "execute_result",
          "data": {
            "text/plain": [
              "'브레인크루 주식회사'"
            ]
          },
          "metadata": {
            "tags": []
          },
          "execution_count": 37
        }
      ]
    },
    {
      "cell_type": "code",
      "metadata": {
        "id": "MD9z_n0-8U_w",
        "colab_type": "code",
        "colab": {},
        "outputId": "a5fe8ad2-3bb9-4b49-dea6-a5bb623d298d"
      },
      "source": [
        "re.sub(pattern_2, '', '브레인크루주식회사')"
      ],
      "execution_count": null,
      "outputs": [
        {
          "output_type": "execute_result",
          "data": {
            "text/plain": [
              "'브레인크루주식회사'"
            ]
          },
          "metadata": {
            "tags": []
          },
          "execution_count": 38
        }
      ]
    },
    {
      "cell_type": "code",
      "metadata": {
        "id": "JGmvrv218U_1",
        "colab_type": "code",
        "colab": {},
        "outputId": "40a35899-03a5-468b-df6a-a3967ef41222"
      },
      "source": [
        "re.sub(pattern_2, '', '주식회사브레인크루주식회사')"
      ],
      "execution_count": null,
      "outputs": [
        {
          "output_type": "execute_result",
          "data": {
            "text/plain": [
              "'주식회사브레인크루주식회사'"
            ]
          },
          "metadata": {
            "tags": []
          },
          "execution_count": 39
        }
      ]
    },
    {
      "cell_type": "code",
      "metadata": {
        "id": "7-Nckyp48U_5",
        "colab_type": "code",
        "colab": {}
      },
      "source": [
        "def text_preprocess(text):\n",
        "    text = re.sub(pattern_1, '', text)\n",
        "    text = re.sub(pattern_2, '', text)\n",
        "    text = re.sub(pattern_3, '', text)\n",
        "    return text"
      ],
      "execution_count": null,
      "outputs": []
    },
    {
      "cell_type": "code",
      "metadata": {
        "id": "-rU8N5BN8U_9",
        "colab_type": "code",
        "colab": {}
      },
      "source": [
        "df_main['사업장명'] = df_main['사업장명'].apply(text_preprocess)"
      ],
      "execution_count": null,
      "outputs": []
    },
    {
      "cell_type": "code",
      "metadata": {
        "id": "SfjDB2M48VAA",
        "colab_type": "code",
        "colab": {},
        "outputId": "0d5c47b3-a002-460d-a7a0-ee1d218632a8"
      },
      "source": [
        "df_main[df_main['사업장명'] == '패스트캠퍼스']"
      ],
      "execution_count": null,
      "outputs": [
        {
          "output_type": "execute_result",
          "data": {
            "text/html": [
              "<div>\n",
              "<style scoped>\n",
              "    .dataframe tbody tr th:only-of-type {\n",
              "        vertical-align: middle;\n",
              "    }\n",
              "\n",
              "    .dataframe tbody tr th {\n",
              "        vertical-align: top;\n",
              "    }\n",
              "\n",
              "    .dataframe thead th {\n",
              "        text-align: right;\n",
              "    }\n",
              "</style>\n",
              "<table border=\"1\" class=\"dataframe\">\n",
              "  <thead>\n",
              "    <tr style=\"text-align: right;\">\n",
              "      <th></th>\n",
              "      <th>사업장명</th>\n",
              "      <th>가입자수</th>\n",
              "      <th>신규</th>\n",
              "      <th>상실</th>\n",
              "      <th>고지금액</th>\n",
              "      <th>인당고지금액</th>\n",
              "      <th>평균월급</th>\n",
              "      <th>평균연봉</th>\n",
              "    </tr>\n",
              "  </thead>\n",
              "  <tbody>\n",
              "    <tr>\n",
              "      <th>268632</th>\n",
              "      <td>패스트캠퍼스</td>\n",
              "      <td>120.00</td>\n",
              "      <td>6.00</td>\n",
              "      <td>8.00</td>\n",
              "      <td>31263860.00</td>\n",
              "      <td>260532.17</td>\n",
              "      <td>2894801.85</td>\n",
              "      <td>34737622.22</td>\n",
              "    </tr>\n",
              "  </tbody>\n",
              "</table>\n",
              "</div>"
            ],
            "text/plain": [
              "          사업장명   가입자수   신규   상실        고지금액    인당고지금액       평균월급        평균연봉\n",
              "268632  패스트캠퍼스 120.00 6.00 8.00 31263860.00 260532.17 2894801.85 34737622.22"
            ]
          },
          "metadata": {
            "tags": []
          },
          "execution_count": 42
        }
      ]
    },
    {
      "cell_type": "code",
      "metadata": {
        "id": "E0UmxFU38VAF",
        "colab_type": "code",
        "colab": {}
      },
      "source": [
        "df['사업장명'] = df['사업장명'].apply(text_preprocess)"
      ],
      "execution_count": null,
      "outputs": []
    },
    {
      "cell_type": "code",
      "metadata": {
        "id": "1BzSBokx8VAK",
        "colab_type": "code",
        "colab": {},
        "outputId": "8603f900-225e-4925-c8e9-400ae9d88fe4"
      },
      "source": [
        "df.columns"
      ],
      "execution_count": null,
      "outputs": [
        {
          "output_type": "execute_result",
          "data": {
            "text/plain": [
              "Index(['자료생성년월', '사업장명', '사업자번호', '가입상태', '우편번호', '지번주소', '도로명주소', '법정주소코드',\n",
              "       '행정주소코드', '광역시코드', '시군구코드', '읍면동코드', '사업장형태', '업종코드', '업종코드명', '적용일',\n",
              "       '재등록일', '탈퇴일', '가입자수', '고지금액', '신규', '상실', '인당고지금액', '평균월급', '평균연봉'],\n",
              "      dtype='object')"
            ]
          },
          "metadata": {
            "tags": []
          },
          "execution_count": 44
        }
      ]
    },
    {
      "cell_type": "code",
      "metadata": {
        "id": "Gio5J1od8VAO",
        "colab_type": "code",
        "colab": {},
        "outputId": "4e2b9b63-90b2-4863-903f-5d798e9afac3"
      },
      "source": [
        "plt.figure(figsize=(16, 6))\n",
        "sns.barplot(x=df.groupby('시군구코드')['가입자수'].mean().index, y=df.groupby('시군구코드')['가입자수'].mean())\n",
        "plt.title('시군구 별 가입자수')\n",
        "plt.xticks(rotation=90)\n",
        "plt.show()"
      ],
      "execution_count": null,
      "outputs": [
        {
          "output_type": "display_data",
          "data": {
            "image/png": "[encoded data removed]",
            "text/plain": [
              "<Figure size 1152x432 with 1 Axes>"
            ]
          },
          "metadata": {
            "tags": []
          }
        }
      ]
    },
    {
      "cell_type": "code",
      "metadata": {
        "id": "lq-8XZZs8VAR",
        "colab_type": "code",
        "colab": {},
        "outputId": "722b780d-880d-4123-b1e1-221893776abd"
      },
      "source": [
        "plt.figure(figsize=(16, 6))\n",
        "sns.barplot(x=df.groupby('시군구코드')['신규'].mean().index, y=df.groupby('시군구코드')['신규'].mean())\n",
        "plt.title('시군구 별 신규인력')\n",
        "plt.xticks(rotation=90)\n",
        "plt.show()"
      ],
      "execution_count": null,
      "outputs": [
        {
          "output_type": "display_data",
          "data": {
            "image/png": "[encoded data removed]",
            "text/plain": [
              "<Figure size 1152x432 with 1 Axes>"
            ]
          },
          "metadata": {
            "tags": []
          }
        }
      ]
    },
    {
      "cell_type": "code",
      "metadata": {
        "id": "XWc6qRuY8VAV",
        "colab_type": "code",
        "colab": {},
        "outputId": "7581fdc2-902e-4ec2-f579-a09c17dfecdb"
      },
      "source": [
        "plt.figure(figsize=(16, 6))\n",
        "sns.barplot(x=df.groupby('시군구코드')['상실'].mean().index, y=df.groupby('시군구코드')['상실'].mean())\n",
        "plt.title('시군구 별 신규인력')\n",
        "plt.xticks(rotation=90)\n",
        "plt.show()"
      ],
      "execution_count": null,
      "outputs": [
        {
          "output_type": "display_data",
          "data": {
            "image/png": "[encoded data removed]",
            "text/plain": [
              "<Figure size 1152x432 with 1 Axes>"
            ]
          },
          "metadata": {
            "tags": []
          }
        }
      ]
    },
    {
      "cell_type": "code",
      "metadata": {
        "id": "BhYZKLUa8VAb",
        "colab_type": "code",
        "colab": {},
        "outputId": "38d5a6a2-8da2-47ce-9197-ba3a06a679f8"
      },
      "source": [
        "df.head()"
      ],
      "execution_count": null,
      "outputs": [
        {
          "output_type": "execute_result",
          "data": {
            "text/html": [
              "<div>\n",
              "<style scoped>\n",
              "    .dataframe tbody tr th:only-of-type {\n",
              "        vertical-align: middle;\n",
              "    }\n",
              "\n",
              "    .dataframe tbody tr th {\n",
              "        vertical-align: top;\n",
              "    }\n",
              "\n",
              "    .dataframe thead th {\n",
              "        text-align: right;\n",
              "    }\n",
              "</style>\n",
              "<table border=\"1\" class=\"dataframe\">\n",
              "  <thead>\n",
              "    <tr style=\"text-align: right;\">\n",
              "      <th></th>\n",
              "      <th>자료생성년월</th>\n",
              "      <th>사업장명</th>\n",
              "      <th>사업자번호</th>\n",
              "      <th>가입상태</th>\n",
              "      <th>우편번호</th>\n",
              "      <th>지번주소</th>\n",
              "      <th>도로명주소</th>\n",
              "      <th>법정주소코드</th>\n",
              "      <th>행정주소코드</th>\n",
              "      <th>광역시코드</th>\n",
              "      <th>...</th>\n",
              "      <th>적용일</th>\n",
              "      <th>재등록일</th>\n",
              "      <th>탈퇴일</th>\n",
              "      <th>가입자수</th>\n",
              "      <th>고지금액</th>\n",
              "      <th>신규</th>\n",
              "      <th>상실</th>\n",
              "      <th>인당고지금액</th>\n",
              "      <th>평균월급</th>\n",
              "      <th>평균연봉</th>\n",
              "    </tr>\n",
              "  </thead>\n",
              "  <tbody>\n",
              "    <tr>\n",
              "      <th>0</th>\n",
              "      <td>202005.00</td>\n",
              "      <td>니프코코리아</td>\n",
              "      <td>211814.00</td>\n",
              "      <td>1.00</td>\n",
              "      <td>31409.00</td>\n",
              "      <td>충청남도 아산시 둔포면</td>\n",
              "      <td>충청남도 아산시 둔포면 아산밸리남로</td>\n",
              "      <td>4420036032.00</td>\n",
              "      <td>4420036032</td>\n",
              "      <td>44.00</td>\n",
              "      <td>...</td>\n",
              "      <td>19880101.00</td>\n",
              "      <td>10101.00</td>\n",
              "      <td>10101.00</td>\n",
              "      <td>625.00</td>\n",
              "      <td>263793840.00</td>\n",
              "      <td>0.00</td>\n",
              "      <td>3.00</td>\n",
              "      <td>422070.14</td>\n",
              "      <td>4689668.27</td>\n",
              "      <td>56276019.20</td>\n",
              "    </tr>\n",
              "    <tr>\n",
              "      <th>1</th>\n",
              "      <td>202005.00</td>\n",
              "      <td>글로웨이</td>\n",
              "      <td>110812.00</td>\n",
              "      <td>1.00</td>\n",
              "      <td>6072.00</td>\n",
              "      <td>서울특별시 강남구 청담동</td>\n",
              "      <td>서울특별시 강남구 영동대로137길</td>\n",
              "      <td>1168010400.00</td>\n",
              "      <td>1168056500</td>\n",
              "      <td>11.00</td>\n",
              "      <td>...</td>\n",
              "      <td>19880101.00</td>\n",
              "      <td>10101.00</td>\n",
              "      <td>10101.00</td>\n",
              "      <td>3.00</td>\n",
              "      <td>1099960.00</td>\n",
              "      <td>0.00</td>\n",
              "      <td>0.00</td>\n",
              "      <td>366653.33</td>\n",
              "      <td>4073925.93</td>\n",
              "      <td>48887111.11</td>\n",
              "    </tr>\n",
              "    <tr>\n",
              "      <th>2</th>\n",
              "      <td>202005.00</td>\n",
              "      <td>신일기업</td>\n",
              "      <td>201810.00</td>\n",
              "      <td>1.00</td>\n",
              "      <td>4537.00</td>\n",
              "      <td>서울특별시 중구 충무로2가</td>\n",
              "      <td>서울특별시 중구 퇴계로</td>\n",
              "      <td>1114012500.00</td>\n",
              "      <td>1114055000</td>\n",
              "      <td>11.00</td>\n",
              "      <td>...</td>\n",
              "      <td>19880101.00</td>\n",
              "      <td>10101.00</td>\n",
              "      <td>10101.00</td>\n",
              "      <td>18.00</td>\n",
              "      <td>5954520.00</td>\n",
              "      <td>0.00</td>\n",
              "      <td>0.00</td>\n",
              "      <td>330806.67</td>\n",
              "      <td>3675629.63</td>\n",
              "      <td>44107555.56</td>\n",
              "    </tr>\n",
              "    <tr>\n",
              "      <th>3</th>\n",
              "      <td>202005.00</td>\n",
              "      <td>디에스디엘</td>\n",
              "      <td>104811.00</td>\n",
              "      <td>1.00</td>\n",
              "      <td>4526.00</td>\n",
              "      <td>서울특별시 중구 남대문로4가</td>\n",
              "      <td>서울특별시 중구 세종대로</td>\n",
              "      <td>1114011700.00</td>\n",
              "      <td>1114054000</td>\n",
              "      <td>11.00</td>\n",
              "      <td>...</td>\n",
              "      <td>19880101.00</td>\n",
              "      <td>10101.00</td>\n",
              "      <td>10101.00</td>\n",
              "      <td>19.00</td>\n",
              "      <td>4064440.00</td>\n",
              "      <td>0.00</td>\n",
              "      <td>2.00</td>\n",
              "      <td>213917.89</td>\n",
              "      <td>2376865.50</td>\n",
              "      <td>28522385.96</td>\n",
              "    </tr>\n",
              "    <tr>\n",
              "      <th>4</th>\n",
              "      <td>202005.00</td>\n",
              "      <td>헤럴드</td>\n",
              "      <td>104810.00</td>\n",
              "      <td>1.00</td>\n",
              "      <td>4336.00</td>\n",
              "      <td>서울특별시 용산구 후암동</td>\n",
              "      <td>서울특별시 용산구 후암로4길</td>\n",
              "      <td>1117010100.00</td>\n",
              "      <td>1117051000</td>\n",
              "      <td>11.00</td>\n",
              "      <td>...</td>\n",
              "      <td>19880101.00</td>\n",
              "      <td>10101.00</td>\n",
              "      <td>10101.00</td>\n",
              "      <td>305.00</td>\n",
              "      <td>108148760.00</td>\n",
              "      <td>4.00</td>\n",
              "      <td>2.00</td>\n",
              "      <td>354586.10</td>\n",
              "      <td>3939845.54</td>\n",
              "      <td>47278146.45</td>\n",
              "    </tr>\n",
              "  </tbody>\n",
              "</table>\n",
              "<p>5 rows × 25 columns</p>\n",
              "</div>"
            ],
            "text/plain": [
              "     자료생성년월    사업장명     사업자번호  가입상태     우편번호             지번주소  \\\n",
              "0 202005.00  니프코코리아 211814.00  1.00 31409.00     충청남도 아산시 둔포면   \n",
              "1 202005.00   글로웨이  110812.00  1.00  6072.00    서울특별시 강남구 청담동   \n",
              "2 202005.00    신일기업 201810.00  1.00  4537.00   서울특별시 중구 충무로2가   \n",
              "3 202005.00   디에스디엘 104811.00  1.00  4526.00  서울특별시 중구 남대문로4가   \n",
              "4 202005.00     헤럴드 104810.00  1.00  4336.00    서울특별시 용산구 후암동   \n",
              "\n",
              "                 도로명주소        법정주소코드      행정주소코드  광역시코드  ...         적용일  \\\n",
              "0  충청남도 아산시 둔포면 아산밸리남로 4420036032.00  4420036032  44.00  ... 19880101.00   \n",
              "1   서울특별시 강남구 영동대로137길 1168010400.00  1168056500  11.00  ... 19880101.00   \n",
              "2         서울특별시 중구 퇴계로 1114012500.00  1114055000  11.00  ... 19880101.00   \n",
              "3        서울특별시 중구 세종대로 1114011700.00  1114054000  11.00  ... 19880101.00   \n",
              "4      서울특별시 용산구 후암로4길 1117010100.00  1117051000  11.00  ... 19880101.00   \n",
              "\n",
              "      재등록일      탈퇴일   가입자수         고지금액   신규   상실    인당고지금액       평균월급  \\\n",
              "0 10101.00 10101.00 625.00 263793840.00 0.00 3.00 422070.14 4689668.27   \n",
              "1 10101.00 10101.00   3.00   1099960.00 0.00 0.00 366653.33 4073925.93   \n",
              "2 10101.00 10101.00  18.00   5954520.00 0.00 0.00 330806.67 3675629.63   \n",
              "3 10101.00 10101.00  19.00   4064440.00 0.00 2.00 213917.89 2376865.50   \n",
              "4 10101.00 10101.00 305.00 108148760.00 4.00 2.00 354586.10 3939845.54   \n",
              "\n",
              "         평균연봉  \n",
              "0 56276019.20  \n",
              "1 48887111.11  \n",
              "2 44107555.56  \n",
              "3 28522385.96  \n",
              "4 47278146.45  \n",
              "\n",
              "[5 rows x 25 columns]"
            ]
          },
          "metadata": {
            "tags": []
          },
          "execution_count": 48
        }
      ]
    },
    {
      "cell_type": "markdown",
      "metadata": {
        "id": "IG9zpmLo8VAf",
        "colab_type": "text"
      },
      "source": [
        "## 신규 인력이 많은 시군구코드"
      ]
    },
    {
      "cell_type": "markdown",
      "metadata": {
        "id": "XU-13AdD8VAg",
        "colab_type": "text"
      },
      "source": [
        "**경기도 평택시**에서 최근 국민연금 가입자 신규인력이 가장 많이 발생했음\n",
        "\n",
        "주로 건축 인력 혹은 건설사 인력들이 신규로 편입되면서 국민연금 가입자 발생이 가장 많이 일어난 것으로 집계 됐다."
      ]
    },
    {
      "cell_type": "code",
      "metadata": {
        "id": "_lnIQSfK8VAg",
        "colab_type": "code",
        "colab": {},
        "outputId": "024892b7-b07e-418a-c1c7-1a45c9a1a310"
      },
      "source": [
        "df.loc[df['시군구코드'] == 220][['사업장명','지번주소','신규']].sort_values(by='신규', ascending=False).head(20)"
      ],
      "execution_count": null,
      "outputs": [
        {
          "output_type": "execute_result",
          "data": {
            "text/html": [
              "<div>\n",
              "<style scoped>\n",
              "    .dataframe tbody tr th:only-of-type {\n",
              "        vertical-align: middle;\n",
              "    }\n",
              "\n",
              "    .dataframe tbody tr th {\n",
              "        vertical-align: top;\n",
              "    }\n",
              "\n",
              "    .dataframe thead th {\n",
              "        text-align: right;\n",
              "    }\n",
              "</style>\n",
              "<table border=\"1\" class=\"dataframe\">\n",
              "  <thead>\n",
              "    <tr style=\"text-align: right;\">\n",
              "      <th></th>\n",
              "      <th>사업장명</th>\n",
              "      <th>지번주소</th>\n",
              "      <th>신규</th>\n",
              "    </tr>\n",
              "  </thead>\n",
              "  <tbody>\n",
              "    <tr>\n",
              "      <th>381598</th>\n",
              "      <td>세보엠이씨</td>\n",
              "      <td>경기도 평택시 고덕면</td>\n",
              "      <td>1429.00</td>\n",
              "    </tr>\n",
              "    <tr>\n",
              "      <th>379285</th>\n",
              "      <td>세보엠이씨</td>\n",
              "      <td>경기도 평택시 고덕면</td>\n",
              "      <td>728.00</td>\n",
              "    </tr>\n",
              "    <tr>\n",
              "      <th>481602</th>\n",
              "      <td>평택 FAB2기 신축공사 일반배관공사 3공구</td>\n",
              "      <td>경기도 평택시 고덕면</td>\n",
              "      <td>667.00</td>\n",
              "    </tr>\n",
              "    <tr>\n",
              "      <th>376271</th>\n",
              "      <td>대명지이씨-중 일반전기공사 3-2공구</td>\n",
              "      <td>경기도 평택시 고덕면</td>\n",
              "      <td>479.00</td>\n",
              "    </tr>\n",
              "    <tr>\n",
              "      <th>374752</th>\n",
              "      <td>두원이에프씨 중 일반전기공사 2-1공구</td>\n",
              "      <td>경기도 평택시 고덕면</td>\n",
              "      <td>388.00</td>\n",
              "    </tr>\n",
              "    <tr>\n",
              "      <th>376048</th>\n",
              "      <td>세안이엔씨-일반전기공사 2-2공구</td>\n",
              "      <td>경기도 평택시 고덕면</td>\n",
              "      <td>383.00</td>\n",
              "    </tr>\n",
              "    <tr>\n",
              "      <th>508716</th>\n",
              "      <td>신보- 일반전기공사 2-3공구</td>\n",
              "      <td>경기도 평택시 고덕면</td>\n",
              "      <td>377.00</td>\n",
              "    </tr>\n",
              "    <tr>\n",
              "      <th>508047</th>\n",
              "      <td>중 일반전기공사 3-1 공구</td>\n",
              "      <td>경기도 평택시 장당동</td>\n",
              "      <td>370.00</td>\n",
              "    </tr>\n",
              "    <tr>\n",
              "      <th>319427</th>\n",
              "      <td>한양이엔지-평택 FAB 2기 신축공사 일반배관공사 7공구</td>\n",
              "      <td>경기도 평택시 고덕면</td>\n",
              "      <td>365.00</td>\n",
              "    </tr>\n",
              "    <tr>\n",
              "      <th>380824</th>\n",
              "      <td>대아이앤씨-평택FAB2기신축공사 중 하층서편  상층동편 공사 중 일반설비6공구</td>\n",
              "      <td>경기도 평택시 고덕면</td>\n",
              "      <td>325.00</td>\n",
              "    </tr>\n",
              "    <tr>\n",
              "      <th>372788</th>\n",
              "      <td>우현이앤지-</td>\n",
              "      <td>경기도 평택시 장당동</td>\n",
              "      <td>287.00</td>\n",
              "    </tr>\n",
              "    <tr>\n",
              "      <th>507319</th>\n",
              "      <td>삼호이앤에프-평택 소방전기공사 2-1공구</td>\n",
              "      <td>경기도 평택시 고덕면</td>\n",
              "      <td>282.00</td>\n",
              "    </tr>\n",
              "    <tr>\n",
              "      <th>503876</th>\n",
              "      <td>존슨콘트롤즈인터내셔널코리아평택 전자 P2-PJT UT동 하층서편_소방설비공사</td>\n",
              "      <td>경기도 평택시 고덕면</td>\n",
              "      <td>245.00</td>\n",
              "    </tr>\n",
              "    <tr>\n",
              "      <th>320587</th>\n",
              "      <td>케이씨이앤씨-평택FAB 2기 신축공사 중 GAS 1공구공사</td>\n",
              "      <td>경기도 평택시 고덕면</td>\n",
              "      <td>189.00</td>\n",
              "    </tr>\n",
              "    <tr>\n",
              "      <th>373826</th>\n",
              "      <td></td>\n",
              "      <td>경기도 평택시 고덕면</td>\n",
              "      <td>187.00</td>\n",
              "    </tr>\n",
              "    <tr>\n",
              "      <th>376168</th>\n",
              "      <td></td>\n",
              "      <td>경기도 평택시 장당동</td>\n",
              "      <td>164.00</td>\n",
              "    </tr>\n",
              "    <tr>\n",
              "      <th>377575</th>\n",
              "      <td>에이치케이안전시스템</td>\n",
              "      <td>경기도 평택시 고덕면</td>\n",
              "      <td>153.00</td>\n",
              "    </tr>\n",
              "    <tr>\n",
              "      <th>361837</th>\n",
              "      <td>평택 지제세교지구 1블록 공동주택</td>\n",
              "      <td>경기도 평택시 지제동</td>\n",
              "      <td>152.00</td>\n",
              "    </tr>\n",
              "    <tr>\n",
              "      <th>380130</th>\n",
              "      <td>세보엠이씨</td>\n",
              "      <td>경기도 평택시 장당동</td>\n",
              "      <td>143.00</td>\n",
              "    </tr>\n",
              "    <tr>\n",
              "      <th>376504</th>\n",
              "      <td></td>\n",
              "      <td>경기도 평택시 고덕면</td>\n",
              "      <td>135.00</td>\n",
              "    </tr>\n",
              "  </tbody>\n",
              "</table>\n",
              "</div>"
            ],
            "text/plain": [
              "                                               사업장명         지번주소      신규\n",
              "381598                                       　세보엠이씨  경기도 평택시 고덕면 1429.00\n",
              "379285                                       　세보엠이씨  경기도 평택시 고덕면  728.00\n",
              "481602                     평택 FAB2기 신축공사 일반배관공사 3공구  경기도 평택시 고덕면  667.00\n",
              "376271                         대명지이씨-중 일반전기공사 3-2공구  경기도 평택시 고덕면  479.00\n",
              "374752                        두원이에프씨 중 일반전기공사 2-1공구  경기도 평택시 고덕면  388.00\n",
              "376048                           세안이엔씨-일반전기공사 2-2공구  경기도 평택시 고덕면  383.00\n",
              "508716                             신보- 일반전기공사 2-3공구  경기도 평택시 고덕면  377.00\n",
              "508047                              중 일반전기공사 3-1 공구  경기도 평택시 장당동  370.00\n",
              "319427              한양이엔지-평택 FAB 2기 신축공사 일반배관공사 7공구  경기도 평택시 고덕면  365.00\n",
              "380824  대아이앤씨-평택FAB2기신축공사 중 하층서편  상층동편 공사 중 일반설비6공구  경기도 평택시 고덕면  325.00\n",
              "372788                                       우현이앤지-  경기도 평택시 장당동  287.00\n",
              "507319                       삼호이앤에프-평택 소방전기공사 2-1공구  경기도 평택시 고덕면  282.00\n",
              "503876   존슨콘트롤즈인터내셔널코리아평택 전자 P2-PJT UT동 하층서편_소방설비공사  경기도 평택시 고덕면  245.00\n",
              "320587             케이씨이앤씨-평택FAB 2기 신축공사 중 GAS 1공구공사  경기도 평택시 고덕면  189.00\n",
              "373826                                               경기도 평택시 고덕면  187.00\n",
              "376168                                               경기도 평택시 장당동  164.00\n",
              "377575                                   에이치케이안전시스템  경기도 평택시 고덕면  153.00\n",
              "361837                           평택 지제세교지구 1블록 공동주택  경기도 평택시 지제동  152.00\n",
              "380130                                       　세보엠이씨  경기도 평택시 장당동  143.00\n",
              "376504                                               경기도 평택시 고덕면  135.00"
            ]
          },
          "metadata": {
            "tags": []
          },
          "execution_count": 49
        }
      ]
    },
    {
      "cell_type": "markdown",
      "metadata": {
        "id": "TbV0YKod8VAm",
        "colab_type": "text"
      },
      "source": [
        "**서울특별시 영등포구**에서 가장 많은 상실 인력이 발생했다.\n",
        "\n",
        "하지만, 효성ITX, 엘지전자와 같이 굵직한 기업들이 인력 감소를 함으로써 **본 주소인 영등포구 에서 상실 인력**이 많이 발생한 것으로 집계됐다."
      ]
    },
    {
      "cell_type": "code",
      "metadata": {
        "id": "rRmifX2S8VAm",
        "colab_type": "code",
        "colab": {},
        "outputId": "4a7aae37-33bb-443e-d794-976fad316280"
      },
      "source": [
        "df.loc[df['시군구코드'] == 560][['사업장명','지번주소','상실']].sort_values(by='상실', ascending=False).head(20)"
      ],
      "execution_count": null,
      "outputs": [
        {
          "output_type": "execute_result",
          "data": {
            "text/html": [
              "<div>\n",
              "<style scoped>\n",
              "    .dataframe tbody tr th:only-of-type {\n",
              "        vertical-align: middle;\n",
              "    }\n",
              "\n",
              "    .dataframe tbody tr th {\n",
              "        vertical-align: top;\n",
              "    }\n",
              "\n",
              "    .dataframe thead th {\n",
              "        text-align: right;\n",
              "    }\n",
              "</style>\n",
              "<table border=\"1\" class=\"dataframe\">\n",
              "  <thead>\n",
              "    <tr style=\"text-align: right;\">\n",
              "      <th></th>\n",
              "      <th>사업장명</th>\n",
              "      <th>지번주소</th>\n",
              "      <th>상실</th>\n",
              "    </tr>\n",
              "  </thead>\n",
              "  <tbody>\n",
              "    <tr>\n",
              "      <th>46929</th>\n",
              "      <td>효성ITX</td>\n",
              "      <td>서울특별시 영등포구 양평동4가</td>\n",
              "      <td>459.00</td>\n",
              "    </tr>\n",
              "    <tr>\n",
              "      <th>60558</th>\n",
              "      <td>윌앤비전</td>\n",
              "      <td>서울특별시 영등포구 당산동4가</td>\n",
              "      <td>222.00</td>\n",
              "    </tr>\n",
              "    <tr>\n",
              "      <th>11133</th>\n",
              "      <td>엘지전자</td>\n",
              "      <td>서울특별시 영등포구 여의도동</td>\n",
              "      <td>202.00</td>\n",
              "    </tr>\n",
              "    <tr>\n",
              "      <th>384806</th>\n",
              "      <td>케이티아이에스</td>\n",
              "      <td>서울특별시 영등포구 여의도동</td>\n",
              "      <td>178.00</td>\n",
              "    </tr>\n",
              "    <tr>\n",
              "      <th>387164</th>\n",
              "      <td>국회사무처</td>\n",
              "      <td>서울특별시 영등포구 여의도동</td>\n",
              "      <td>177.00</td>\n",
              "    </tr>\n",
              "    <tr>\n",
              "      <th>859</th>\n",
              "      <td>한화손해보험</td>\n",
              "      <td>서울특별시 영등포구 여의도동</td>\n",
              "      <td>169.00</td>\n",
              "    </tr>\n",
              "    <tr>\n",
              "      <th>382074</th>\n",
              "      <td>한국피자헛 유한회사</td>\n",
              "      <td>서울특별시 영등포구 여의도동</td>\n",
              "      <td>123.00</td>\n",
              "    </tr>\n",
              "    <tr>\n",
              "      <th>382702</th>\n",
              "      <td>인터비즈시스템</td>\n",
              "      <td>서울특별시 영등포구 여의도동</td>\n",
              "      <td>116.00</td>\n",
              "    </tr>\n",
              "    <tr>\n",
              "      <th>130001</th>\n",
              "      <td>엘지디스플레이</td>\n",
              "      <td>서울특별시 영등포구 여의도동</td>\n",
              "      <td>115.00</td>\n",
              "    </tr>\n",
              "    <tr>\n",
              "      <th>46933</th>\n",
              "      <td>한성엠에스</td>\n",
              "      <td>서울특별시 영등포구 양평동3가</td>\n",
              "      <td>99.00</td>\n",
              "    </tr>\n",
              "    <tr>\n",
              "      <th>517</th>\n",
              "      <td>제이앤비컨설팅</td>\n",
              "      <td>서울특별시 영등포구 문래동3가</td>\n",
              "      <td>93.00</td>\n",
              "    </tr>\n",
              "    <tr>\n",
              "      <th>38799</th>\n",
              "      <td>조은시스템</td>\n",
              "      <td>서울특별시 영등포구 문래동3가</td>\n",
              "      <td>93.00</td>\n",
              "    </tr>\n",
              "    <tr>\n",
              "      <th>245573</th>\n",
              "      <td>아임파워-현장</td>\n",
              "      <td>서울특별시 영등포구 문래동6가</td>\n",
              "      <td>89.00</td>\n",
              "    </tr>\n",
              "    <tr>\n",
              "      <th>56232</th>\n",
              "      <td>미성엠프로</td>\n",
              "      <td>서울특별시 영등포구 당산동3가</td>\n",
              "      <td>87.00</td>\n",
              "    </tr>\n",
              "    <tr>\n",
              "      <th>1413</th>\n",
              "      <td>고암</td>\n",
              "      <td>서울특별시 영등포구 당산동6가</td>\n",
              "      <td>80.00</td>\n",
              "    </tr>\n",
              "    <tr>\n",
              "      <th>402296</th>\n",
              "      <td>우림맨테크</td>\n",
              "      <td>서울특별시 영등포구 양평동3가</td>\n",
              "      <td>76.00</td>\n",
              "    </tr>\n",
              "    <tr>\n",
              "      <th>399161</th>\n",
              "      <td>현대캐피탈</td>\n",
              "      <td>서울특별시 영등포구 여의도동</td>\n",
              "      <td>75.00</td>\n",
              "    </tr>\n",
              "    <tr>\n",
              "      <th>394411</th>\n",
              "      <td>에프에이모스트</td>\n",
              "      <td>서울특별시 영등포구 양평동3가</td>\n",
              "      <td>74.00</td>\n",
              "    </tr>\n",
              "    <tr>\n",
              "      <th>22537</th>\n",
              "      <td>반도티에스</td>\n",
              "      <td>서울특별시 영등포구 당산동6가</td>\n",
              "      <td>72.00</td>\n",
              "    </tr>\n",
              "    <tr>\n",
              "      <th>382436</th>\n",
              "      <td>국민은행</td>\n",
              "      <td>서울특별시 영등포구 여의도동</td>\n",
              "      <td>71.00</td>\n",
              "    </tr>\n",
              "  </tbody>\n",
              "</table>\n",
              "</div>"
            ],
            "text/plain": [
              "              사업장명              지번주소     상실\n",
              "46929       효성ITX   서울특별시 영등포구 양평동4가 459.00\n",
              "60558         윌앤비전  서울특별시 영등포구 당산동4가 222.00\n",
              "11133         엘지전자   서울특별시 영등포구 여의도동 202.00\n",
              "384806     케이티아이에스   서울특별시 영등포구 여의도동 178.00\n",
              "387164       국회사무처   서울특별시 영등포구 여의도동 177.00\n",
              "859         한화손해보험   서울특별시 영등포구 여의도동 169.00\n",
              "382074  한국피자헛 유한회사   서울특별시 영등포구 여의도동 123.00\n",
              "382702     인터비즈시스템   서울특별시 영등포구 여의도동 116.00\n",
              "130001     엘지디스플레이   서울특별시 영등포구 여의도동 115.00\n",
              "46933        한성엠에스  서울특별시 영등포구 양평동3가  99.00\n",
              "517        제이앤비컨설팅  서울특별시 영등포구 문래동3가  93.00\n",
              "38799        조은시스템  서울특별시 영등포구 문래동3가  93.00\n",
              "245573     아임파워-현장  서울특별시 영등포구 문래동6가  89.00\n",
              "56232       미성엠프로   서울특별시 영등포구 당산동3가  87.00\n",
              "1413            고암  서울특별시 영등포구 당산동6가  80.00\n",
              "402296       우림맨테크  서울특별시 영등포구 양평동3가  76.00\n",
              "399161       현대캐피탈   서울특별시 영등포구 여의도동  75.00\n",
              "394411     에프에이모스트  서울특별시 영등포구 양평동3가  74.00\n",
              "22537        반도티에스  서울특별시 영등포구 당산동6가  72.00\n",
              "382436        국민은행   서울특별시 영등포구 여의도동  71.00"
            ]
          },
          "metadata": {
            "tags": []
          },
          "execution_count": 50
        }
      ]
    },
    {
      "cell_type": "markdown",
      "metadata": {
        "id": "WXyt6Pcv8VAp",
        "colab_type": "text"
      },
      "source": [
        "## 업종별 신규 인력 현황"
      ]
    },
    {
      "cell_type": "code",
      "metadata": {
        "id": "XgQGMChI8VAq",
        "colab_type": "code",
        "colab": {},
        "outputId": "98a2cfe0-33ed-472d-c465-2307bcb8844c"
      },
      "source": [
        "df.groupby('업종코드명')['신규'].mean()"
      ],
      "execution_count": null,
      "outputs": [
        {
          "output_type": "execute_result",
          "data": {
            "text/plain": [
              "업종코드명\n",
              "1차 금속제품 도매업                       0.15\n",
              "BIZ_NO미존재사업장                      0.45\n",
              "가공 및 정제염 제조업                      0.05\n",
              "가구 내 고용활동                         1.33\n",
              "가구 소매업                            0.22\n",
              "가금류 가공 및 저장 처리업                   0.61\n",
              "가금류 가공 및 저장 처리업 / 육류 포장육 및 냉동육    0.54\n",
              "가금류 도축업                           2.00\n",
              "가발 및 유사 제품 제조업                    0.12\n",
              "가방 및 기타 가죽제품 소매업                  0.68\n",
              "가방 및 기타 보호용 케이스 제조업               0.25\n",
              "가방 및 보호용 케이스 도매업                  0.47\n",
              "가수                                0.00\n",
              "가스집단공급업                           0.21\n",
              "가전제품 및 부품 도매업                     0.37\n",
              "가전제품 소매업                          0.39\n",
              "가전제품 수리업                          0.65\n",
              "가정용 가스 연료 소매업                     0.18\n",
              "가정용 고체 연료 소매업                     0.67\n",
              "가정용 및 장식용 도자기 제조업                 0.29\n",
              "가정용 비전기식 조리 및 난방 기구 제조업           0.46\n",
              "가정용 세탁업                           0.30\n",
              "가정용 액체 연료 소매업                     0.35\n",
              "가정용 유리제품 제조업                      0.39\n",
              "가정용 전기 난방기기 제조업                   5.00\n",
              "가정용 직물제품 소매업                      0.00\n",
              "가죽 및 모피 의복 소매업                    0.67\n",
              "가죽 및 모피 제품 도매업                    0.55\n",
              "가죽의복 제조업                          0.43\n",
              "간이 음식 포장 판매 전문점                   0.52\n",
              "                                  ... \n",
              "항공 및 육상 화물 취급업                    0.79\n",
              "항공 여객 운송업                         8.88\n",
              "항공기용 부품 제조업                       0.48\n",
              "항만  수로  댐 및 유사 구조물 건설업            0.00\n",
              "해수면 양식 어업                         0.36\n",
              "핵반응기 및 증기보일러 제조업                  0.84\n",
              "핸드백 및 지갑 제조업                      2.00\n",
              "행사도우미                             0.15\n",
              "호스팅 및 관련 서비스업                     1.33\n",
              "호텔업                               0.74\n",
              "혼성 및 재생 플라스틱 소재 물질 제조업            0.60\n",
              "화가 및 관련예술가                        0.69\n",
              "화물 운송 중개  대리 및 관련 서비스업            0.29\n",
              "화물 자동차 및 특수 목적용 자동차 제조업           2.21\n",
              "화물 포장  검수 및 계량 서비스업              38.91\n",
              "화약 및 불꽃제품 제조업                     2.00\n",
              "화장터 운영  묘지 분양 및 관리업               0.37\n",
              "화장품  비누 및 방향제 소매업                 0.49\n",
              "화장품 및 화장용품 도매업                    0.48\n",
              "화장품 제조업                           1.21\n",
              "화초 및 식물 소매업                       0.35\n",
              "화학 살균ㆍ살충제 및 농업용 약제 제조업            1.35\n",
              "화학섬유 방적업                          0.21\n",
              "화학섬유직물 직조업                        0.16\n",
              "화학용 및 비료 원료용 광물 광업                0.00\n",
              "화훼류 및 식물 도매업                      0.32\n",
              "화훼작물 재배업                          0.00\n",
              "환경 관련 엔지니어링 서비스업                  0.70\n",
              "환경설비 건설업                          0.44\n",
              "휴양 콘도 운영업                         0.70\n",
              "Name: 신규, Length: 1121, dtype: float64"
            ]
          },
          "metadata": {
            "tags": []
          },
          "execution_count": 51
        }
      ]
    },
    {
      "cell_type": "code",
      "metadata": {
        "id": "qCGDmekT8VAt",
        "colab_type": "code",
        "colab": {}
      },
      "source": [
        "df_1 = df.groupby('업종코드명')['신규'].mean()"
      ],
      "execution_count": null,
      "outputs": []
    },
    {
      "cell_type": "code",
      "metadata": {
        "id": "jhv_P8kP8VAx",
        "colab_type": "code",
        "colab": {},
        "outputId": "788b5c8f-993b-4028-f1fa-8095bd052ee5"
      },
      "source": [
        "df_1.sort_values(ascending=False).count()"
      ],
      "execution_count": null,
      "outputs": [
        {
          "output_type": "execute_result",
          "data": {
            "text/plain": [
              "1121"
            ]
          },
          "metadata": {
            "tags": []
          },
          "execution_count": 53
        }
      ]
    },
    {
      "cell_type": "markdown",
      "metadata": {
        "id": "n1KTUp7q8VA1",
        "colab_type": "text"
      },
      "source": [
        "총 출력할 갯수(업종=1121개)가 너무 많다...ㅠ"
      ]
    },
    {
      "cell_type": "markdown",
      "metadata": {
        "id": "BPSlxGsa8VA2",
        "colab_type": "text"
      },
      "source": [
        "상위 50 개 **업종** 출력하도록 하겠습니다."
      ]
    },
    {
      "cell_type": "code",
      "metadata": {
        "id": "4jTZ2WuD8VA2",
        "colab_type": "code",
        "colab": {}
      },
      "source": [
        "df_top100 = df_1.sort_values(ascending=False).head(50)"
      ],
      "execution_count": null,
      "outputs": []
    },
    {
      "cell_type": "code",
      "metadata": {
        "id": "b6tzCMTS8VA4",
        "colab_type": "code",
        "colab": {},
        "outputId": "86d4f20a-c791-4cd3-c554-c95d2e5e0b44"
      },
      "source": [
        "plt.figure(figsize=(16, 6))\n",
        "sns.barplot(x=df_top100.index, y=df_top100)\n",
        "plt.title('업종별 신규인력')\n",
        "plt.xticks(rotation=90)\n",
        "plt.show()"
      ],
      "execution_count": null,
      "outputs": [
        {
          "output_type": "display_data",
          "data": {
            "image/png": "[encoded data removed]",
            "text/plain": [
              "<Figure size 1152x432 with 1 Axes>"
            ]
          },
          "metadata": {
            "tags": []
          }
        }
      ]
    },
    {
      "cell_type": "markdown",
      "metadata": {
        "id": "Fb2FYz1B8VA8",
        "colab_type": "text"
      },
      "source": [
        "- 코로나 바이러스 이전 사태와는 면밀한 비교를 위하여 이전 데이터가 필요합니다.\n",
        "- 하지만, 포스트 코로나 현상황에서는 **음료품배달업, 포장 검수 및 계량 서비스업, 수산동물 훈제 조리 및 유사 조제식품 제조업** 순으로 채용이 증가되었음을 확인할 수 있습니다."
      ]
    },
    {
      "cell_type": "code",
      "metadata": {
        "id": "q2_AGPwn8VA9",
        "colab_type": "code",
        "colab": {}
      },
      "source": [
        "df_2 = df.groupby('업종코드명')['상실'].mean()"
      ],
      "execution_count": null,
      "outputs": []
    },
    {
      "cell_type": "code",
      "metadata": {
        "id": "s3uFBRDu8VBC",
        "colab_type": "code",
        "colab": {}
      },
      "source": [
        "df_bot100 = df_2.sort_values(ascending=False).head(50)"
      ],
      "execution_count": null,
      "outputs": []
    },
    {
      "cell_type": "code",
      "metadata": {
        "id": "bWMhaSFc8VBG",
        "colab_type": "code",
        "colab": {},
        "outputId": "4899edda-be4f-4864-e3c1-05510e63a412"
      },
      "source": [
        "plt.figure(figsize=(16, 6))\n",
        "sns.barplot(x=df_bot100.index, y=df_bot100)\n",
        "plt.title('업종별 상실인력')\n",
        "plt.xticks(rotation=90)\n",
        "plt.show()"
      ],
      "execution_count": null,
      "outputs": [
        {
          "output_type": "display_data",
          "data": {
            "image/png": "[encoded data removed]",
            "text/plain": [
              "<Figure size 1152x432 with 1 Axes>"
            ]
          },
          "metadata": {
            "tags": []
          }
        }
      ]
    },
    {
      "cell_type": "markdown",
      "metadata": {
        "id": "JeT1u5bH8VBK",
        "colab_type": "text"
      },
      "source": [
        "업종별 상실 인력에 대한 **TOP 50 결과**입니다."
      ]
    },
    {
      "cell_type": "markdown",
      "metadata": {
        "id": "r3_atWHF8VBK",
        "colab_type": "text"
      },
      "source": [
        "여기서 재밌는 점은, 이전에 신규인력이 가장 많은 업종도 **음료품배달원** 이었다는 점입니다. \n",
        "\n",
        "좀 더 구체적인 데이터를 통해서 신규와 상실이 동시에 많이 일어난 이유에 대한 분석이 면밀히 필요합니다.\n",
        "\n",
        "때론, 한 기업이 M&A를 진행된 후 타 회사로 인력이 **상실 -> 편입 되면서 데이터 인사이트에 대한 왜곡 현상**이 생길 수 있습니다."
      ]
    },
    {
      "cell_type": "markdown",
      "metadata": {
        "id": "nTVUS2sV8VBO",
        "colab_type": "text"
      },
      "source": [
        "## 업종별 단일 회사 연봉 비교 차트 그리기"
      ]
    },
    {
      "cell_type": "code",
      "metadata": {
        "id": "F7kmcMhz8VBO",
        "colab_type": "code",
        "colab": {}
      },
      "source": [
        "def compare_and_visualize(company):\n",
        "    code = df[df['사업장명'] == company]['업종코드']\n",
        "    cols = ['가입자수', '평균월급', '평균연봉', '신규', '상실', '업종코드']\n",
        "    filtered = df.loc[df['업종코드']==code.item()][cols]\n",
        "    df_company = df.loc[df['사업장명'] == company][cols]\n",
        "    df_company = df_company.append(pd.Series(filtered.mean()), ignore_index=True)\n",
        "    \n",
        "    compare_cols = ['가입자수', '평균월급', '평균연봉', '신규', '상실']\n",
        "    for col in compare_cols:\n",
        "        plt.figure(figsize=(10, 5))\n",
        "        sns.barplot(x=[company, '업종평균'], y=col, data=df_company)\n",
        "        plt.title('{} vs 업종평균'.format(col), fontsize=18)\n",
        "        plt.show()"
      ],
      "execution_count": null,
      "outputs": []
    },
    {
      "cell_type": "code",
      "metadata": {
        "id": "2lLesLGA8VBR",
        "colab_type": "code",
        "colab": {},
        "outputId": "81bab1bd-6f26-452b-ed82-ec57ddb9a730"
      },
      "source": [
        "compare_and_visualize('패스트캠퍼스')"
      ],
      "execution_count": null,
      "outputs": [
        {
          "output_type": "display_data",
          "data": {
            "image/png": "[encoded data removed]",
            "text/plain": [
              "<Figure size 720x360 with 1 Axes>"
            ]
          },
          "metadata": {
            "tags": []
          }
        },
        {
          "output_type": "display_data",
          "data": {
            "image/png": "[encoded data removed]",
            "text/plain": [
              "<Figure size 720x360 with 1 Axes>"
            ]
          },
          "metadata": {
            "tags": []
          }
        },
        {
          "output_type": "display_data",
          "data": {
            "image/png": "[encoded data removed]",
            "text/plain": [
              "<Figure size 720x360 with 1 Axes>"
            ]
          },
          "metadata": {
            "tags": []
          }
        },
        {
          "output_type": "display_data",
          "data": {
            "image/png": "[encoded data removed]",
            "text/plain": [
              "<Figure size 720x360 with 1 Axes>"
            ]
          },
          "metadata": {
            "tags": []
          }
        },
        {
          "output_type": "display_data",
          "data": {
            "image/png": "[encoded data removed]",
            "text/plain": [
              "<Figure size 720x360 with 1 Axes>"
            ]
          },
          "metadata": {
            "tags": []
          }
        }
      ]
    },
    {
      "cell_type": "code",
      "metadata": {
        "id": "sQl68pO38VBU",
        "colab_type": "code",
        "colab": {}
      },
      "source": [
        ""
      ],
      "execution_count": null,
      "outputs": []
    }
  ]
}